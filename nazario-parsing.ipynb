{
 "cells": [
  {
   "cell_type": "markdown",
   "id": "7eafde2a-dd1c-4d84-a24b-ad708b665632",
   "metadata": {
    "tags": []
   },
   "source": [
    "#### Importing relevant packages"
   ]
  },
  {
   "cell_type": "code",
   "execution_count": 5,
   "id": "b453b2ce-e760-46c4-aa58-00183e6a501c",
   "metadata": {
    "tags": []
   },
   "outputs": [],
   "source": [
    "import os\n",
    "import mailbox\n",
    "import pandas as pd\n",
    "from pyspark.sql import SparkSession"
   ]
  },
  {
   "cell_type": "markdown",
   "id": "8c7e687e-7dc1-42b4-8c79-a74f0715d2ab",
   "metadata": {},
   "source": [
    "#### Parsing the nazario phishing corpus dataset\n",
    "We'll be using pySpark to speed up the process.\n"
   ]
  },
  {
   "cell_type": "code",
   "execution_count": 6,
   "id": "09c59d34-8773-4e03-b170-f794324ddc2a",
   "metadata": {
    "tags": []
   },
   "outputs": [],
   "source": [
    "# We'll be using this function to parse an email \n",
    "# into a dict (mail header fields + mail body).\n",
    "def parse_mbox_email(email):\n",
    "    email_dict = {}\n",
    "    email_dict['body'] = email.get_payload()\n",
    "    \n",
    "    for field in email.keys():\n",
    "        value = email.get(field)\n",
    "        email_dict[field] = value\n",
    "    return email_dict"
   ]
  },
  {
   "cell_type": "code",
   "execution_count": 106,
   "id": "d4ed2ec9-6bac-49ee-9813-df95f6ef51ce",
   "metadata": {
    "tags": []
   },
   "outputs": [
    {
     "name": "stderr",
     "output_type": "stream",
     "text": [
      "                                                                                \r"
     ]
    }
   ],
   "source": [
    "# Parsing the files files.\n",
    "directory_path = 'datasets/nazario-phishing-corpus/'\n",
    "mbox_files = [directory_path + f for f in  os.listdir(directory_path) if not f.startswith('.')]\n",
    "spark = SparkSession.builder.appName(\"MboxParser\").getOrCreate()\n",
    "rdd = spark.sparkContext.parallelize(mbox_files).flatMap(lambda file: mailbox.mbox(file))\n",
    "emails = rdd.map(parse_mbox_email).collect()\n",
    "df = pd.DataFrame(emails)\n"
   ]
  },
  {
   "cell_type": "markdown",
   "id": "df697d8d-eccc-489a-b93b-182d53d0f0bc",
   "metadata": {
    "tags": []
   },
   "source": [
    "#### Detecting redundant columns"
   ]
  },
  {
   "cell_type": "code",
   "execution_count": 68,
   "id": "0f5d0fb1-5729-4961-ab22-9796102a0a02",
   "metadata": {
    "tags": []
   },
   "outputs": [
    {
     "name": "stdout",
     "output_type": "stream",
     "text": [
      "From ['From', 'from']\n",
      "Subject ['Subject', 'subject']\n",
      "Message-ID ['Message-ID', 'Message-Id', 'XMessage-Id', 'XMessage-ID', 'X-Message-Id', 'X-Message-ID', 'Message-id']\n",
      "X-IMAP ['X-IMAP', 'X-IP', 'X-UID', 'X-CID', 'X-UMS', 'X-ID', 'X-CSC', 'X-CHA', 'X-TLS', 'X-TMN', 'X-SID', 'X-Uri', 'X-dc', 'X-LCID', 'X-JID', 'X-Org']\n",
      "Status ['Status', 'X-Status']\n",
      "Return-Path ['Return-Path', 'X-Return-Path']\n",
      "X-Original-To ['X-Original-To', 'X-Original-IP']\n",
      "Delivered-To ['Delivered-To', 'X-Delivered-To']\n",
      "Received ['Received', 'X-Received', 'Reveived']\n",
      "Reply-To ['Reply-To', 'Reply-to']\n",
      "To ['To', 'Cc', 'Bcc', 'CC']\n",
      "MIME-Version ['MIME-Version', 'MIME-version']\n",
      "Content-Type ['Content-Type', 'Content-type', 'content-type']\n",
      "X-Priority ['X-Priority', 'Priority']\n",
      "X-Mailer ['X-Mailer', 'X-Mailster', 'X-mailer']\n",
      "X-MSMail-Priority ['X-MSMail-Priority', 'X-MSmail-Priority', 'X-Msmail-Priority']\n",
      "X-Accept-Language ['X-Accept-Language', 'Accept-Language']\n",
      "X-Sender ['X-Sender', 'Sender', 'X-SenderId', 'X-Sendera', 'X-SenderIP']\n",
      "Content-Transfer-Encoding ['Content-Transfer-Encoding', 'Content-transfer-encoding', 'Content-Transfer-encoding', 'content-Transfer-Encoding']\n",
      "Content-Disposition ['Content-Disposition', 'Content-disposition']\n",
      "X-Source ['X-Source', 'X-Source-L']\n",
      "Mime-Version ['Mime-Version', 'Mime-version']\n",
      "Organization ['Organization', 'X-Organization']\n",
      "Resent-From ['Resent-From', 'ReSent-From', 'Resent-from']\n",
      "Resent-Date ['Resent-Date', 'ReSent-Date']\n",
      "Resent-Message-ID ['Resent-Message-ID', 'ReSent-Message-ID', 'Resent-Message-Id']\n",
      "Resent-To ['Resent-To', 'ReSent-To']\n",
      "X-CS-IP ['X-CS-IP', 'X-ME-IP', 'X-MK-ID']\n",
      "X-Who ['X-Who', 'X-What', 'X-When', 'X-Why']\n",
      "X-Originating-IP ['X-Originating-IP', 'X-Originating-Ip']\n",
      "X-Message-Info ['X-Message-Info', '-Message-Info']\n",
      "X-RAV-AntiVirus ['X-RAV-AntiVirus', 'X-RAV-Antivirus', 'X-PAA-AntiVirus']\n",
      "X-AntiVirus ['X-AntiVirus', 'X-Antivirus', 'X-Anti-Virus']\n",
      "Errors-To ['Errors-To', 'Errors-to']\n",
      "Thread-Index ['Thread-Index', 'thread-index']\n",
      "XAuthentication-Warning ['XAuthentication-Warning', 'X-Authentication-Warning']\n",
      "List-Id ['List-Id', 'List-ID', 'List-id']\n",
      "X-Scanned-By ['X-Scanned-By', 'X-Scanned-by']\n",
      "X-TM-AS-Result ['X-TM-AS-Result', 'X-TMASE-Result']\n",
      "Content-Class ['Content-Class', 'Content-class']\n",
      "Content-language ['Content-language', 'Content-Language']\n",
      "X-SMScore ['X-SMScore', 'X-CM-Score', 'X-CMAE-Score']\n",
      "x-spam ['x-spam', 'X-Spam', 'X-Rspam']\n",
      "X-FDA ['X-FDA', 'X-Fid']\n",
      "authentication-results ['authentication-results', 'Authentication-Results']\n",
      "X-MS-Exchange-CrossTenant-id ['X-MS-Exchange-CrossTenant-id', 'X-MS-Exchange-CrossTenant-Id']\n",
      "X-Assp-Version ['X-Assp-Version', 'X-Assp-Session']\n",
      "X-No-Relay ['X-No-Relay', 'X-MC-Relay']\n",
      "x-tm-as-result ['x-tm-as-result', 'x-tmase-result']\n",
      "X-ME-Helo ['X-ME-Helo', 'X-MDHelo']\n",
      "X-CTCH-RefID ['X-CTCH-RefID', 'X-CT-RefID']\n",
      "X-CTCH-Spam ['X-CTCH-Spam', 'X-CT-Spam']\n",
      "X-CTCH-Score ['X-CTCH-Score', 'X-CT-Score']\n",
      "X-SMTP10-MailScanner-Information ['X-SMTP10-MailScanner-Information', 'X-SMTP30-MailScanner-Information', 'X-SMTP33-MailScanner-Information']\n",
      "X-SMTP10-MailScanner ['X-SMTP10-MailScanner', 'X-SMTP30-MailScanner', 'X-SMTP33-MailScanner']\n",
      "X-MDAV-Result ['X-MDAV-Result', 'X-CAV-Result']\n",
      "X-Mailer-LID ['X-Mailer-LID', 'X-Mailer-SID']\n",
      "X-Authenticated_ID ['X-Authenticated_ID', 'X-Authenticated-UID']\n",
      "X-SG-EID ['X-SG-EID', 'X-SG-ID']\n",
      "X-Virus-Checked ['X-Virus-Checked', 'X-VirusChecked']\n",
      "Disposition-Notification-To ['Disposition-Notification-To', 'Disposition-notification-to']\n",
      "Return-Receipt-To ['Return-Receipt-To', 'Return-receipt-to']\n",
      "Sensitivity ['Sensitivity', 'X-Sensitivity']\n",
      "X-Lycos-AS ['X-Lycos-AS', 'X-Lycos-AV']\n",
      "x-locaweb-id ['x-locaweb-id', 'x-locaweb-id2']\n",
      "x-ms-exchange-antispam-messagedata ['x-ms-exchange-antispam-messagedata', 'x-ms-exchange-antispam-messagedata-0']\n"
     ]
    }
   ],
   "source": [
    "import Levenshtein # You'll need to install this package using pip or conda\n",
    "\n",
    "# Define a list of words to cluster\n",
    "words = df.columns\n",
    "\n",
    "# Define a threshold edit distance for clustering\n",
    "threshold = 2\n",
    "\n",
    "# Create an empty dictionary to hold clusters\n",
    "clusters = {}\n",
    "\n",
    "# Iterate over each word in the list\n",
    "for word in words:\n",
    "\n",
    "    # Create an empty list to hold matching clusters\n",
    "    matches = []\n",
    "\n",
    "    # Iterate over each cluster in the dictionary\n",
    "    for cluster in clusters:\n",
    "        # Check if the word is within the threshold edit distance of any word in the cluster\n",
    "        for member in clusters[cluster]:\n",
    "            distance = Levenshtein.distance(word, member)\n",
    "            if distance <= threshold:\n",
    "                matches.append(cluster)\n",
    "                break\n",
    "            \n",
    "    # If the word matches an existing cluster, add it to that cluster\n",
    "    if len(matches) > 0:\n",
    "        clusters[matches[0]].append(word)\n",
    "\n",
    "    # If the word doesn't match any existing clusters, create a new cluster\n",
    "    else:\n",
    "        clusters[word] = [word]\n",
    "        \n",
    "clusters_list = []\n",
    "# Print the resulting clusters\n",
    "for cluster in clusters:\n",
    "    if len(clusters[cluster]) > 1:\n",
    "        print(cluster, clusters[cluster])\n",
    "        clusters_list.append(clusters[cluster])\n"
   ]
  },
  {
   "cell_type": "code",
   "execution_count": 11,
   "id": "8a408fa7-bb53-41b0-b424-ab288c5aa5f5",
   "metadata": {
    "tags": []
   },
   "outputs": [],
   "source": [
    "# import seaborn as sns\n",
    "# import matplotlib.pyplot as plt\n",
    "\n",
    "# for cluster in clusters_list:\n",
    "#     sns.heatmap(df[cluster].isnull(), cmap='viridis')\n",
    "#     plt.show()\n"
   ]
  },
  {
   "cell_type": "code",
   "execution_count": 107,
   "id": "030af1ba-cb94-4bc3-891a-6afc3883fb21",
   "metadata": {
    "tags": []
   },
   "outputs": [
    {
     "name": "stdout",
     "output_type": "stream",
     "text": [
      "from    7172\n",
      "From       5\n",
      "dtype: int64\n",
      "from    4\n",
      "dtype: int64\n"
     ]
    },
    {
     "name": "stderr",
     "output_type": "stream",
     "text": [
      "/tmp/ipykernel_5108/2905223228.py:5: SettingWithCopyWarning: \n",
      "A value is trying to be set on a copy of a slice from a DataFrame.\n",
      "Try using .loc[row_indexer,col_indexer] = value instead\n",
      "\n",
      "See the caveats in the documentation: https://pandas.pydata.org/pandas-docs/stable/user_guide/indexing.html#returning-a-view-versus-a-copy\n",
      "  df2['from'] = df2.apply(lambda row: row['From'] if pd.isnull(row['from']) else row['from'], axis=1)\n"
     ]
    }
   ],
   "source": [
    "df2 = df[['from', 'From']]\n",
    "print(df2.isnull().sum())\n",
    "\n",
    "# Mergin From & from \n",
    "df2['from'] = df2.apply(lambda row: row['From'] if pd.isnull(row['from']) else row['from'], axis=1)\n",
    "# Drop the \"From\" column\n",
    "df2 = df2.drop('From', axis=1)\n",
    "print(df2.isnull().sum())\n"
   ]
  },
  {
   "cell_type": "code",
   "execution_count": 15,
   "id": "fbf27b51-5d21-44e3-93a1-b4b0da99fadf",
   "metadata": {
    "tags": []
   },
   "outputs": [],
   "source": [
    "\n",
    "# mbox = mailbox.mbox(\"datasets/nazario-phishing-corpus/20051114.mbox\")\n",
    "# for m in mbox:\n",
    "#     body = m.get_payload()\n",
    "#     print(body)"
   ]
  },
  {
   "cell_type": "code",
   "execution_count": 58,
   "id": "e9bc15a4-f9b9-485b-a779-02c566357285",
   "metadata": {
    "tags": []
   },
   "outputs": [
    {
     "data": {
      "text/plain": [
       "899"
      ]
     },
     "execution_count": 59,
     "metadata": {},
     "output_type": "execute_result"
    }
   ],
   "source": [
    "empty_cols = [col for col in df.columns if df[col].isnull().sum() >7172]\n",
    "len(empty_cols)\n"
   ]
  },
  {
   "cell_type": "code",
   "execution_count": 92,
   "id": "709e85dc-97a3-4a34-9fbc-2cb84cf32ee6",
   "metadata": {
    "tags": []
   },
   "outputs": [
    {
     "name": "stderr",
     "output_type": "stream",
     "text": [
      "/tmp/ipykernel_5108/332186983.py:2: SettingWithCopyWarning: \n",
      "A value is trying to be set on a copy of a slice from a DataFrame.\n",
      "Try using .loc[row_indexer,col_indexer] = value instead\n",
      "\n",
      "See the caveats in the documentation: https://pandas.pydata.org/pandas-docs/stable/user_guide/indexing.html#returning-a-view-versus-a-copy\n",
      "  df3['Message-ID'] = df3.apply(lambda row: row['Message-Id'] if pd.isnull(row['Message-ID']) else row['Message-ID'], axis=1)\n",
      "/tmp/ipykernel_5108/332186983.py:3: SettingWithCopyWarning: \n",
      "A value is trying to be set on a copy of a slice from a DataFrame.\n",
      "Try using .loc[row_indexer,col_indexer] = value instead\n",
      "\n",
      "See the caveats in the documentation: https://pandas.pydata.org/pandas-docs/stable/user_guide/indexing.html#returning-a-view-versus-a-copy\n",
      "  df3['Message-ID'] = df3.apply(lambda row: row['Message-id'] if pd.isnull(row['Message-ID']) else row['Message-ID'], axis=1)\n"
     ]
    },
    {
     "data": {
      "text/plain": [
       "Message-ID    327\n",
       "dtype: int64"
      ]
     },
     "execution_count": 92,
     "metadata": {},
     "output_type": "execute_result"
    }
   ],
   "source": [
    "df3 = df[['Message-ID', 'Message-Id', 'Message-id']]\n",
    "df3['Message-ID'] = df3.apply(lambda row: row['Message-Id'] if pd.isnull(row['Message-ID']) else row['Message-ID'], axis=1)\n",
    "df3['Message-ID'] = df3.apply(lambda row: row['Message-id'] if pd.isnull(row['Message-ID']) else row['Message-ID'], axis=1)\n",
    "df3 = df3.drop('Message-Id', axis=1)\n",
    "df3 = df3.drop('Message-id', axis=1)\n",
    "\n",
    "df3.isnull().sum()\n"
   ]
  },
  {
   "cell_type": "code",
   "execution_count": 95,
   "id": "6c3b34fd-a362-4d54-8fe7-354ef0bb5ed7",
   "metadata": {
    "tags": []
   },
   "outputs": [
    {
     "data": {
      "text/plain": [
       "Subject      51\n",
       "subject    7172\n",
       "dtype: int64"
      ]
     },
     "execution_count": 95,
     "metadata": {},
     "output_type": "execute_result"
    }
   ],
   "source": [
    "cols = ['Subject', 'subject']\n",
    "df4 = df[cols]\n",
    "\n",
    "df[cols].isnull().sum()"
   ]
  },
  {
   "cell_type": "code",
   "execution_count": 98,
   "id": "be7b8d32-047c-48c3-91fe-2c18b52ef71f",
   "metadata": {
    "tags": []
   },
   "outputs": [
    {
     "name": "stderr",
     "output_type": "stream",
     "text": [
      "/tmp/ipykernel_5108/2726592614.py:2: SettingWithCopyWarning: \n",
      "A value is trying to be set on a copy of a slice from a DataFrame.\n",
      "Try using .loc[row_indexer,col_indexer] = value instead\n",
      "\n",
      "See the caveats in the documentation: https://pandas.pydata.org/pandas-docs/stable/user_guide/indexing.html#returning-a-view-versus-a-copy\n",
      "  df4['subject'] = df4.apply(lambda row: row['Subject'] if pd.isnull(row['subject']) else row['subject'], axis=1)\n"
     ]
    },
    {
     "data": {
      "text/plain": [
       "subject    50\n",
       "dtype: int64"
      ]
     },
     "execution_count": 98,
     "metadata": {},
     "output_type": "execute_result"
    }
   ],
   "source": [
    "df4 = df[['Subject', 'subject']]\n",
    "df4['subject'] = df4.apply(lambda row: row['Subject'] if pd.isnull(row['subject']) else row['subject'], axis=1)\n",
    "df4 = df4.drop('Subject', axis=1)\n",
    "df4.isnull().sum()\n"
   ]
  }
 ],
 "metadata": {
  "kernelspec": {
   "display_name": "pi",
   "language": "python",
   "name": "pi"
  },
  "language_info": {
   "codemirror_mode": {
    "name": "ipython",
    "version": 3
   },
   "file_extension": ".py",
   "mimetype": "text/x-python",
   "name": "python",
   "nbconvert_exporter": "python",
   "pygments_lexer": "ipython3",
   "version": "3.10.9"
  }
 },
 "nbformat": 4,
 "nbformat_minor": 5
}
