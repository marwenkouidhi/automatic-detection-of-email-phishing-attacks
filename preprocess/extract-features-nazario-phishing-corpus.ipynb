{
 "cells": [
  {
   "cell_type": "code",
   "execution_count": 1,
   "metadata": {
    "tags": []
   },
   "outputs": [],
   "source": [
    "import pandas as pd\n",
    "import shutil\n",
    "from os import listdir, mkdir, path\n",
    "from pathlib import Path\n",
    "import sys\n",
    "from email.parser import HeaderParser\n",
    "import collections\n",
    "import matplotlib.pyplot as plt\n",
    "from matplotlib.pyplot import figure\n",
    "import time\n",
    "from collections import Counter\n",
    "import mailbox"
   ]
  },
  {
   "cell_type": "code",
   "execution_count": 2,
   "metadata": {
    "tags": []
   },
   "outputs": [],
   "source": [
    "with open('features.txt', 'r') as f:\n",
    "    columns = [line.strip() for line in f.readlines()]"
   ]
  },
  {
   "cell_type": "code",
   "execution_count": 6,
   "metadata": {
    "tags": []
   },
   "outputs": [],
   "source": [
    "def addEmailsToDict(email_list):\n",
    "    list_of_rows = []\n",
    "    # The label for phishing, set to '2'\n",
    "    label = 2\n",
    "    \n",
    "    # Read the full email content\n",
    "    for email in email_list:\n",
    "        row_dict = {}\n",
    "        # Parse recieved field\n",
    "        received_list = email.get_all('received')\n",
    "        hops = 0\n",
    "        if received_list is not None:\n",
    "            hops = len(received_list)\n",
    "            col_name_recieved = 'received'\n",
    "\n",
    "            for inx, received_field in enumerate(received_list):\n",
    "                col = col_name_recieved + str(inx+1)\n",
    "                row_dict[col] = received_field\n",
    "\n",
    "\n",
    "        # Make everything lowercase to avoid issues\n",
    "        features_lower_case = [x.lower() for x in email.keys()]\n",
    "\n",
    "        # Parse everything else\n",
    "        new_row = dict(zip(features_lower_case, email.values()))\n",
    "        new_row['hops'] = hops\n",
    "        new_row['body'] = email.get_payload(decode=True)\n",
    "\n",
    "\n",
    "        for key,value in new_row.items():\n",
    "            if key in columns:\n",
    "                row_dict['label'] = label\n",
    "                row_dict[key] = value\n",
    "\n",
    "\n",
    "        list_of_rows.append(row_dict)\n",
    "    return list_of_rows\n"
   ]
  },
  {
   "cell_type": "code",
   "execution_count": 4,
   "metadata": {
    "tags": []
   },
   "outputs": [],
   "source": [
    "def main(direcrotry, files):\n",
    "    for file in files:\n",
    "        mboxfile = mailbox.mbox(direcrotry + file)\n",
    "        list_of_rows = addEmailsToDict(mboxfile)\n",
    "        \n",
    "        df = pd.DataFrame(list_of_rows)\n",
    "        final_columns = []\n",
    "        for col in columns:\n",
    "            if col in df.columns:\n",
    "                final_columns.append(col)\n",
    "\n",
    "        df = df[final_columns]\n",
    "\n",
    "        # Output the dataframe to a .csv file\n",
    "        df.to_csv(direcrotry + 'csv/' + file.split('.')[0] + '.csv', index=False)\n"
   ]
  },
  {
   "cell_type": "code",
   "execution_count": 7,
   "metadata": {
    "tags": []
   },
   "outputs": [],
   "source": [
    "directory = '../datasets/nazario-phishing-corpus/'\n",
    "files = [x for x in listdir(directory) if not x.startswith('.') and path.isfile(directory+x) ]\n",
    "main(directory, files)"
   ]
  }
 ],
 "metadata": {
  "kernelspec": {
   "display_name": "pi",
   "language": "python",
   "name": "pi"
  },
  "language_info": {
   "codemirror_mode": {
    "name": "ipython",
    "version": 3
   },
   "file_extension": ".py",
   "mimetype": "text/x-python",
   "name": "python",
   "nbconvert_exporter": "python",
   "pygments_lexer": "ipython3",
   "version": "3.10.9"
  }
 },
 "nbformat": 4,
 "nbformat_minor": 4
}
