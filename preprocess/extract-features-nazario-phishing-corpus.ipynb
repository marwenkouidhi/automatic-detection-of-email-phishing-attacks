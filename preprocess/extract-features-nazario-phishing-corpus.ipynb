{
 "cells": [
  {
   "cell_type": "code",
   "execution_count": 101,
   "metadata": {
    "tags": []
   },
   "outputs": [],
   "source": [
    "import pandas as pd\n",
    "import shutil\n",
    "from os import listdir, mkdir, path\n",
    "from pathlib import Path\n",
    "import sys\n",
    "from email.parser import HeaderParser\n",
    "import collections\n",
    "import matplotlib.pyplot as plt\n",
    "from matplotlib.pyplot import figure\n",
    "import time\n",
    "from collections import Counter\n",
    "import mailbox"
   ]
  },
  {
   "cell_type": "code",
   "execution_count": 102,
   "metadata": {
    "tags": []
   },
   "outputs": [],
   "source": [
    "columns = [ \n",
    "    'received1',\n",
    "    'received2',\n",
    "    'received3',\n",
    "    'received4',\n",
    "    'received5',\n",
    "    'received6',\n",
    "    'received7',\n",
    "    'received8',\n",
    "    'hops',\n",
    "    'subject',\n",
    "    'date',\n",
    "    'message-id',\n",
    "    'from',\n",
    "    'return-path',\n",
    "    'to',\n",
    "    'content-type',\n",
    "    'mime-version',\n",
    "    'x-mailer',\n",
    "    'content-transfer-encoding',\n",
    "    'x-mimeole',\n",
    "    'x-priority',\n",
    "    'list-id',\n",
    "    'lines',\n",
    "    'x-virus-scanned',\n",
    "    'status',\n",
    "    'content-length',\n",
    "    'precedence',\n",
    "    'delivered-to',\n",
    "    'list-unsubscribe',\n",
    "    'list-subscribe',\n",
    "    'list-post',\n",
    "    'list-help',\n",
    "    'x-msmail-priority',\n",
    "    'x-spam-status',\n",
    "    'sender',\n",
    "    'errors-to',\n",
    "    'x-beenthere',\n",
    "    'list-archive',\n",
    "    'reply-to',\n",
    "    'x-mailman-version',\n",
    "    'x-miltered',\n",
    "    'x-uuid',\n",
    "    'x-virus-status',\n",
    "    'x-spam-level',\n",
    "    'x-spam-checker-version',\n",
    "    'references',\n",
    "    'in-reply-to',\n",
    "    'user-agent',\n",
    "    'thread-index',\n",
    "    'cc',\n",
    "    'received-spf',\n",
    "    'x-original-to',\n",
    "    'content-disposition',\n",
    "    'mailing-list',\n",
    "    'x-spam-check-by',\n",
    "    'domainkey-signature',\n",
    "    'importance',\n",
    "    'x-mailing-list',\n",
    "    'body',\n",
    "    'label'\n",
    "]\n",
    "\n"
   ]
  },
  {
   "cell_type": "code",
   "execution_count": 103,
   "metadata": {
    "tags": []
   },
   "outputs": [],
   "source": [
    "def addEmailsToDict(email_list):\n",
    "    list_of_rows = []\n",
    "    # The label for phishing, set to '2'\n",
    "    label = 2\n",
    "    \n",
    "    # Read the full email content\n",
    "    for email in email_list:\n",
    "        row_dict = {}\n",
    "        # Parse recieved field\n",
    "        received_list = email.get_all('received')\n",
    "        hops = 0\n",
    "        if received_list is not None:\n",
    "            hops = len(received_list)\n",
    "            col_name_recieved = 'received'\n",
    "\n",
    "            for inx, received_field in enumerate(received_list):\n",
    "                col = col_name_recieved + str(inx+1)\n",
    "                row_dict[col] = received_field\n",
    "\n",
    "\n",
    "        # Make everything lowercase to avoid issues\n",
    "        features_lower_case = [x.lower() for x in email.keys()]\n",
    "\n",
    "        # Parse everything else\n",
    "        new_row = dict(zip(features_lower_case, email.values()))\n",
    "        new_row['hops'] = hops\n",
    "\n",
    "\n",
    "        for key,value in new_row.items():\n",
    "            if key in columns:\n",
    "                row_dict['label'] = label\n",
    "                row_dict[key] = value\n",
    "\n",
    "\n",
    "        list_of_rows.append(row_dict)\n",
    "    return list_of_rows\n"
   ]
  },
  {
   "cell_type": "code",
   "execution_count": 107,
   "metadata": {
    "tags": []
   },
   "outputs": [],
   "source": [
    "def main(direcrotry, files):\n",
    "    for file in files:\n",
    "        mboxfile = mailbox.mbox(direcrotry + file)\n",
    "        list_of_rows = addEmailsToDict(mboxfile)\n",
    "        \n",
    "        df = pd.DataFrame(list_of_rows)\n",
    "        final_columns = []\n",
    "        for col in columns:\n",
    "            if col in df.columns:\n",
    "                final_columns.append(col)\n",
    "\n",
    "        df = df[final_columns]\n",
    "\n",
    "        # Output the dataframe to a .csv file\n",
    "        df.to_csv(direcrotry + 'csv/' + file.split('.')[0] + '.csv', index=False)\n"
   ]
  },
  {
   "cell_type": "code",
   "execution_count": 108,
   "metadata": {
    "tags": []
   },
   "outputs": [],
   "source": [
    "directory = '../datasets/nazario-phishing-corpus/'\n",
    "files = [x for x in listdir(directory) if not x.startswith('.') and path.isfile(directory+x) ]\n",
    "main(directory, files)"
   ]
  }
 ],
 "metadata": {
  "kernelspec": {
   "display_name": "pi",
   "language": "python",
   "name": "pi"
  },
  "language_info": {
   "codemirror_mode": {
    "name": "ipython",
    "version": 3
   },
   "file_extension": ".py",
   "mimetype": "text/x-python",
   "name": "python",
   "nbconvert_exporter": "python",
   "pygments_lexer": "ipython3",
   "version": "3.10.9"
  }
 },
 "nbformat": 4,
 "nbformat_minor": 4
}
