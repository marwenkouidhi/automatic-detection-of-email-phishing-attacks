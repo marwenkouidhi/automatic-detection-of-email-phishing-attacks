{
 "cells": [
  {
   "cell_type": "markdown",
   "metadata": {},
   "source": [
    "## Importing all necessary packages"
   ]
  },
  {
   "cell_type": "code",
   "execution_count": 26,
   "metadata": {
    "tags": []
   },
   "outputs": [],
   "source": [
    "import pandas as pd\n",
    "import shutil\n",
    "from os import listdir, mkdir, path, remove\n",
    "from pathlib import Path\n",
    "import sys\n",
    "from email.parser import HeaderParser\n",
    "import collections\n",
    "import matplotlib.pyplot as plt\n",
    "from matplotlib.pyplot import figure\n",
    "import time\n",
    "from collections import Counter\n",
    "import mailbox"
   ]
  },
  {
   "cell_type": "code",
   "execution_count": 27,
   "metadata": {
    "tags": []
   },
   "outputs": [],
   "source": [
    "with open('features.txt', 'r') as f:\n",
    "    columns = [line.strip() for line in f.readlines()]"
   ]
  },
  {
   "cell_type": "markdown",
   "metadata": {},
   "source": [
    "## Parsing Mbox files"
   ]
  },
  {
   "cell_type": "code",
   "execution_count": 28,
   "metadata": {
    "tags": []
   },
   "outputs": [],
   "source": [
    "list_of_rows = []\n",
    "\n",
    "def addEmailsToDict(email_list):\n",
    "    global list_of_rows \n",
    "    # The label for phishing, set to '1'\n",
    "    label = 1\n",
    "    \n",
    "    # Read the full email content\n",
    "    for email in email_list:\n",
    "        row_dict = {}\n",
    "        # Parse recieved field\n",
    "        received_list = email.get_all('received')\n",
    "        hops = 0\n",
    "        if received_list is not None:\n",
    "            hops = len(received_list)\n",
    "            col_name_recieved = 'received'\n",
    "\n",
    "            for inx, received_field in enumerate(received_list):\n",
    "                col = col_name_recieved + str(inx+1)\n",
    "                row_dict[col] = received_field\n",
    "\n",
    "\n",
    "        # Make everything lowercase to avoid issues\n",
    "        features_lower_case = [x.lower() for x in email.keys()]\n",
    "\n",
    "        # Parse everything else\n",
    "        new_row = dict(zip(features_lower_case, email.values()))\n",
    "        new_row['hops'] = hops\n",
    "        new_row['body'] = email.get_payload(decode=True)\n",
    "\n",
    "\n",
    "        for key,value in new_row.items():\n",
    "            if key in columns:\n",
    "                row_dict['label'] = label\n",
    "                row_dict[key] = value\n",
    "                \n",
    "        list_of_rows.append(row_dict)\n",
    "    \n",
    "def parseMboxFiles(direcrotry, files):\n",
    "    global list_of_rows\n",
    "    \n",
    "    for file in files:\n",
    "        file_path = direcrotry + file\n",
    "        print(\"parsing \" + file)\n",
    "        mboxfile = mailbox.mbox(file_path)\n",
    "        addEmailsToDict(mboxfile)\n",
    "        \n",
    "    df = pd.DataFrame(list_of_rows)\n",
    "    \n",
    "    final_columns = []\n",
    "    for col in columns:\n",
    "        if col in df.columns:\n",
    "            final_columns.append(col)\n",
    "\n",
    "    df = df[final_columns]\n",
    "\n",
    "    # Output the dataframe to a .csv file\n",
    "    if path.exists(directory + 'csv/nazario-mbox.csv',):\n",
    "        remove(directory + 'csv/nazario-mbox.csv')\n",
    "        df.to_csv(directory + 'csv/nazario-mbox.csv', index=False)\n",
    "        print('dataset was built at: ' + directory + 'csv/nazario-text.csv' )\n",
    "        \n",
    "        \n",
    "    else:\n",
    "        df.to_csv(directory + 'csv/nazario-mbox.csv', index=False)\n",
    "        print('dataset was built at: ' + directory + 'csv/nazario-text.csv' )\n",
    "        \n",
    "\n"
   ]
  },
  {
   "cell_type": "code",
   "execution_count": 29,
   "metadata": {
    "tags": []
   },
   "outputs": [
    {
     "name": "stdout",
     "output_type": "stream",
     "text": [
      "parsing phishing1.mbox\n",
      "parsing phishing3.mbox\n",
      "parsing phishing2.mbox\n",
      "parsing phishing0.mbox\n",
      "parsing 20051114.mbox\n",
      "dataset was built at: ../datasets/nazario-phishing-corpus/csv/nazario-text.csv\n"
     ]
    }
   ],
   "source": [
    "directory = '../datasets/nazario-phishing-corpus/'\n",
    "files = [x for x in listdir(directory) if not x.startswith('.') and x.endswith('.mbox') and path.isfile(directory+x) ]\n",
    "parseMboxFiles(directory, files)"
   ]
  },
  {
   "cell_type": "markdown",
   "metadata": {},
   "source": [
    "## Parsing txt files"
   ]
  },
  {
   "cell_type": "code",
   "execution_count": 30,
   "metadata": {
    "tags": []
   },
   "outputs": [],
   "source": [
    "parser = HeaderParser()\n",
    "list_of_rows = []\n",
    "\n",
    "def addEmailsToDict2(email_list):\n",
    "    global parser, list_of_rows\n",
    "    \n",
    "    # The label for phishing, set to '2'\n",
    "    label = 1\n",
    "    \n",
    "    \n",
    "    # Read the full email content\n",
    "    for email in email_list:\n",
    "        row_dict = {}\n",
    "        \n",
    "        # Parse the email content\n",
    "        h = parser.parsestr(email)\n",
    "\n",
    "        # Parse recieved field\n",
    "        received_list = h.get_all('received')\n",
    "        hops = 0\n",
    "        if received_list is not None:\n",
    "            hops = len(received_list)\n",
    "            col_name_recieved = 'received'\n",
    "\n",
    "            for inx, received_field in enumerate(received_list):\n",
    "                col = col_name_recieved + str(inx+1)\n",
    "                row_dict[col] = received_field\n",
    "\n",
    "\n",
    "        # Make everything lowercase to avoid issues\n",
    "        features_lower_case = [x.lower() for x in h.keys()]\n",
    "\n",
    "        # Parse everything else\n",
    "        new_row = dict(zip(features_lower_case, h.values()))\n",
    "        new_row['hops'] = hops\n",
    "        new_row['body'] = h.get_payload(decode=True)\n",
    "\n",
    "\n",
    "        for key,value in new_row.items():\n",
    "            if key in columns:\n",
    "                row_dict['label'] = label\n",
    "                row_dict[key] = value\n",
    "\n",
    "\n",
    "        list_of_rows.append(row_dict)\n",
    "\n",
    "def parseTextFiles(directory, files):\n",
    "    global list_of_rows\n",
    "    \n",
    "    for file in files:\n",
    "\n",
    "        file_path = directory + file\n",
    "        print(\"parsing \" + file)\n",
    "\n",
    "        # Read the full email content\n",
    "        emailStr = ''\n",
    "        try:\n",
    "            with open(file_path, encoding='latin_1') as emailFile:\n",
    "                for line in emailFile:\n",
    "                    emailStr += line\n",
    "        except UnicodeDecodeError:\n",
    "            print('Unicode Error!')\n",
    "\n",
    "        email_list = emailStr.split('\\nFrom jose@monkey.org')\n",
    "        #print(email_list[1])\n",
    "\n",
    "        addEmailsToDict2(email_list)\n",
    "\n",
    "    # Create the dataframe\n",
    "    df = pd.DataFrame(list_of_rows)\n",
    "\n",
    "    final_columns = []\n",
    "    for col in columns:\n",
    "        if col in df.columns:\n",
    "            final_columns.append(col)\n",
    "\n",
    "    df = df[final_columns]\n",
    "\n",
    "    # Output the dataframe to a .csv file\n",
    "    if path.exists(directory + 'csv/nazario-text.csv'):\n",
    "        remove(directory + 'csv/nazario-text.csv')\n",
    "        df.to_csv(directory + 'csv/nazario-text.csv', index=False)\n",
    "        print('dataset was built at: ' + directory + 'csv/nazario-text.csv' )\n",
    "    else:\n",
    "        df.to_csv(directory + 'csv/nazario-text.csv', index=False)\n",
    "        print('dataset was built at: ' + directory + 'csv/nazario-text.csv' )\n",
    "        \n",
    "\n",
    "\n"
   ]
  },
  {
   "cell_type": "code",
   "execution_count": 31,
   "metadata": {
    "tags": []
   },
   "outputs": [
    {
     "name": "stdout",
     "output_type": "stream",
     "text": [
      "parsing phishing-2018\n",
      "parsing phishing-2015\n",
      "parsing phishing-2016\n",
      "parsing phishing-2017\n",
      "parsing phishing-2019\n",
      "parsing phishing-2020\n",
      "parsing phishing-2021\n",
      "parsing phishing-2022\n",
      "dataset was built at: ../datasets/nazario-phishing-corpus/csv/nazario-text.csv\n"
     ]
    }
   ],
   "source": [
    "directory = '../datasets/nazario-phishing-corpus/'\n",
    "files = [x for x in listdir(directory) if not x.endswith('.mbox') and path.isfile(directory+x)]\n",
    "parseTextFiles(directory, files)"
   ]
  }
 ],
 "metadata": {
  "kernelspec": {
   "display_name": "pi",
   "language": "python",
   "name": "pi"
  },
  "language_info": {
   "codemirror_mode": {
    "name": "ipython",
    "version": 3
   },
   "file_extension": ".py",
   "mimetype": "text/x-python",
   "name": "python",
   "nbconvert_exporter": "python",
   "pygments_lexer": "ipython3",
   "version": "3.10.9"
  }
 },
 "nbformat": 4,
 "nbformat_minor": 4
}
