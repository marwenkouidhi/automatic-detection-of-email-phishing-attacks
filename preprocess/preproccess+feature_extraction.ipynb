{
 "cells": [
  {
   "cell_type": "markdown",
   "id": "472c4b13-3838-41d2-b2ac-c606353cec21",
   "metadata": {
    "tags": []
   },
   "source": [
    "### Importing the dataset"
   ]
  },
  {
   "cell_type": "code",
   "execution_count": 142,
   "id": "f8c69651-7b2a-465a-9e97-0da5b00d5d91",
   "metadata": {
    "tags": []
   },
   "outputs": [],
   "source": [
    "from pymongo import MongoClient\n",
    "import pandas as pd\n",
    "\n",
    "# Connect to MongoDB database\n",
    "client = MongoClient('mongodb://localhost:27017/')\n",
    "db = client['pi']\n",
    "collection = db['emails']\n",
    "\n",
    "# Retrieve data from MongoDB collection\n",
    "data = list(collection.find({}, {\"_id\": 0}))\n",
    "\n",
    "# Convert data to a Pandas DataFrame\n",
    "df = pd.DataFrame(data)\n",
    "\n",
    "# Close MongoDB connection\n",
    "client.close()\n"
   ]
  },
  {
   "cell_type": "code",
   "execution_count": 143,
   "id": "b9c8b6a3-776b-457f-be71-479173173f0c",
   "metadata": {
    "tags": []
   },
   "outputs": [],
   "source": [
    "# Set the display option to show the full content of all columns\n",
    "pd.set_option('display.max_colwidth', None)\n",
    "\n",
    "# Open the 'features.txt' file in read mode, read each line as a string and create the columns list\n",
    "with open('features.txt', 'r') as f:\n",
    "    columns = [line.strip() for line in f.readlines()]\n",
    "\n",
    "# Reindex the DataFrame 'df' using the column names from 'features.txt'\n",
    "df = df.reindex(columns=columns)\n"
   ]
  },
  {
   "cell_type": "code",
   "execution_count": 144,
   "id": "786d67a0-e6c8-45cb-9874-4b40beb60bc9",
   "metadata": {
    "tags": []
   },
   "outputs": [
    {
     "data": {
      "text/html": [
       "<div>\n",
       "<style scoped>\n",
       "    .dataframe tbody tr th:only-of-type {\n",
       "        vertical-align: middle;\n",
       "    }\n",
       "\n",
       "    .dataframe tbody tr th {\n",
       "        vertical-align: top;\n",
       "    }\n",
       "\n",
       "    .dataframe thead th {\n",
       "        text-align: right;\n",
       "    }\n",
       "</style>\n",
       "<table border=\"1\" class=\"dataframe\">\n",
       "  <thead>\n",
       "    <tr style=\"text-align: right;\">\n",
       "      <th></th>\n",
       "      <th>received1</th>\n",
       "      <th>received2</th>\n",
       "      <th>received3</th>\n",
       "      <th>received4</th>\n",
       "      <th>received5</th>\n",
       "      <th>received6</th>\n",
       "      <th>received7</th>\n",
       "      <th>received8</th>\n",
       "      <th>received9</th>\n",
       "      <th>received10</th>\n",
       "      <th>...</th>\n",
       "      <th>received-spf</th>\n",
       "      <th>x-original-to</th>\n",
       "      <th>content-disposition</th>\n",
       "      <th>mailing-list</th>\n",
       "      <th>x-spam-check-by</th>\n",
       "      <th>domainkey-signature</th>\n",
       "      <th>importance</th>\n",
       "      <th>x-mailing-list</th>\n",
       "      <th>body</th>\n",
       "      <th>label</th>\n",
       "    </tr>\n",
       "  </thead>\n",
       "  <tbody>\n",
       "    <tr>\n",
       "      <th>0</th>\n",
       "      <td>NaN</td>\n",
       "      <td>NaN</td>\n",
       "      <td>NaN</td>\n",
       "      <td>NaN</td>\n",
       "      <td>NaN</td>\n",
       "      <td>NaN</td>\n",
       "      <td>NaN</td>\n",
       "      <td>NaN</td>\n",
       "      <td>NaN</td>\n",
       "      <td>NaN</td>\n",
       "      <td>...</td>\n",
       "      <td>NaN</td>\n",
       "      <td>NaN</td>\n",
       "      <td>NaN</td>\n",
       "      <td>NaN</td>\n",
       "      <td>NaN</td>\n",
       "      <td>NaN</td>\n",
       "      <td>NaN</td>\n",
       "      <td>NaN</td>\n",
       "      <td>b'This text is part of the internal format of your mail folder, and is not\\na real message.  It is created automatically by the mail system software.\\nIf deleted, important folder data will be lost, and it will be re-created\\nwith the data reset to initial values.\\n'</td>\n",
       "      <td>1</td>\n",
       "    </tr>\n",
       "    <tr>\n",
       "      <th>1</th>\n",
       "      <td>from mail1.monkey.org (mail1.monkey.org [65.23.81.153])\\n\\tby naughty.monkey.org (Postfix) with ESMTP id A48B3536E6B\\n\\tfor &lt;jose@login.monkey.org&gt;; Tue, 14 Jun 2005 19:52:09 -0400 (EDT)</td>\n",
       "      <td>from calculator (unknown [195.245.214.83])\\n\\tby mail1.monkey.org (Postfix) with ESMTP id 3D12685ACE0\\n\\tfor &lt;jose@monkey.org&gt;; Tue, 14 Jun 2005 19:52:07 -0400 (EDT)</td>\n",
       "      <td>from 216.231.36.64 by ; Fri, 17 Jun 2005 19:52:22 -0500</td>\n",
       "      <td>NaN</td>\n",
       "      <td>NaN</td>\n",
       "      <td>NaN</td>\n",
       "      <td>NaN</td>\n",
       "      <td>NaN</td>\n",
       "      <td>NaN</td>\n",
       "      <td>NaN</td>\n",
       "      <td>...</td>\n",
       "      <td>NaN</td>\n",
       "      <td>jose@login.monkey.org</td>\n",
       "      <td>NaN</td>\n",
       "      <td>NaN</td>\n",
       "      <td>NaN</td>\n",
       "      <td>NaN</td>\n",
       "      <td>NaN</td>\n",
       "      <td>NaN</td>\n",
       "      <td>NaN</td>\n",
       "      <td>1</td>\n",
       "    </tr>\n",
       "    <tr>\n",
       "      <th>2</th>\n",
       "      <td>from mail1.monkey.org (mail1.monkey.org [65.23.81.153])\\n\\tby naughty.monkey.org (Postfix) with ESMTP\\n\\tid 876C1536E9E; Wed, 15 Jun 2005 16:45:29 -0400 (EDT)</td>\n",
       "      <td>from pcp04337700pcs.stclco01.mi.comcast.net (pcp04337700pcs.stclco01.mi.comcast.net [68.60.190.245])\\n\\tby mail1.monkey.org (Postfix) with SMTP id 93B7C85AAD7;\\n\\tWed, 15 Jun 2005 16:45:28 -0400 (EDT)</td>\n",
       "      <td>from [67.38.206.72] by pcp04337700pcs.stclco01.mi.comcast.net SMTP id ylPJMCmIr29065 for &lt;joewee@monkey.org&gt;; Wed, 15 Jun 2005 17:36:17 -0400</td>\n",
       "      <td>NaN</td>\n",
       "      <td>NaN</td>\n",
       "      <td>NaN</td>\n",
       "      <td>NaN</td>\n",
       "      <td>NaN</td>\n",
       "      <td>NaN</td>\n",
       "      <td>NaN</td>\n",
       "      <td>...</td>\n",
       "      <td>NaN</td>\n",
       "      <td>jose@login.monkey.org</td>\n",
       "      <td>NaN</td>\n",
       "      <td>NaN</td>\n",
       "      <td>NaN</td>\n",
       "      <td>NaN</td>\n",
       "      <td>NaN</td>\n",
       "      <td>NaN</td>\n",
       "      <td>NaN</td>\n",
       "      <td>1</td>\n",
       "    </tr>\n",
       "    <tr>\n",
       "      <th>3</th>\n",
       "      <td>from mail1.monkey.org (mail1.monkey.org [65.23.81.153])\\n\\tby naughty.monkey.org (Postfix) with ESMTP id 171B3536E89\\n\\tfor &lt;jose@login.monkey.org&gt;; Wed, 15 Jun 2005 18:56:01 -0400 (EDT)</td>\n",
       "      <td>from c-67-165-254-110.hsd1.co.comcast.net (c-67-165-254-110.hsd1.co.comcast.net [67.165.254.110])\\n\\tby mail1.monkey.org (Postfix) with SMTP id D5BA285ADC3\\n\\tfor &lt;jose@monkey.org&gt;; Wed, 15 Jun 2005 18:55:59 -0400 (EDT)</td>\n",
       "      <td>from [193.23.217.29]\\n\\tby c-67-165-254-110.hsd1.co.comcast.net with SMTP\\n\\tfor &lt;jose@monkey.org&gt;; Thu, 16 Jun 2005 05:49:48 +0600</td>\n",
       "      <td>NaN</td>\n",
       "      <td>NaN</td>\n",
       "      <td>NaN</td>\n",
       "      <td>NaN</td>\n",
       "      <td>NaN</td>\n",
       "      <td>NaN</td>\n",
       "      <td>NaN</td>\n",
       "      <td>...</td>\n",
       "      <td>NaN</td>\n",
       "      <td>jose@login.monkey.org</td>\n",
       "      <td>NaN</td>\n",
       "      <td>NaN</td>\n",
       "      <td>NaN</td>\n",
       "      <td>NaN</td>\n",
       "      <td>NaN</td>\n",
       "      <td>NaN</td>\n",
       "      <td>NaN</td>\n",
       "      <td>1</td>\n",
       "    </tr>\n",
       "    <tr>\n",
       "      <th>4</th>\n",
       "      <td>from mail1.monkey.org (mail1.monkey.org [65.23.81.153])\\n\\tby naughty.monkey.org (Postfix) with ESMTP id 2CE25536E15\\n\\tfor &lt;jose@login.monkey.org&gt;; Thu, 16 Jun 2005 13:33:43 -0400 (EDT)</td>\n",
       "      <td>from mail2.monkey.org (mail2.monkey.org [204.181.64.8])\\n\\tby mail1.monkey.org (Postfix) with ESMTP id 3FFC185AE09\\n\\tfor &lt;jose@monkey.org&gt;; Thu, 16 Jun 2005 13:33:42 -0400 (EDT)</td>\n",
       "      <td>from c-24-22-2-133.hsd1.or.comcast.net (unknown [24.22.2.133])\\n\\tby mail2.monkey.org (Postfix) with SMTP id 1BA5F1836A7\\n\\tfor &lt;jose@monkey.org&gt;; Thu, 16 Jun 2005 13:33:42 -0400 (EDT)</td>\n",
       "      <td>NaN</td>\n",
       "      <td>NaN</td>\n",
       "      <td>NaN</td>\n",
       "      <td>NaN</td>\n",
       "      <td>NaN</td>\n",
       "      <td>NaN</td>\n",
       "      <td>NaN</td>\n",
       "      <td>...</td>\n",
       "      <td>NaN</td>\n",
       "      <td>jose@login.monkey.org</td>\n",
       "      <td>NaN</td>\n",
       "      <td>NaN</td>\n",
       "      <td>NaN</td>\n",
       "      <td>NaN</td>\n",
       "      <td>NaN</td>\n",
       "      <td>NaN</td>\n",
       "      <td>NaN</td>\n",
       "      <td>1</td>\n",
       "    </tr>\n",
       "    <tr>\n",
       "      <th>5</th>\n",
       "      <td>from mail1.monkey.org (mail1.monkey.org [65.23.81.153])\\n\\tby naughty.monkey.org (Postfix) with ESMTP id 05EC4536E8B\\n\\tfor &lt;jose@login.monkey.org&gt;; Thu, 16 Jun 2005 21:55:42 -0400 (EDT)</td>\n",
       "      <td>from mail2.monkey.org (mail2.monkey.org [204.181.64.8])\\n\\tby mail1.monkey.org (Postfix) with ESMTP id B3F0A85A8FE\\n\\tfor &lt;jose@monkey.org&gt;; Thu, 16 Jun 2005 21:55:40 -0400 (EDT)</td>\n",
       "      <td>from 204.181.64.8 (unknown [212.118.17.208])\\n\\tby mail2.monkey.org (Postfix) with SMTP id 9F1A51836A3\\n\\tfor &lt;jose@monkey.org&gt;; Thu, 16 Jun 2005 21:55:39 -0400 (EDT)</td>\n",
       "      <td>from 232.149.143.176 by ; Thu, 24 Mar 2005 18:57:26 +0400</td>\n",
       "      <td>NaN</td>\n",
       "      <td>NaN</td>\n",
       "      <td>NaN</td>\n",
       "      <td>NaN</td>\n",
       "      <td>NaN</td>\n",
       "      <td>NaN</td>\n",
       "      <td>...</td>\n",
       "      <td>NaN</td>\n",
       "      <td>jose@login.monkey.org</td>\n",
       "      <td>NaN</td>\n",
       "      <td>NaN</td>\n",
       "      <td>NaN</td>\n",
       "      <td>NaN</td>\n",
       "      <td>NaN</td>\n",
       "      <td>NaN</td>\n",
       "      <td>NaN</td>\n",
       "      <td>1</td>\n",
       "    </tr>\n",
       "    <tr>\n",
       "      <th>6</th>\n",
       "      <td>from mail1.monkey.org (mail1.monkey.org [65.23.81.153])\\n\\tby naughty.monkey.org (Postfix) with ESMTP\\n\\tid 18E7A536E93; Fri, 17 Jun 2005 05:10:22 -0400 (EDT)</td>\n",
       "      <td>from user-12ld16d.cable.mindspring.com (user-12ld16d.cable.mindspring.com [69.86.132.205])\\n\\tby mail1.monkey.org (Postfix) with SMTP id 43F7C85AE1F;\\n\\tFri, 17 Jun 2005 05:10:13 -0400 (EDT)</td>\n",
       "      <td>from [110.143.50.20] by user-12ld16d.cable.mindspring.com with SMTP for &lt;joewee@monkey.org&gt;; Fri, 17 Jun 2005 11:02:06 +0100</td>\n",
       "      <td>NaN</td>\n",
       "      <td>NaN</td>\n",
       "      <td>NaN</td>\n",
       "      <td>NaN</td>\n",
       "      <td>NaN</td>\n",
       "      <td>NaN</td>\n",
       "      <td>NaN</td>\n",
       "      <td>...</td>\n",
       "      <td>NaN</td>\n",
       "      <td>jose@login.monkey.org</td>\n",
       "      <td>NaN</td>\n",
       "      <td>NaN</td>\n",
       "      <td>NaN</td>\n",
       "      <td>NaN</td>\n",
       "      <td>NaN</td>\n",
       "      <td>NaN</td>\n",
       "      <td>NaN</td>\n",
       "      <td>1</td>\n",
       "    </tr>\n",
       "    <tr>\n",
       "      <th>7</th>\n",
       "      <td>from mail1.monkey.org (mail1.monkey.org [65.23.81.153])\\n\\tby naughty.monkey.org (Postfix) with ESMTP id 50F37536EA4\\n\\tfor &lt;jose@login.monkey.org&gt;; Fri, 17 Jun 2005 07:21:33 -0400 (EDT)</td>\n",
       "      <td>from 65.23.81.153 (unknown [219.159.30.157])\\n\\tby mail1.monkey.org (Postfix) with SMTP id 6865C85AE7B\\n\\tfor &lt;jose@monkey.org&gt;; Fri, 17 Jun 2005 07:21:29 -0400 (EDT)</td>\n",
       "      <td>from [9.21.24.127] by 65.23.81.153 id jeROG0C7W42v for &lt;jose@monkey.org&gt;; Fri, 17 Jun 2005 15:16:18 +0300</td>\n",
       "      <td>NaN</td>\n",
       "      <td>NaN</td>\n",
       "      <td>NaN</td>\n",
       "      <td>NaN</td>\n",
       "      <td>NaN</td>\n",
       "      <td>NaN</td>\n",
       "      <td>NaN</td>\n",
       "      <td>...</td>\n",
       "      <td>NaN</td>\n",
       "      <td>jose@login.monkey.org</td>\n",
       "      <td>NaN</td>\n",
       "      <td>NaN</td>\n",
       "      <td>NaN</td>\n",
       "      <td>NaN</td>\n",
       "      <td>NaN</td>\n",
       "      <td>NaN</td>\n",
       "      <td>NaN</td>\n",
       "      <td>1</td>\n",
       "    </tr>\n",
       "    <tr>\n",
       "      <th>8</th>\n",
       "      <td>from mail1.monkey.org (mail1.monkey.org [65.23.81.153])\\n\\tby naughty.monkey.org (Postfix) with ESMTP id 327DD536EC3\\n\\tfor &lt;jose@login.monkey.org&gt;; Fri, 17 Jun 2005 12:53:48 -0400 (EDT)</td>\n",
       "      <td>from 65.23.81.153 (unknown [61.54.102.94])\\n\\tby mail1.monkey.org (Postfix) with SMTP id D2A6C85A556\\n\\tfor &lt;jose@monkey.org&gt;; Fri, 17 Jun 2005 12:53:44 -0400 (EDT)</td>\n",
       "      <td>from [61.228.126.112] by 65.23.81.153 id FF46236r7423; Fri, 17 Jun 2005 11:43:31 -0600</td>\n",
       "      <td>NaN</td>\n",
       "      <td>NaN</td>\n",
       "      <td>NaN</td>\n",
       "      <td>NaN</td>\n",
       "      <td>NaN</td>\n",
       "      <td>NaN</td>\n",
       "      <td>NaN</td>\n",
       "      <td>...</td>\n",
       "      <td>NaN</td>\n",
       "      <td>jose@login.monkey.org</td>\n",
       "      <td>NaN</td>\n",
       "      <td>NaN</td>\n",
       "      <td>NaN</td>\n",
       "      <td>NaN</td>\n",
       "      <td>NaN</td>\n",
       "      <td>NaN</td>\n",
       "      <td>NaN</td>\n",
       "      <td>1</td>\n",
       "    </tr>\n",
       "    <tr>\n",
       "      <th>9</th>\n",
       "      <td>from mail1.monkey.org (mail1.monkey.org [65.23.81.153])\\n\\tby naughty.monkey.org (Postfix) with ESMTP id 3D295536E22\\n\\tfor &lt;jose@login.monkey.org&gt;; Fri, 17 Jun 2005 16:15:17 -0400 (EDT)</td>\n",
       "      <td>from mail2.monkey.org (mail2.monkey.org [204.181.64.8])\\n\\tby mail1.monkey.org (Postfix) with ESMTP id 2BCBE85AA6F\\n\\tfor &lt;jose@monkey.org&gt;; Fri, 17 Jun 2005 16:15:16 -0400 (EDT)</td>\n",
       "      <td>from smtp1.nix.paypal.com (S0106000c6ebcc574.wp.shawcable.net [24.79.216.169])\\n\\tby mail2.monkey.org (Postfix) with ESMTP id A99031836A6\\n\\tfor &lt;jose@monkey.org&gt;; Fri, 17 Jun 2005 16:15:15 -0400 (EDT)</td>\n",
       "      <td>NaN</td>\n",
       "      <td>NaN</td>\n",
       "      <td>NaN</td>\n",
       "      <td>NaN</td>\n",
       "      <td>NaN</td>\n",
       "      <td>NaN</td>\n",
       "      <td>NaN</td>\n",
       "      <td>...</td>\n",
       "      <td>NaN</td>\n",
       "      <td>jose@login.monkey.org</td>\n",
       "      <td>NaN</td>\n",
       "      <td>NaN</td>\n",
       "      <td>NaN</td>\n",
       "      <td>NaN</td>\n",
       "      <td>NaN</td>\n",
       "      <td>NaN</td>\n",
       "      <td>b'&lt;!DOCTYPE HTML PUBLIC \"-//W3C//DTD HTML 4.01 Transitional//EN\"\\n\"http://www.w3.org/TR/html4/loose.dtd\"&gt;\\n&lt;html&gt;\\n&lt;head&gt;\\n&lt;title&gt;Untitled Document&lt;/title&gt;\\n&lt;meta http-equiv=\"Content-Type\" content=\"text/html; charset=iso-8859-1\"&gt;\\n&lt;/head&gt;\\n\\n&lt;body&gt;\\n\\n&lt;/td&gt;&lt;/tr&gt; \\n&lt;/table&gt; \\n&lt;/form&gt;&lt;/td&gt; \\n&lt;/tr&gt; \\n&lt;/table&gt; \\n&lt;br&gt; \\n\\n\\n&lt;div id=message&gt; \\n&lt;table cellpadding=0 cellspacing=0 border=0 width=\"100%\"\"&gt;&lt;tr&gt;&lt;td&gt; \\n\\n\\n&lt;table cellSpacing=\"0\" cellPadding=\"0\" width=\"600\" align=\"center\" \\nborder=\"0\"&gt; \\n  &lt;tbody&gt; \\n    &lt;tr&gt; \\n      &lt;td&gt;&lt;A target=\"_blank\" \\nhref=\"http://www.ebay.com\"    &gt;&lt;IMG \\nsrc=\"http://pics.ebaystatic.com/aw/pics/navbar/eBayLogoTM.gif\"border=0&gt;&lt;/A&gt;&lt;/td&gt; \\n    &lt;/tr&gt; \\n    &lt;tr&gt; \\n      &lt;td&gt; &lt;/td&gt; \\n    &lt;/tr&gt; \\n    &lt;tr&gt; \\n      &lt;td&gt;&lt;font color=\"#000000\" size=\"3\" face=\"Arial, Helvetica, \\nsans-serif\"&gt;&lt;strong&gt;***Urgent Safeharbor \\nDepartment Notice***&lt;/strong&gt;&lt;/font&gt;&lt;/td&gt; \\n    &lt;/tr&gt; \\n    &lt;tr&gt; \\n      &lt;td&gt; &lt;/td&gt; \\n    &lt;/tr&gt; \\n  &lt;/tbody&gt; \\n&lt;/table&gt; \\n&lt;table cellSpacing=\"0\" cellPadding=\"5\" width=\"600\" align=\"center\" \\nborder=\"0\"&gt; \\n  &lt;tbody&gt; \\n    &lt;tr&gt; \\n      &lt;td height=\"259\" vAlign=\"top\"&gt; &lt;p&gt;              &lt;font size=\"2\" \\nface=\"Arial, Helvetica, \\nsans-serif\"&gt;&lt;strong&gt;eBay Fraud Mediation Request&lt;/strong&gt;&lt;br&gt; \\n            &lt;font size=\"1\" face=\"Verdana, Arial, Helvetica, \\nsans-serif\"&gt;Date: Tue, 7 Jun \\n2005&lt;/font&gt;&lt;/font&gt;&lt;/p&gt; \\n        &lt;p&gt;&lt;font size=\"2\" face=\"Arial, Helvetica, sans-serif\"&gt;You have \\nrecieved this email because you or \\nsomeone had used your account to make fake bids at eBay. For security \\npurposes, we are required to open \\nan investigation into this matter. &lt;/font&gt;&lt;/p&gt; \\n        &lt;p&gt;&lt;font size=\"2\" face=\"Arial, Helvetica, sans-serif\"&gt;          THE \\nFRAUD ALERT ID CODE \\nCONTAINED IN THIS MESSAGE WILL BE ATTACHED IN \\n          OUR FRAUD MEDIATION REQUEST FORM, IN ORDER TO VERIFY YOUR EBAY \\nACCOUNT \\nREGISTRATION INFORMATIONS.&lt;/font&gt;&lt;/p&gt; \\n        &lt;p&gt;&lt;font size=\"2\" face=\"Arial, Helvetica, sans-serif\"&gt;&lt;strong&gt;Fraud \\nAlert ID CODE: \\n00937614&lt;/strong&gt;&lt;br&gt; \\n            &lt;font size=\"1\" face=\"Verdana, Arial, Helvetica, \\nsans-serif\"&gt;(Please save this Fraud Alert ID Code \\nfor your reference.&lt;/font&gt;)&lt;br&gt; \\n          &lt;br&gt; \\n          To help speed up this process, \\n          please access the following form to complete the verification of \\nyour eBay account registration \\ninformations:&lt;/font&gt;&lt;/p&gt; \\n        &lt;p&gt;&lt;strong&gt;&lt;font size=\"2\" face=\"Arial, Helvetica, sans-serif\"&gt;&lt;a href=\"http://80.253.192.38/ebay/\"&gt;http://scgi.ebay.com/verify_id\\xad=ebay \\n&amp;fraud alert id code=00937614&lt;/a&gt;&lt;/font&gt;&lt;/stro\\xadng&gt;&lt;/p&gt; \\n        &lt;table width=\"100%\"  border=\"0\" cellspacing=\"0\" cellpadding=\"0\"&gt; \\n          &lt;tr&gt; \\n            &lt;td&gt;&lt;p&gt;&lt;font size=\"1\"&gt;.&lt;/font&gt;&lt;/p&gt;            &lt;/td&gt; \\n          &lt;/tr&gt; \\n          &lt;tr&gt; \\n            &lt;td&gt;&lt;table width=\"100%\"  border=\"0\"&gt; \\n              &lt;tr&gt; \\n                &lt;td bgcolor=\"#E6E6FF\"&gt;&lt;font size=\"2\" face=\"Arial, Helvetica, \\nsans-serif\"&gt;&lt;strong&gt;Please Note: \\n&lt;/strong&gt;&lt;br&gt; \\n                  If we do not receive the appropriate eBay account \\nverification within 48 hours, then we will \\nassume this eBay account is fraudulent and will be suspended. &lt;br&gt; \\n                  The purpose of this verification is to ensure that your \\neBay account has not been fraudulently \\nused and to combat the fraud from our community.&lt;/font&gt;&lt;/td&gt; \\n              &lt;/tr&gt; \\n            &lt;/table&gt;&lt;/td&gt; \\n          &lt;/tr&gt; \\n        &lt;/table&gt; \\n        &lt;p&gt;&lt;font size=\"2\" face=\"Arial, Helvetica, sans-serif\"&gt;&lt;font \\ncolor=\"#000000\"&gt;We appreciate your \\nsupport and understanding, as we work together to keep eBay a safe place to \\ntrade.&lt;/font&gt;&lt;/font&gt;&lt;font \\ncolor=\"#000000\" size=\"2\" face=\"Arial, Helvetica, sans-serif\"&gt;&lt;BR&gt; \\n          &lt;BR&gt; \\n  Thank you for your patience in this matter.&lt;/font&gt;&lt;/p&gt; \\n        &lt;p align=\"left\"&gt;&lt;font color=\"#000000\" size=\"2\" face=\"Arial, \\nHelvetica, sans-serif\"&gt;Regards, \\nSafeharbor Department (Trust and Safety Department)&lt;br&gt; \\n  eBay Inc.&lt;/font&gt;&lt;font size=\"2\" face=\"Arial, Helvetica, sans-serif\"&gt;&lt;br&gt; \\n          &lt;br&gt; \\n          &lt;font color=\"#999999\" size=\"1\"&gt; Please do not reply to this e-mail \\n            as this is only a notification. Mail sent to this address cannot \\nbe \\n      answered. &lt;/font&gt;&lt;/font&gt;&lt;/p&gt;        &lt;/td&gt; \\n    &lt;/tr&gt; \\n    &lt;tr&gt; \\n      &lt;td align=\"middle\" &gt;&lt;p align=\"center\"&gt;&lt;font color=\"#000000\" size=\"1\" \\nface=\"Arial, \\nHelvetica, sans-serif\"&gt;&lt;Br&gt; \\n          &lt;br&gt; \\n          Copyright \\xa9 2005 eBay Inc. All Rights Reserved. Designated \\ntrademarks and brands are the \\nproperty of their respective owners. eBay and the eBay logo are trademarks \\nof eBay Inc. eBay is located at \\n2145 Hamilton Avenue, San Jose, CA 95125. &lt;/font&gt;&lt;br&gt; \\n        &lt;/p&gt; \\n      &lt;/td&gt; \\n    &lt;/tr&gt; \\n  &lt;/tbody&gt; \\n&lt;/table&gt; \\n\\n\\n&lt;/td&gt;&lt;/tr&gt;&lt;/table&gt; \\n&lt;/div&gt; \\n\\n\\n&lt;/td&gt;&lt;/tr&gt;&lt;/table&gt; \\n\\n\\n&lt;/td&gt;&lt;/tr&gt;&lt;/table&gt; \\n&lt;/div&gt; \\n\\n\\n&lt;/td&gt;&lt;/tr&gt;&lt;/table&gt; \\n\\n\\n&lt;/td&gt;&lt;/tr&gt;&lt;/table&gt; \\n&lt;/div&gt; \\n&lt;/body&gt;\\n&lt;/html&gt;\\n'</td>\n",
       "      <td>1</td>\n",
       "    </tr>\n",
       "  </tbody>\n",
       "</table>\n",
       "<p>10 rows × 68 columns</p>\n",
       "</div>"
      ],
      "text/plain": [
       "                                                                                                                                                                                    received1  \\\n",
       "0                                                                                                                                                                                         NaN   \n",
       "1  from mail1.monkey.org (mail1.monkey.org [65.23.81.153])\\n\\tby naughty.monkey.org (Postfix) with ESMTP id A48B3536E6B\\n\\tfor <jose@login.monkey.org>; Tue, 14 Jun 2005 19:52:09 -0400 (EDT)   \n",
       "2                              from mail1.monkey.org (mail1.monkey.org [65.23.81.153])\\n\\tby naughty.monkey.org (Postfix) with ESMTP\\n\\tid 876C1536E9E; Wed, 15 Jun 2005 16:45:29 -0400 (EDT)   \n",
       "3  from mail1.monkey.org (mail1.monkey.org [65.23.81.153])\\n\\tby naughty.monkey.org (Postfix) with ESMTP id 171B3536E89\\n\\tfor <jose@login.monkey.org>; Wed, 15 Jun 2005 18:56:01 -0400 (EDT)   \n",
       "4  from mail1.monkey.org (mail1.monkey.org [65.23.81.153])\\n\\tby naughty.monkey.org (Postfix) with ESMTP id 2CE25536E15\\n\\tfor <jose@login.monkey.org>; Thu, 16 Jun 2005 13:33:43 -0400 (EDT)   \n",
       "5  from mail1.monkey.org (mail1.monkey.org [65.23.81.153])\\n\\tby naughty.monkey.org (Postfix) with ESMTP id 05EC4536E8B\\n\\tfor <jose@login.monkey.org>; Thu, 16 Jun 2005 21:55:42 -0400 (EDT)   \n",
       "6                              from mail1.monkey.org (mail1.monkey.org [65.23.81.153])\\n\\tby naughty.monkey.org (Postfix) with ESMTP\\n\\tid 18E7A536E93; Fri, 17 Jun 2005 05:10:22 -0400 (EDT)   \n",
       "7  from mail1.monkey.org (mail1.monkey.org [65.23.81.153])\\n\\tby naughty.monkey.org (Postfix) with ESMTP id 50F37536EA4\\n\\tfor <jose@login.monkey.org>; Fri, 17 Jun 2005 07:21:33 -0400 (EDT)   \n",
       "8  from mail1.monkey.org (mail1.monkey.org [65.23.81.153])\\n\\tby naughty.monkey.org (Postfix) with ESMTP id 327DD536EC3\\n\\tfor <jose@login.monkey.org>; Fri, 17 Jun 2005 12:53:48 -0400 (EDT)   \n",
       "9  from mail1.monkey.org (mail1.monkey.org [65.23.81.153])\\n\\tby naughty.monkey.org (Postfix) with ESMTP id 3D295536E22\\n\\tfor <jose@login.monkey.org>; Fri, 17 Jun 2005 16:15:17 -0400 (EDT)   \n",
       "\n",
       "                                                                                                                                                                                                                     received2  \\\n",
       "0                                                                                                                                                                                                                          NaN   \n",
       "1                                                        from calculator (unknown [195.245.214.83])\\n\\tby mail1.monkey.org (Postfix) with ESMTP id 3D12685ACE0\\n\\tfor <jose@monkey.org>; Tue, 14 Jun 2005 19:52:07 -0400 (EDT)   \n",
       "2                     from pcp04337700pcs.stclco01.mi.comcast.net (pcp04337700pcs.stclco01.mi.comcast.net [68.60.190.245])\\n\\tby mail1.monkey.org (Postfix) with SMTP id 93B7C85AAD7;\\n\\tWed, 15 Jun 2005 16:45:28 -0400 (EDT)   \n",
       "3  from c-67-165-254-110.hsd1.co.comcast.net (c-67-165-254-110.hsd1.co.comcast.net [67.165.254.110])\\n\\tby mail1.monkey.org (Postfix) with SMTP id D5BA285ADC3\\n\\tfor <jose@monkey.org>; Wed, 15 Jun 2005 18:55:59 -0400 (EDT)   \n",
       "4                                           from mail2.monkey.org (mail2.monkey.org [204.181.64.8])\\n\\tby mail1.monkey.org (Postfix) with ESMTP id 3FFC185AE09\\n\\tfor <jose@monkey.org>; Thu, 16 Jun 2005 13:33:42 -0400 (EDT)   \n",
       "5                                           from mail2.monkey.org (mail2.monkey.org [204.181.64.8])\\n\\tby mail1.monkey.org (Postfix) with ESMTP id B3F0A85A8FE\\n\\tfor <jose@monkey.org>; Thu, 16 Jun 2005 21:55:40 -0400 (EDT)   \n",
       "6                               from user-12ld16d.cable.mindspring.com (user-12ld16d.cable.mindspring.com [69.86.132.205])\\n\\tby mail1.monkey.org (Postfix) with SMTP id 43F7C85AE1F;\\n\\tFri, 17 Jun 2005 05:10:13 -0400 (EDT)   \n",
       "7                                                       from 65.23.81.153 (unknown [219.159.30.157])\\n\\tby mail1.monkey.org (Postfix) with SMTP id 6865C85AE7B\\n\\tfor <jose@monkey.org>; Fri, 17 Jun 2005 07:21:29 -0400 (EDT)   \n",
       "8                                                         from 65.23.81.153 (unknown [61.54.102.94])\\n\\tby mail1.monkey.org (Postfix) with SMTP id D2A6C85A556\\n\\tfor <jose@monkey.org>; Fri, 17 Jun 2005 12:53:44 -0400 (EDT)   \n",
       "9                                           from mail2.monkey.org (mail2.monkey.org [204.181.64.8])\\n\\tby mail1.monkey.org (Postfix) with ESMTP id 2BCBE85AA6F\\n\\tfor <jose@monkey.org>; Fri, 17 Jun 2005 16:15:16 -0400 (EDT)   \n",
       "\n",
       "                                                                                                                                                                                                   received3  \\\n",
       "0                                                                                                                                                                                                        NaN   \n",
       "1                                                                                                                                                    from 216.231.36.64 by ; Fri, 17 Jun 2005 19:52:22 -0500   \n",
       "2                                                              from [67.38.206.72] by pcp04337700pcs.stclco01.mi.comcast.net SMTP id ylPJMCmIr29065 for <joewee@monkey.org>; Wed, 15 Jun 2005 17:36:17 -0400   \n",
       "3                                                                        from [193.23.217.29]\\n\\tby c-67-165-254-110.hsd1.co.comcast.net with SMTP\\n\\tfor <jose@monkey.org>; Thu, 16 Jun 2005 05:49:48 +0600   \n",
       "4                   from c-24-22-2-133.hsd1.or.comcast.net (unknown [24.22.2.133])\\n\\tby mail2.monkey.org (Postfix) with SMTP id 1BA5F1836A7\\n\\tfor <jose@monkey.org>; Thu, 16 Jun 2005 13:33:42 -0400 (EDT)   \n",
       "5                                     from 204.181.64.8 (unknown [212.118.17.208])\\n\\tby mail2.monkey.org (Postfix) with SMTP id 9F1A51836A3\\n\\tfor <jose@monkey.org>; Thu, 16 Jun 2005 21:55:39 -0400 (EDT)   \n",
       "6                                                                               from [110.143.50.20] by user-12ld16d.cable.mindspring.com with SMTP for <joewee@monkey.org>; Fri, 17 Jun 2005 11:02:06 +0100   \n",
       "7                                                                                                  from [9.21.24.127] by 65.23.81.153 id jeROG0C7W42v for <jose@monkey.org>; Fri, 17 Jun 2005 15:16:18 +0300   \n",
       "8                                                                                                                     from [61.228.126.112] by 65.23.81.153 id FF46236r7423; Fri, 17 Jun 2005 11:43:31 -0600   \n",
       "9  from smtp1.nix.paypal.com (S0106000c6ebcc574.wp.shawcable.net [24.79.216.169])\\n\\tby mail2.monkey.org (Postfix) with ESMTP id A99031836A6\\n\\tfor <jose@monkey.org>; Fri, 17 Jun 2005 16:15:15 -0400 (EDT)   \n",
       "\n",
       "                                                   received4 received5  \\\n",
       "0                                                        NaN       NaN   \n",
       "1                                                        NaN       NaN   \n",
       "2                                                        NaN       NaN   \n",
       "3                                                        NaN       NaN   \n",
       "4                                                        NaN       NaN   \n",
       "5  from 232.149.143.176 by ; Thu, 24 Mar 2005 18:57:26 +0400       NaN   \n",
       "6                                                        NaN       NaN   \n",
       "7                                                        NaN       NaN   \n",
       "8                                                        NaN       NaN   \n",
       "9                                                        NaN       NaN   \n",
       "\n",
       "  received6 received7 received8 received9 received10  ... received-spf  \\\n",
       "0       NaN       NaN       NaN       NaN        NaN  ...          NaN   \n",
       "1       NaN       NaN       NaN       NaN        NaN  ...          NaN   \n",
       "2       NaN       NaN       NaN       NaN        NaN  ...          NaN   \n",
       "3       NaN       NaN       NaN       NaN        NaN  ...          NaN   \n",
       "4       NaN       NaN       NaN       NaN        NaN  ...          NaN   \n",
       "5       NaN       NaN       NaN       NaN        NaN  ...          NaN   \n",
       "6       NaN       NaN       NaN       NaN        NaN  ...          NaN   \n",
       "7       NaN       NaN       NaN       NaN        NaN  ...          NaN   \n",
       "8       NaN       NaN       NaN       NaN        NaN  ...          NaN   \n",
       "9       NaN       NaN       NaN       NaN        NaN  ...          NaN   \n",
       "\n",
       "           x-original-to content-disposition mailing-list x-spam-check-by  \\\n",
       "0                    NaN                 NaN          NaN             NaN   \n",
       "1  jose@login.monkey.org                 NaN          NaN             NaN   \n",
       "2  jose@login.monkey.org                 NaN          NaN             NaN   \n",
       "3  jose@login.monkey.org                 NaN          NaN             NaN   \n",
       "4  jose@login.monkey.org                 NaN          NaN             NaN   \n",
       "5  jose@login.monkey.org                 NaN          NaN             NaN   \n",
       "6  jose@login.monkey.org                 NaN          NaN             NaN   \n",
       "7  jose@login.monkey.org                 NaN          NaN             NaN   \n",
       "8  jose@login.monkey.org                 NaN          NaN             NaN   \n",
       "9  jose@login.monkey.org                 NaN          NaN             NaN   \n",
       "\n",
       "  domainkey-signature  importance x-mailing-list  \\\n",
       "0                 NaN         NaN            NaN   \n",
       "1                 NaN         NaN            NaN   \n",
       "2                 NaN         NaN            NaN   \n",
       "3                 NaN         NaN            NaN   \n",
       "4                 NaN         NaN            NaN   \n",
       "5                 NaN         NaN            NaN   \n",
       "6                 NaN         NaN            NaN   \n",
       "7                 NaN         NaN            NaN   \n",
       "8                 NaN         NaN            NaN   \n",
       "9                 NaN         NaN            NaN   \n",
       "\n",
       "                                                                                                                                                                                                                                                                                                                                                                                                                                                                                                                                                                                                                                                                                                                                                                                                                                                                                                                                                                                                                                                                                                                                                                                                                                                                                                                                                                                                                                                                                                                                                                                                                                                                                                                                                                                                                                                                                                                                                                                                                                                                                                                                                                                                                                                                                                                                                                                                                                                                                                                                                                                                                                                                                                                                                                                                                                                                                                                                                                                                                                                                                                                                                                                                                                                                                                                                                                                                                                                                                                                                                                                                                                                                                                                                                                                                                                                                                                                                                                                                                                                                                                                                                                                                                                                                                                                                                                                                                                                                                                                                                                                                                                                                                                                                                                                                                                                                                                                                                                                                                                                                                                         body  \\\n",
       "0                                                                                                                                                                                                                                                                                                                                                                                                                                                                                                                                                                                                                                                                                                                                                                                                                                                                                                                                                                                                                                                                                                                                                                                                                                                                                                                                                                                                                                                                                                                                                                                                                                                                                                                                                                                                                                                                                                                                                                                                                                                                                                                                                                                                                                                                                                                                                                                                                                                                                                                                                                                                                                                                                                                                                                                                                                                                                                                                                                                                                                                                                                                                                                                                                                                                                                                                                                                                                                                                                                                                                                                                                                                                                                                                                                                                                                                                                                                                                                                                                                                                                                                                                                                                                                                                                                                                                                                                                                                                                                                                                                                                                                                                                                                                                                                                                                 b'This text is part of the internal format of your mail folder, and is not\\na real message.  It is created automatically by the mail system software.\\nIf deleted, important folder data will be lost, and it will be re-created\\nwith the data reset to initial values.\\n'   \n",
       "1                                                                                                                                                                                                                                                                                                                                                                                                                                                                                                                                                                                                                                                                                                                                                                                                                                                                                                                                                                                                                                                                                                                                                                                                                                                                                                                                                                                                                                                                                                                                                                                                                                                                                                                                                                                                                                                                                                                                                                                                                                                                                                                                                                                                                                                                                                                                                                                                                                                                                                                                                                                                                                                                                                                                                                                                                                                                                                                                                                                                                                                                                                                                                                                                                                                                                                                                                                                                                                                                                                                                                                                                                                                                                                                                                                                                                                                                                                                                                                                                                                                                                                                                                                                                                                                                                                                                                                                                                                                                                                                                                                                                                                                                                                                                                                                                                                                                                                                                                                                                                                                                                                         NaN   \n",
       "2                                                                                                                                                                                                                                                                                                                                                                                                                                                                                                                                                                                                                                                                                                                                                                                                                                                                                                                                                                                                                                                                                                                                                                                                                                                                                                                                                                                                                                                                                                                                                                                                                                                                                                                                                                                                                                                                                                                                                                                                                                                                                                                                                                                                                                                                                                                                                                                                                                                                                                                                                                                                                                                                                                                                                                                                                                                                                                                                                                                                                                                                                                                                                                                                                                                                                                                                                                                                                                                                                                                                                                                                                                                                                                                                                                                                                                                                                                                                                                                                                                                                                                                                                                                                                                                                                                                                                                                                                                                                                                                                                                                                                                                                                                                                                                                                                                                                                                                                                                                                                                                                                                         NaN   \n",
       "3                                                                                                                                                                                                                                                                                                                                                                                                                                                                                                                                                                                                                                                                                                                                                                                                                                                                                                                                                                                                                                                                                                                                                                                                                                                                                                                                                                                                                                                                                                                                                                                                                                                                                                                                                                                                                                                                                                                                                                                                                                                                                                                                                                                                                                                                                                                                                                                                                                                                                                                                                                                                                                                                                                                                                                                                                                                                                                                                                                                                                                                                                                                                                                                                                                                                                                                                                                                                                                                                                                                                                                                                                                                                                                                                                                                                                                                                                                                                                                                                                                                                                                                                                                                                                                                                                                                                                                                                                                                                                                                                                                                                                                                                                                                                                                                                                                                                                                                                                                                                                                                                                                         NaN   \n",
       "4                                                                                                                                                                                                                                                                                                                                                                                                                                                                                                                                                                                                                                                                                                                                                                                                                                                                                                                                                                                                                                                                                                                                                                                                                                                                                                                                                                                                                                                                                                                                                                                                                                                                                                                                                                                                                                                                                                                                                                                                                                                                                                                                                                                                                                                                                                                                                                                                                                                                                                                                                                                                                                                                                                                                                                                                                                                                                                                                                                                                                                                                                                                                                                                                                                                                                                                                                                                                                                                                                                                                                                                                                                                                                                                                                                                                                                                                                                                                                                                                                                                                                                                                                                                                                                                                                                                                                                                                                                                                                                                                                                                                                                                                                                                                                                                                                                                                                                                                                                                                                                                                                                         NaN   \n",
       "5                                                                                                                                                                                                                                                                                                                                                                                                                                                                                                                                                                                                                                                                                                                                                                                                                                                                                                                                                                                                                                                                                                                                                                                                                                                                                                                                                                                                                                                                                                                                                                                                                                                                                                                                                                                                                                                                                                                                                                                                                                                                                                                                                                                                                                                                                                                                                                                                                                                                                                                                                                                                                                                                                                                                                                                                                                                                                                                                                                                                                                                                                                                                                                                                                                                                                                                                                                                                                                                                                                                                                                                                                                                                                                                                                                                                                                                                                                                                                                                                                                                                                                                                                                                                                                                                                                                                                                                                                                                                                                                                                                                                                                                                                                                                                                                                                                                                                                                                                                                                                                                                                                         NaN   \n",
       "6                                                                                                                                                                                                                                                                                                                                                                                                                                                                                                                                                                                                                                                                                                                                                                                                                                                                                                                                                                                                                                                                                                                                                                                                                                                                                                                                                                                                                                                                                                                                                                                                                                                                                                                                                                                                                                                                                                                                                                                                                                                                                                                                                                                                                                                                                                                                                                                                                                                                                                                                                                                                                                                                                                                                                                                                                                                                                                                                                                                                                                                                                                                                                                                                                                                                                                                                                                                                                                                                                                                                                                                                                                                                                                                                                                                                                                                                                                                                                                                                                                                                                                                                                                                                                                                                                                                                                                                                                                                                                                                                                                                                                                                                                                                                                                                                                                                                                                                                                                                                                                                                                                         NaN   \n",
       "7                                                                                                                                                                                                                                                                                                                                                                                                                                                                                                                                                                                                                                                                                                                                                                                                                                                                                                                                                                                                                                                                                                                                                                                                                                                                                                                                                                                                                                                                                                                                                                                                                                                                                                                                                                                                                                                                                                                                                                                                                                                                                                                                                                                                                                                                                                                                                                                                                                                                                                                                                                                                                                                                                                                                                                                                                                                                                                                                                                                                                                                                                                                                                                                                                                                                                                                                                                                                                                                                                                                                                                                                                                                                                                                                                                                                                                                                                                                                                                                                                                                                                                                                                                                                                                                                                                                                                                                                                                                                                                                                                                                                                                                                                                                                                                                                                                                                                                                                                                                                                                                                                                         NaN   \n",
       "8                                                                                                                                                                                                                                                                                                                                                                                                                                                                                                                                                                                                                                                                                                                                                                                                                                                                                                                                                                                                                                                                                                                                                                                                                                                                                                                                                                                                                                                                                                                                                                                                                                                                                                                                                                                                                                                                                                                                                                                                                                                                                                                                                                                                                                                                                                                                                                                                                                                                                                                                                                                                                                                                                                                                                                                                                                                                                                                                                                                                                                                                                                                                                                                                                                                                                                                                                                                                                                                                                                                                                                                                                                                                                                                                                                                                                                                                                                                                                                                                                                                                                                                                                                                                                                                                                                                                                                                                                                                                                                                                                                                                                                                                                                                                                                                                                                                                                                                                                                                                                                                                                                         NaN   \n",
       "9  b'<!DOCTYPE HTML PUBLIC \"-//W3C//DTD HTML 4.01 Transitional//EN\"\\n\"http://www.w3.org/TR/html4/loose.dtd\">\\n<html>\\n<head>\\n<title>Untitled Document</title>\\n<meta http-equiv=\"Content-Type\" content=\"text/html; charset=iso-8859-1\">\\n</head>\\n\\n<body>\\n\\n</td></tr> \\n</table> \\n</form></td> \\n</tr> \\n</table> \\n<br> \\n\\n\\n<div id=message> \\n<table cellpadding=0 cellspacing=0 border=0 width=\"100%\"\"><tr><td> \\n\\n\\n<table cellSpacing=\"0\" cellPadding=\"0\" width=\"600\" align=\"center\" \\nborder=\"0\"> \\n  <tbody> \\n    <tr> \\n      <td><A target=\"_blank\" \\nhref=\"http://www.ebay.com\"    ><IMG \\nsrc=\"http://pics.ebaystatic.com/aw/pics/navbar/eBayLogoTM.gif\"border=0></A></td> \\n    </tr> \\n    <tr> \\n      <td> </td> \\n    </tr> \\n    <tr> \\n      <td><font color=\"#000000\" size=\"3\" face=\"Arial, Helvetica, \\nsans-serif\"><strong>***Urgent Safeharbor \\nDepartment Notice***</strong></font></td> \\n    </tr> \\n    <tr> \\n      <td> </td> \\n    </tr> \\n  </tbody> \\n</table> \\n<table cellSpacing=\"0\" cellPadding=\"5\" width=\"600\" align=\"center\" \\nborder=\"0\"> \\n  <tbody> \\n    <tr> \\n      <td height=\"259\" vAlign=\"top\"> <p>              <font size=\"2\" \\nface=\"Arial, Helvetica, \\nsans-serif\"><strong>eBay Fraud Mediation Request</strong><br> \\n            <font size=\"1\" face=\"Verdana, Arial, Helvetica, \\nsans-serif\">Date: Tue, 7 Jun \\n2005</font></font></p> \\n        <p><font size=\"2\" face=\"Arial, Helvetica, sans-serif\">You have \\nrecieved this email because you or \\nsomeone had used your account to make fake bids at eBay. For security \\npurposes, we are required to open \\nan investigation into this matter. </font></p> \\n        <p><font size=\"2\" face=\"Arial, Helvetica, sans-serif\">          THE \\nFRAUD ALERT ID CODE \\nCONTAINED IN THIS MESSAGE WILL BE ATTACHED IN \\n          OUR FRAUD MEDIATION REQUEST FORM, IN ORDER TO VERIFY YOUR EBAY \\nACCOUNT \\nREGISTRATION INFORMATIONS.</font></p> \\n        <p><font size=\"2\" face=\"Arial, Helvetica, sans-serif\"><strong>Fraud \\nAlert ID CODE: \\n00937614</strong><br> \\n            <font size=\"1\" face=\"Verdana, Arial, Helvetica, \\nsans-serif\">(Please save this Fraud Alert ID Code \\nfor your reference.</font>)<br> \\n          <br> \\n          To help speed up this process, \\n          please access the following form to complete the verification of \\nyour eBay account registration \\ninformations:</font></p> \\n        <p><strong><font size=\"2\" face=\"Arial, Helvetica, sans-serif\"><a href=\"http://80.253.192.38/ebay/\">http://scgi.ebay.com/verify_id\\xad=ebay \\n&fraud alert id code=00937614</a></font></stro\\xadng></p> \\n        <table width=\"100%\"  border=\"0\" cellspacing=\"0\" cellpadding=\"0\"> \\n          <tr> \\n            <td><p><font size=\"1\">.</font></p>            </td> \\n          </tr> \\n          <tr> \\n            <td><table width=\"100%\"  border=\"0\"> \\n              <tr> \\n                <td bgcolor=\"#E6E6FF\"><font size=\"2\" face=\"Arial, Helvetica, \\nsans-serif\"><strong>Please Note: \\n</strong><br> \\n                  If we do not receive the appropriate eBay account \\nverification within 48 hours, then we will \\nassume this eBay account is fraudulent and will be suspended. <br> \\n                  The purpose of this verification is to ensure that your \\neBay account has not been fraudulently \\nused and to combat the fraud from our community.</font></td> \\n              </tr> \\n            </table></td> \\n          </tr> \\n        </table> \\n        <p><font size=\"2\" face=\"Arial, Helvetica, sans-serif\"><font \\ncolor=\"#000000\">We appreciate your \\nsupport and understanding, as we work together to keep eBay a safe place to \\ntrade.</font></font><font \\ncolor=\"#000000\" size=\"2\" face=\"Arial, Helvetica, sans-serif\"><BR> \\n          <BR> \\n  Thank you for your patience in this matter.</font></p> \\n        <p align=\"left\"><font color=\"#000000\" size=\"2\" face=\"Arial, \\nHelvetica, sans-serif\">Regards, \\nSafeharbor Department (Trust and Safety Department)<br> \\n  eBay Inc.</font><font size=\"2\" face=\"Arial, Helvetica, sans-serif\"><br> \\n          <br> \\n          <font color=\"#999999\" size=\"1\"> Please do not reply to this e-mail \\n            as this is only a notification. Mail sent to this address cannot \\nbe \\n      answered. </font></font></p>        </td> \\n    </tr> \\n    <tr> \\n      <td align=\"middle\" ><p align=\"center\"><font color=\"#000000\" size=\"1\" \\nface=\"Arial, \\nHelvetica, sans-serif\"><Br> \\n          <br> \\n          Copyright \\xa9 2005 eBay Inc. All Rights Reserved. Designated \\ntrademarks and brands are the \\nproperty of their respective owners. eBay and the eBay logo are trademarks \\nof eBay Inc. eBay is located at \\n2145 Hamilton Avenue, San Jose, CA 95125. </font><br> \\n        </p> \\n      </td> \\n    </tr> \\n  </tbody> \\n</table> \\n\\n\\n</td></tr></table> \\n</div> \\n\\n\\n</td></tr></table> \\n\\n\\n</td></tr></table> \\n</div> \\n\\n\\n</td></tr></table> \\n\\n\\n</td></tr></table> \\n</div> \\n</body>\\n</html>\\n'   \n",
       "\n",
       "  label  \n",
       "0     1  \n",
       "1     1  \n",
       "2     1  \n",
       "3     1  \n",
       "4     1  \n",
       "5     1  \n",
       "6     1  \n",
       "7     1  \n",
       "8     1  \n",
       "9     1  \n",
       "\n",
       "[10 rows x 68 columns]"
      ]
     },
     "execution_count": 144,
     "metadata": {},
     "output_type": "execute_result"
    }
   ],
   "source": [
    "df.head(10)"
   ]
  },
  {
   "cell_type": "markdown",
   "id": "c51583dd-4882-4e13-b23b-9776974be412",
   "metadata": {
    "tags": []
   },
   "source": [
    "### **Basic Information on the Dataset**"
   ]
  },
  {
   "cell_type": "code",
   "execution_count": 145,
   "id": "cc3ee984-bc54-4746-bdf5-975a640b8a2c",
   "metadata": {
    "tags": []
   },
   "outputs": [
    {
     "data": {
      "text/plain": [
       "(32167, 68)"
      ]
     },
     "execution_count": 145,
     "metadata": {},
     "output_type": "execute_result"
    }
   ],
   "source": [
    "df.shape"
   ]
  },
  {
   "cell_type": "code",
   "execution_count": 17,
   "id": "2a0da52c-cdcc-45b1-8a7c-ae46e1e1c15f",
   "metadata": {
    "tags": []
   },
   "outputs": [
    {
     "data": {
      "text/plain": [
       "0    25220\n",
       "1     6947\n",
       "Name: label, dtype: int64"
      ]
     },
     "execution_count": 17,
     "metadata": {},
     "output_type": "execute_result"
    }
   ],
   "source": [
    "df['label'].value_counts()"
   ]
  },
  {
   "cell_type": "code",
   "execution_count": 146,
   "id": "c5d418a4-2aa5-4245-9349-8b5cab217636",
   "metadata": {
    "tags": []
   },
   "outputs": [
    {
     "data": {
      "text/plain": [
       "array(['received1', 'received2', 'received3', 'received4', 'received5',\n",
       "       'received6', 'received7', 'received8', 'received9', 'received10',\n",
       "       'received11', 'received12', 'received13', 'received14',\n",
       "       'received15', 'received16', 'hops', 'subject', 'date',\n",
       "       'message-id', 'from', 'return-path', 'to', 'content-type',\n",
       "       'mime-version', 'x-mailer', 'content-transfer-encoding',\n",
       "       'x-mimeole', 'x-priority', 'list-id', 'lines', 'x-virus-scanned',\n",
       "       'status', 'content-length', 'precedence', 'delivered-to',\n",
       "       'list-unsubscribe', 'list-subscribe', 'list-post', 'list-help',\n",
       "       'x-msmail-priority', 'x-spam-status', 'sender', 'errors-to',\n",
       "       'x-beenthere', 'list-archive', 'reply-to', 'x-mailman-version',\n",
       "       'x-miltered', 'x-uuid', 'x-virus-status', 'x-spam-level',\n",
       "       'x-spam-checker-version', 'references', 'in-reply-to',\n",
       "       'user-agent', 'thread-index', 'cc', 'received-spf',\n",
       "       'x-original-to', 'content-disposition', 'mailing-list',\n",
       "       'x-spam-check-by', 'domainkey-signature', 'importance',\n",
       "       'x-mailing-list', 'body', 'label'], dtype=object)"
      ]
     },
     "execution_count": 146,
     "metadata": {},
     "output_type": "execute_result"
    }
   ],
   "source": [
    "df.columns.values"
   ]
  },
  {
   "cell_type": "code",
   "execution_count": 147,
   "id": "b1a44d14-87c2-434f-9267-b38b5fcea937",
   "metadata": {
    "tags": []
   },
   "outputs": [
    {
     "name": "stdout",
     "output_type": "stream",
     "text": [
      "<class 'pandas.core.frame.DataFrame'>\n",
      "RangeIndex: 32167 entries, 0 to 32166\n",
      "Data columns (total 68 columns):\n",
      " #   Column                     Non-Null Count  Dtype  \n",
      "---  ------                     --------------  -----  \n",
      " 0   received1                  32160 non-null  object \n",
      " 1   received2                  31594 non-null  object \n",
      " 2   received3                  25867 non-null  object \n",
      " 3   received4                  17460 non-null  object \n",
      " 4   received5                  11779 non-null  object \n",
      " 5   received6                  8198 non-null   object \n",
      " 6   received7                  3909 non-null   object \n",
      " 7   received8                  2856 non-null   object \n",
      " 8   received9                  1813 non-null   object \n",
      " 9   received10                 1365 non-null   object \n",
      " 10  received11                 265 non-null    object \n",
      " 11  received12                 118 non-null    object \n",
      " 12  received13                 75 non-null     object \n",
      " 13  received14                 74 non-null     object \n",
      " 14  received15                 74 non-null     object \n",
      " 15  received16                 74 non-null     object \n",
      " 16  hops                       32167 non-null  int64  \n",
      " 17  subject                    32113 non-null  object \n",
      " 18  date                       32167 non-null  object \n",
      " 19  message-id                 31884 non-null  object \n",
      " 20  from                       32167 non-null  object \n",
      " 21  return-path                32160 non-null  object \n",
      " 22  to                         32030 non-null  object \n",
      " 23  content-type               31095 non-null  object \n",
      " 24  mime-version               28041 non-null  object \n",
      " 25  x-mailer                   9115 non-null   object \n",
      " 26  content-transfer-encoding  19349 non-null  object \n",
      " 27  x-mimeole                  4788 non-null   object \n",
      " 28  x-priority                 4611 non-null   object \n",
      " 29  list-id                    19898 non-null  object \n",
      " 30  lines                      8648 non-null   float64\n",
      " 31  x-virus-scanned            8237 non-null   object \n",
      " 32  status                     13185 non-null  object \n",
      " 33  content-length             7999 non-null   float64\n",
      " 34  precedence                 20468 non-null  object \n",
      " 35  delivered-to               17012 non-null  object \n",
      " 36  list-unsubscribe           20147 non-null  object \n",
      " 37  list-subscribe             19953 non-null  object \n",
      " 38  list-post                  19873 non-null  object \n",
      " 39  list-help                  19880 non-null  object \n",
      " 40  x-msmail-priority          3510 non-null   object \n",
      " 41  x-spam-status              18477 non-null  object \n",
      " 42  sender                     14802 non-null  object \n",
      " 43  errors-to                  14297 non-null  object \n",
      " 44  x-beenthere                13952 non-null  object \n",
      " 45  list-archive               13905 non-null  object \n",
      " 46  reply-to                   11185 non-null  object \n",
      " 47  x-mailman-version          13423 non-null  object \n",
      " 48  x-miltered                 18 non-null     object \n",
      " 49  x-uuid                     2 non-null      object \n",
      " 50  x-virus-status             140 non-null    object \n",
      " 51  x-spam-level               2914 non-null   object \n",
      " 52  x-spam-checker-version     13296 non-null  object \n",
      " 53  references                 11556 non-null  object \n",
      " 54  in-reply-to                11451 non-null  object \n",
      " 55  user-agent                 7028 non-null   object \n",
      " 56  thread-index               2597 non-null   object \n",
      " 57  cc                         7479 non-null   object \n",
      " 58  received-spf               4631 non-null   object \n",
      " 59  x-original-to              10683 non-null  object \n",
      " 60  content-disposition        5940 non-null   object \n",
      " 61  mailing-list               4513 non-null   object \n",
      " 62  x-spam-check-by            4503 non-null   object \n",
      " 63  domainkey-signature        2020 non-null   object \n",
      " 64  importance                 1222 non-null   object \n",
      " 65  x-mailing-list             3626 non-null   object \n",
      " 66  body                       29802 non-null  object \n",
      " 67  label                      32167 non-null  int64  \n",
      "dtypes: float64(2), int64(2), object(64)\n",
      "memory usage: 16.7+ MB\n"
     ]
    }
   ],
   "source": [
    "df.info()"
   ]
  },
  {
   "cell_type": "code",
   "execution_count": 148,
   "id": "28e4111a-5366-4066-8650-d33ec23c890c",
   "metadata": {
    "tags": []
   },
   "outputs": [
    {
     "data": {
      "text/plain": [
       "received1              32116\n",
       "received2              31291\n",
       "received3              25708\n",
       "received4              17255\n",
       "received5              11731\n",
       "                       ...  \n",
       "domainkey-signature     1928\n",
       "importance                 7\n",
       "x-mailing-list          1369\n",
       "body                   28686\n",
       "label                      2\n",
       "Length: 68, dtype: int64"
      ]
     },
     "execution_count": 148,
     "metadata": {},
     "output_type": "execute_result"
    }
   ],
   "source": [
    "df.nunique()"
   ]
  },
  {
   "cell_type": "code",
   "execution_count": 149,
   "id": "16e77e3c-38a8-49f4-a900-13dee5dce84a",
   "metadata": {
    "tags": []
   },
   "outputs": [
    {
     "data": {
      "text/html": [
       "<div>\n",
       "<style scoped>\n",
       "    .dataframe tbody tr th:only-of-type {\n",
       "        vertical-align: middle;\n",
       "    }\n",
       "\n",
       "    .dataframe tbody tr th {\n",
       "        vertical-align: top;\n",
       "    }\n",
       "\n",
       "    .dataframe thead th {\n",
       "        text-align: right;\n",
       "    }\n",
       "</style>\n",
       "<table border=\"1\" class=\"dataframe\">\n",
       "  <thead>\n",
       "    <tr style=\"text-align: right;\">\n",
       "      <th></th>\n",
       "      <th>hops</th>\n",
       "      <th>lines</th>\n",
       "      <th>content-length</th>\n",
       "      <th>label</th>\n",
       "    </tr>\n",
       "  </thead>\n",
       "  <tbody>\n",
       "    <tr>\n",
       "      <th>count</th>\n",
       "      <td>32167.000000</td>\n",
       "      <td>8648.000000</td>\n",
       "      <td>7999.000000</td>\n",
       "      <td>32167.000000</td>\n",
       "    </tr>\n",
       "    <tr>\n",
       "      <th>mean</th>\n",
       "      <td>4.280194</td>\n",
       "      <td>122.755666</td>\n",
       "      <td>6442.896612</td>\n",
       "      <td>0.215967</td>\n",
       "    </tr>\n",
       "    <tr>\n",
       "      <th>std</th>\n",
       "      <td>2.176603</td>\n",
       "      <td>268.380027</td>\n",
       "      <td>16857.525565</td>\n",
       "      <td>0.411498</td>\n",
       "    </tr>\n",
       "    <tr>\n",
       "      <th>min</th>\n",
       "      <td>0.000000</td>\n",
       "      <td>0.000000</td>\n",
       "      <td>0.000000</td>\n",
       "      <td>0.000000</td>\n",
       "    </tr>\n",
       "    <tr>\n",
       "      <th>25%</th>\n",
       "      <td>3.000000</td>\n",
       "      <td>27.000000</td>\n",
       "      <td>1056.000000</td>\n",
       "      <td>0.000000</td>\n",
       "    </tr>\n",
       "    <tr>\n",
       "      <th>50%</th>\n",
       "      <td>4.000000</td>\n",
       "      <td>53.000000</td>\n",
       "      <td>2182.000000</td>\n",
       "      <td>0.000000</td>\n",
       "    </tr>\n",
       "    <tr>\n",
       "      <th>75%</th>\n",
       "      <td>6.000000</td>\n",
       "      <td>119.000000</td>\n",
       "      <td>5001.000000</td>\n",
       "      <td>0.000000</td>\n",
       "    </tr>\n",
       "    <tr>\n",
       "      <th>max</th>\n",
       "      <td>16.000000</td>\n",
       "      <td>7657.000000</td>\n",
       "      <td>588529.000000</td>\n",
       "      <td>1.000000</td>\n",
       "    </tr>\n",
       "  </tbody>\n",
       "</table>\n",
       "</div>"
      ],
      "text/plain": [
       "               hops        lines  content-length         label\n",
       "count  32167.000000  8648.000000     7999.000000  32167.000000\n",
       "mean       4.280194   122.755666     6442.896612      0.215967\n",
       "std        2.176603   268.380027    16857.525565      0.411498\n",
       "min        0.000000     0.000000        0.000000      0.000000\n",
       "25%        3.000000    27.000000     1056.000000      0.000000\n",
       "50%        4.000000    53.000000     2182.000000      0.000000\n",
       "75%        6.000000   119.000000     5001.000000      0.000000\n",
       "max       16.000000  7657.000000   588529.000000      1.000000"
      ]
     },
     "execution_count": 149,
     "metadata": {},
     "output_type": "execute_result"
    }
   ],
   "source": [
    "df.describe()"
   ]
  },
  {
   "cell_type": "code",
   "execution_count": 150,
   "id": "a275d67c-7eed-471e-ac7c-21c385d59d75",
   "metadata": {
    "tags": []
   },
   "outputs": [
    {
     "name": "stdout",
     "output_type": "stream",
     "text": [
      "94% of colomns contains missing values\n"
     ]
    }
   ],
   "source": [
    "nan_columnns_nb = len(df.columns[df.isna().any()].tolist())\n",
    "columns_nb = len(df.columns)\n",
    "print(\"%.0f%% of colomns contains missing values\" % (nan_columnns_nb/columns_nb*100))"
   ]
  },
  {
   "cell_type": "code",
   "execution_count": 158,
   "id": "c32b9fb5-d071-4a92-bc7d-eef0358dd350",
   "metadata": {
    "tags": []
   },
   "outputs": [
    {
     "name": "stdout",
     "output_type": "stream",
     "text": [
      "none_nan_columns: hops, date, from, label\n"
     ]
    }
   ],
   "source": [
    "none_nan_columns = ', '.join(df.columns[~df.isna().any()].tolist())\n",
    "print('none_nan_columns: %s' % none_nan_columns)"
   ]
  },
  {
   "cell_type": "markdown",
   "id": "4c6c4791-3346-4c22-8a1e-fd0610787511",
   "metadata": {
    "tags": []
   },
   "source": [
    "## **-------------------- Data Preprocessing --------------------**"
   ]
  },
  {
   "cell_type": "markdown",
   "id": "e7416b8c-01bf-4ea9-a3de-7f21ff6db73a",
   "metadata": {
    "tags": []
   },
   "source": [
    "### Anomaly Detection in Emails using Header Information"
   ]
  },
  {
   "cell_type": "markdown",
   "id": "2e344dbf-a57b-452a-b9ab-d3e0eaa9d134",
   "metadata": {
    "tags": []
   },
   "source": [
    "#### <mark>Initial Setup</mark>"
   ]
  },
  {
   "cell_type": "code",
   "execution_count": 137,
   "id": "3e9b0ed0-7945-47ce-bf7b-123a12da71ad",
   "metadata": {
    "tags": []
   },
   "outputs": [],
   "source": [
    "with open('features.txt') as f:\n",
    "    initial_features_list = [line.strip() for line in f.readlines()]\n",
    "    initial_features_list.remove('label')\n",
    "    initial_features_list.remove('hops')\n",
    "    initial_features_list.remove('body')\n",
    "\n",
    "label_name = 'label'\n",
    "\n",
    "final_features_list = ['hops']"
   ]
  },
  {
   "cell_type": "markdown",
   "id": "faaa6ab7-63c1-4ba2-86f0-5bb49b16325f",
   "metadata": {
    "tags": []
   },
   "source": [
    "####  <mark>Missing Field Based Features</mark>\n",
    "Whether or not a particular header field is present in an email or not.\n",
    "\n",
    "Examples:   \n",
    "- **Missing-Message-ID** : If the Message-ID field is present in the email header, then a value of 0 is given for the feature, otherwise the value of 1 is given."
   ]
  },
  {
   "cell_type": "code",
   "execution_count": 140,
   "id": "0b11f7a1-27a2-4842-9392-119e2d0d849b",
   "metadata": {
    "tags": []
   },
   "outputs": [],
   "source": [
    "missing_feature_list = []\n",
    "\n",
    "for name in initial_features_list:\n",
    "    missing_feature_list.append('missing_' + name)\n",
    "\n",
    "for feature, missing_feature in zip(initial_features_list, missing_feature_list):\n",
    "    df.loc[df[feature].isnull(), missing_feature] = 1\n",
    "    df.loc[~df[feature].isnull(), missing_feature] = 0\n",
    "    \n",
    "final_features_list.extend(missing_feature_names)"
   ]
  },
  {
   "cell_type": "code",
   "execution_count": 141,
   "id": "9d102f01-dcc1-4fac-b2ce-afd14238c9eb",
   "metadata": {
    "tags": []
   },
   "outputs": [
    {
     "data": {
      "text/plain": [
       "(32167, 133)"
      ]
     },
     "execution_count": 141,
     "metadata": {},
     "output_type": "execute_result"
    }
   ],
   "source": [
    "df.shape"
   ]
  },
  {
   "cell_type": "code",
   "execution_count": 89,
   "id": "656d1834-2695-488c-8f8a-29c137a221a2",
   "metadata": {
    "tags": []
   },
   "outputs": [
    {
     "data": {
      "text/plain": [
       "Index(['received1', 'received2', 'received3', 'received4', 'received5',\n",
       "       'received6', 'received7', 'received8', 'received9', 'received10',\n",
       "       'received11', 'received12', 'received13', 'received14', 'received15',\n",
       "       'received16', 'hops', 'subject', 'date', 'message-id', 'from',\n",
       "       'return-path', 'to', 'content-type', 'mime-version', 'x-mailer',\n",
       "       'content-transfer-encoding', 'x-mimeole', 'x-priority', 'list-id',\n",
       "       'lines', 'x-virus-scanned', 'status', 'content-length', 'precedence',\n",
       "       'delivered-to', 'list-unsubscribe', 'list-subscribe', 'list-post',\n",
       "       'list-help', 'x-msmail-priority', 'x-spam-status', 'sender',\n",
       "       'errors-to', 'x-beenthere', 'list-archive', 'reply-to',\n",
       "       'x-mailman-version', 'x-miltered', 'x-uuid', 'x-virus-status',\n",
       "       'x-spam-level', 'x-spam-checker-version', 'references', 'in-reply-to',\n",
       "       'user-agent', 'thread-index', 'cc', 'received-spf', 'x-original-to',\n",
       "       'content-disposition', 'mailing-list', 'x-spam-check-by',\n",
       "       'domainkey-signature', 'importance', 'x-mailing-list', 'body', 'label'],\n",
       "      dtype='object')"
      ]
     },
     "execution_count": 89,
     "metadata": {},
     "output_type": "execute_result"
    }
   ],
   "source": [
    "df.columns"
   ]
  },
  {
   "cell_type": "markdown",
   "id": "76fc492d-6911-4f6e-a952-b0752427ee52",
   "metadata": {
    "jp-MarkdownHeadingCollapsed": true,
    "tags": []
   },
   "source": [
    "#### <mark>Counting Based Features</mark>\n",
    "Using the count of something as a feature.\n",
    "\n",
    "Examples:\n",
    "- **Number of hops**: The number of Received header fields.  \n",
    "- **Number of recipients**: The number of email addresses listed in the To, Cc, or From header fields."
   ]
  },
  {
   "cell_type": "code",
   "execution_count": null,
   "id": "842c2db0-0b34-471e-88f1-f56ce7ae7bda",
   "metadata": {},
   "outputs": [],
   "source": []
  },
  {
   "cell_type": "markdown",
   "id": "9c20f592-4fc6-4a76-9d56-b8e5604ef753",
   "metadata": {
    "jp-MarkdownHeadingCollapsed": true,
    "tags": []
   },
   "source": [
    "#### <mark>External Lookup Based Features</mark>\n",
    "Features that cannot be calculated offline, such as features requiring DNS queries\n",
    "\n",
    "Examples:\n",
    "- IP Address Legality: Checks if the sending host’s IP (which can be found in the first Received field) address exists.\n",
    "- Number of Blacklisted SMTP Servers: Counts how many, if any, of the SMTP servers are blacklisted (based on information in the Received fields)."
   ]
  },
  {
   "cell_type": "code",
   "execution_count": null,
   "id": "4b98850a-4e0c-412a-bca9-fd24a2da6b10",
   "metadata": {},
   "outputs": [],
   "source": []
  },
  {
   "cell_type": "markdown",
   "id": "e65f5027-dd4f-47c5-a356-7271a658840e",
   "metadata": {
    "jp-MarkdownHeadingCollapsed": true,
    "tags": []
   },
   "source": [
    "#### <mark>Header Value Based Features</mark>\n",
    "Extracting the field values directly and using them as a feature, or checking the field values for some condition.\n",
    "\n",
    "Examples:\n",
    "- Time Zone: The time zone listed in the Date field.\n",
    "- Content-Type Content: Whether or not the content type in the ContentType header field is ‘text/html’.\n",
    "- Message-ID Domain: Uses the domain address of the Message-ID header field as a feature."
   ]
  },
  {
   "cell_type": "code",
   "execution_count": null,
   "id": "aaa18ba6-9f18-49ba-b516-f765114854c8",
   "metadata": {},
   "outputs": [],
   "source": []
  },
  {
   "cell_type": "markdown",
   "id": "573c2e05-dd77-48f7-8097-6bc8aaf50921",
   "metadata": {
    "tags": []
   },
   "source": [
    "#### <mark>Comparison Based Features</mark>\n",
    "Comparing two or more header values to one another.\n",
    "\n",
    "Examples:\n",
    "- Similarity between Domain Addresses: Checks whether or not the domain names found in certain header fields (e.g., Message-ID + From; From + ‘from’ part of first Received; From + Return-Path, etc.) are the same or similar.\n",
    "\n",
    "- Received Field Consecutive Domains: Looks at whether or not consecutive Received fields all have a matching ‘from’ and ‘by’ domain. For\n",
    "example, the first Received field’s ‘by’ domain would be matched to the\n",
    "second Received fields ‘from’ domain, and so on for the other Received\n",
    "fields. If one of the pairs does not match, then a value of 0 is assigned\n",
    "for this feature, otherwise, 1."
   ]
  },
  {
   "cell_type": "code",
   "execution_count": null,
   "id": "97bef1e5-6b94-46cf-bc96-61ec863ed7f8",
   "metadata": {
    "tags": []
   },
   "outputs": [],
   "source": []
  },
  {
   "cell_type": "markdown",
   "id": "896adc83-9d72-404a-99e9-0205654bc47c",
   "metadata": {},
   "source": [
    "### Email Body Text Based Classifier"
   ]
  }
 ],
 "metadata": {
  "kernelspec": {
   "display_name": "pi",
   "language": "python",
   "name": "pi"
  },
  "language_info": {
   "codemirror_mode": {
    "name": "ipython",
    "version": 3
   },
   "file_extension": ".py",
   "mimetype": "text/x-python",
   "name": "python",
   "nbconvert_exporter": "python",
   "pygments_lexer": "ipython3",
   "version": "3.10.9"
  }
 },
 "nbformat": 4,
 "nbformat_minor": 5
}
