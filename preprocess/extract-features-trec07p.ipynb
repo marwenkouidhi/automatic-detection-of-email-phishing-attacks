{
 "cells": [
  {
   "cell_type": "code",
   "execution_count": 1,
   "metadata": {
    "tags": []
   },
   "outputs": [],
   "source": [
    "import pandas as pd\n",
    "import shutil\n",
    "from os import listdir, mkdir, path\n",
    "from pathlib import Path\n",
    "import sys\n",
    "from email.parser import HeaderParser\n",
    "import collections\n",
    "import matplotlib.pyplot as plt\n",
    "from matplotlib.pyplot import figure\n",
    "import time\n",
    "from collections import Counter"
   ]
  },
  {
   "cell_type": "code",
   "execution_count": 6,
   "metadata": {
    "tags": []
   },
   "outputs": [
    {
     "name": "stdout",
     "output_type": "stream",
     "text": [
      "dataset was built at: ../datasets/trec07p/trec07p.csv\n"
     ]
    }
   ],
   "source": [
    "parser = HeaderParser()\n",
    "\n",
    "with open('features.txt', 'r') as f:\n",
    "    columns = [line.strip() for line in f.readlines()]\n",
    "list_of_rows = []\n",
    "\n",
    "def getIndexMap(index_path, data_path):\n",
    "    index = {}\n",
    "    with open(index_path, encoding='us-ascii') as index_file:\n",
    "        for i, line in enumerate(index_file):\n",
    "            type = line[0:4]\n",
    "            file_path = line.split('/')[2][:-1]\n",
    "            if type == 'spam':\n",
    "                index[f'{data_path}{file_path}'] = 1\n",
    "            else:\n",
    "                index[f'{data_path}{file_path}'] = 0\n",
    "    return index\n",
    "\n",
    "\n",
    "def addEmailToList(file_path, index):\n",
    "    global parser, list_of_rows\n",
    "    \n",
    "    # The label for the email: ham or spam\n",
    "    label = index[file_path]\n",
    "    hops = 0\n",
    "    emailStr = \"\"\n",
    "    row_dict = {}\n",
    "    \n",
    "    # Read the full email content\n",
    "    try:\n",
    "        with open(file_path, encoding='latin_1') as emailFile:\n",
    "            for line in emailFile:\n",
    "                emailStr += line\n",
    "    except UnicodeDecodeError:\n",
    "        pass\n",
    "    \n",
    "    # Parse the email content\n",
    "    h = parser.parsestr(emailStr)\n",
    "    \n",
    "    # Parse recieved field\n",
    "    received_list = h.get_all('received')\n",
    "    hops = 0\n",
    "    if received_list is not None:\n",
    "        hops = len(received_list)\n",
    "        col_name_recieved = 'received'\n",
    "        \n",
    "        for inx, received_field in enumerate(received_list):\n",
    "            col = col_name_recieved + str(inx+1)\n",
    "            row_dict[col] = received_field\n",
    "\n",
    "    \n",
    "    # Make everything lowercase to avoid issues\n",
    "    features_lower_case = [x.lower() for x in h.keys()]\n",
    "    \n",
    "    # Parse everything else\n",
    "    new_row = dict(zip(features_lower_case, h.values()))\n",
    "    new_row['hops'] = hops\n",
    "    new_row['body'] = h.get_payload(decode=True)\n",
    "    \n",
    "    \n",
    "    for key,value in new_row.items():\n",
    "        if key in columns:\n",
    "            row_dict['label'] = label\n",
    "            row_dict[key] = value\n",
    "    \n",
    "    \n",
    "    list_of_rows.append(row_dict)\n",
    "\n",
    "def main(directory):\n",
    "    global list_of_rows\n",
    "    index = getIndexMap(directory + 'full/index', directory + 'data/')\n",
    "    start_time = time.time()\n",
    "    counter = 0\n",
    "    # Go through each email in the data set\n",
    "    for emailFile in listdir(directory + 'data'):\n",
    "        path = directory + 'data/' + emailFile\n",
    "        addEmailToList(path, index)\n",
    "    \n",
    "    # Create the dataframe\n",
    "    df = pd.DataFrame(list_of_rows)\n",
    "    df = df[columns]\n",
    "    \n",
    "    # Output the dataframe to a .csv file\n",
    "    df.to_csv(directory + 'trec07p.csv', index=False)\n",
    "    print('dataset was built at: ' + directory + 'trec07p.csv' )\n",
    "\n",
    "directory = '../datasets/trec07p/'\n",
    "main(directory)"
   ]
  },
  {
   "cell_type": "code",
   "execution_count": null,
   "metadata": {},
   "outputs": [],
   "source": []
  }
 ],
 "metadata": {
  "kernelspec": {
   "display_name": "pi",
   "language": "python",
   "name": "pi"
  },
  "language_info": {
   "codemirror_mode": {
    "name": "ipython",
    "version": 3
   },
   "file_extension": ".py",
   "mimetype": "text/x-python",
   "name": "python",
   "nbconvert_exporter": "python",
   "pygments_lexer": "ipython3",
   "version": "3.10.9"
  }
 },
 "nbformat": 4,
 "nbformat_minor": 4
}
