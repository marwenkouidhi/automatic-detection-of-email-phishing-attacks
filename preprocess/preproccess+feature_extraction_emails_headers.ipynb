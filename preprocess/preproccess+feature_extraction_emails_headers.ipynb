{
 "cells": [
  {
   "cell_type": "markdown",
   "id": "472c4b13-3838-41d2-b2ac-c606353cec21",
   "metadata": {
    "jp-MarkdownHeadingCollapsed": true,
    "tags": []
   },
   "source": [
    "## **Importing the dataset** \n",
    "___"
   ]
  },
  {
   "cell_type": "code",
   "execution_count": 1,
   "id": "f8c69651-7b2a-465a-9e97-0da5b00d5d91",
   "metadata": {
    "tags": []
   },
   "outputs": [
    {
     "name": "stderr",
     "output_type": "stream",
     "text": [
      "/tmp/ipykernel_3776/493654990.py:22: DtypeWarning: Columns (48,49) have mixed types. Specify dtype option on import or set low_memory=False.\n",
      "  df = pd.read_csv('../datasets/nazario_trec07_headers.csv')\n"
     ]
    }
   ],
   "source": [
    "from pymongo import MongoClient\n",
    "import pandas as pd\n",
    "import numpy as np\n",
    "\n",
    "# # Connect to MongoDB database\n",
    "# client = MongoClient('mongodb://localhost:27017/')\n",
    "# db = client['pidb']\n",
    "# collection = db['emails_headers']\n",
    "\n",
    "# # Retrieve data from MongoDB collection\n",
    "# data = list(collection.find({}, {\"_id\": 0}))\n",
    "\n",
    "# # Convert data to a Pandas DataFrame\n",
    "# df = pd.DataFrame(data)\n",
    "# df = df.replace(np.nan, '', regex=True)\n",
    "\n",
    "\n",
    "# # Close MongoDB connection\n",
    "# client.close()\n",
    "\n",
    "\n",
    "df = pd.read_csv('../datasets/nazario_trec07_headers.csv')\n",
    "df = df.replace(np.nan, '', regex=True)"
   ]
  },
  {
   "cell_type": "code",
   "execution_count": 2,
   "id": "b9c8b6a3-776b-457f-be71-479173173f0c",
   "metadata": {
    "tags": []
   },
   "outputs": [
    {
     "data": {
      "text/html": [
       "<div>\n",
       "<style scoped>\n",
       "    .dataframe tbody tr th:only-of-type {\n",
       "        vertical-align: middle;\n",
       "    }\n",
       "\n",
       "    .dataframe tbody tr th {\n",
       "        vertical-align: top;\n",
       "    }\n",
       "\n",
       "    .dataframe thead th {\n",
       "        text-align: right;\n",
       "    }\n",
       "</style>\n",
       "<table border=\"1\" class=\"dataframe\">\n",
       "  <thead>\n",
       "    <tr style=\"text-align: right;\">\n",
       "      <th></th>\n",
       "      <th>received1</th>\n",
       "      <th>received2</th>\n",
       "      <th>received3</th>\n",
       "      <th>received4</th>\n",
       "      <th>received5</th>\n",
       "      <th>received6</th>\n",
       "      <th>received7</th>\n",
       "      <th>received8</th>\n",
       "      <th>received9</th>\n",
       "      <th>received10</th>\n",
       "      <th>...</th>\n",
       "      <th>cc</th>\n",
       "      <th>received-spf</th>\n",
       "      <th>x-original-to</th>\n",
       "      <th>content-disposition</th>\n",
       "      <th>mailing-list</th>\n",
       "      <th>x-spam-check-by</th>\n",
       "      <th>domainkey-signature</th>\n",
       "      <th>importance</th>\n",
       "      <th>x-mailing-list</th>\n",
       "      <th>label</th>\n",
       "    </tr>\n",
       "  </thead>\n",
       "  <tbody>\n",
       "    <tr>\n",
       "      <th>0</th>\n",
       "      <td></td>\n",
       "      <td></td>\n",
       "      <td></td>\n",
       "      <td></td>\n",
       "      <td></td>\n",
       "      <td></td>\n",
       "      <td></td>\n",
       "      <td></td>\n",
       "      <td></td>\n",
       "      <td></td>\n",
       "      <td>...</td>\n",
       "      <td></td>\n",
       "      <td></td>\n",
       "      <td></td>\n",
       "      <td></td>\n",
       "      <td></td>\n",
       "      <td></td>\n",
       "      <td></td>\n",
       "      <td></td>\n",
       "      <td></td>\n",
       "      <td>1</td>\n",
       "    </tr>\n",
       "    <tr>\n",
       "      <th>1</th>\n",
       "      <td>from mail1.monkey.org (mail1.monkey.org [65.23.81.153])\\n\\tby naughty.monkey.org (Postfix) with ESMTP id A48B3536E6B\\n\\tfor &lt;jose@login.monkey.org&gt;; Tue, 14 Jun 2005 19:52:09 -0400 (EDT)</td>\n",
       "      <td>from calculator (unknown [195.245.214.83])\\n\\tby mail1.monkey.org (Postfix) with ESMTP id 3D12685ACE0\\n\\tfor &lt;jose@monkey.org&gt;; Tue, 14 Jun 2005 19:52:07 -0400 (EDT)</td>\n",
       "      <td>from 216.231.36.64 by ; Fri, 17 Jun 2005 19:52:22 -0500</td>\n",
       "      <td></td>\n",
       "      <td></td>\n",
       "      <td></td>\n",
       "      <td></td>\n",
       "      <td></td>\n",
       "      <td></td>\n",
       "      <td></td>\n",
       "      <td>...</td>\n",
       "      <td></td>\n",
       "      <td></td>\n",
       "      <td>jose@login.monkey.org</td>\n",
       "      <td></td>\n",
       "      <td></td>\n",
       "      <td></td>\n",
       "      <td></td>\n",
       "      <td></td>\n",
       "      <td></td>\n",
       "      <td>1</td>\n",
       "    </tr>\n",
       "    <tr>\n",
       "      <th>2</th>\n",
       "      <td>from mail1.monkey.org (mail1.monkey.org [65.23.81.153])\\n\\tby naughty.monkey.org (Postfix) with ESMTP\\n\\tid 876C1536E9E; Wed, 15 Jun 2005 16:45:29 -0400 (EDT)</td>\n",
       "      <td>from pcp04337700pcs.stclco01.mi.comcast.net (pcp04337700pcs.stclco01.mi.comcast.net [68.60.190.245])\\n\\tby mail1.monkey.org (Postfix) with SMTP id 93B7C85AAD7;\\n\\tWed, 15 Jun 2005 16:45:28 -0400 (EDT)</td>\n",
       "      <td>from [67.38.206.72] by pcp04337700pcs.stclco01.mi.comcast.net SMTP id ylPJMCmIr29065 for &lt;joewee@monkey.org&gt;; Wed, 15 Jun 2005 17:36:17 -0400</td>\n",
       "      <td></td>\n",
       "      <td></td>\n",
       "      <td></td>\n",
       "      <td></td>\n",
       "      <td></td>\n",
       "      <td></td>\n",
       "      <td></td>\n",
       "      <td>...</td>\n",
       "      <td></td>\n",
       "      <td></td>\n",
       "      <td>jose@login.monkey.org</td>\n",
       "      <td></td>\n",
       "      <td></td>\n",
       "      <td></td>\n",
       "      <td></td>\n",
       "      <td></td>\n",
       "      <td></td>\n",
       "      <td>1</td>\n",
       "    </tr>\n",
       "    <tr>\n",
       "      <th>3</th>\n",
       "      <td>from mail1.monkey.org (mail1.monkey.org [65.23.81.153])\\n\\tby naughty.monkey.org (Postfix) with ESMTP id 171B3536E89\\n\\tfor &lt;jose@login.monkey.org&gt;; Wed, 15 Jun 2005 18:56:01 -0400 (EDT)</td>\n",
       "      <td>from c-67-165-254-110.hsd1.co.comcast.net (c-67-165-254-110.hsd1.co.comcast.net [67.165.254.110])\\n\\tby mail1.monkey.org (Postfix) with SMTP id D5BA285ADC3\\n\\tfor &lt;jose@monkey.org&gt;; Wed, 15 Jun 2005 18:55:59 -0400 (EDT)</td>\n",
       "      <td>from [193.23.217.29]\\n\\tby c-67-165-254-110.hsd1.co.comcast.net with SMTP\\n\\tfor &lt;jose@monkey.org&gt;; Thu, 16 Jun 2005 05:49:48 +0600</td>\n",
       "      <td></td>\n",
       "      <td></td>\n",
       "      <td></td>\n",
       "      <td></td>\n",
       "      <td></td>\n",
       "      <td></td>\n",
       "      <td></td>\n",
       "      <td>...</td>\n",
       "      <td></td>\n",
       "      <td></td>\n",
       "      <td>jose@login.monkey.org</td>\n",
       "      <td></td>\n",
       "      <td></td>\n",
       "      <td></td>\n",
       "      <td></td>\n",
       "      <td></td>\n",
       "      <td></td>\n",
       "      <td>1</td>\n",
       "    </tr>\n",
       "    <tr>\n",
       "      <th>4</th>\n",
       "      <td>from mail1.monkey.org (mail1.monkey.org [65.23.81.153])\\n\\tby naughty.monkey.org (Postfix) with ESMTP id 2CE25536E15\\n\\tfor &lt;jose@login.monkey.org&gt;; Thu, 16 Jun 2005 13:33:43 -0400 (EDT)</td>\n",
       "      <td>from mail2.monkey.org (mail2.monkey.org [204.181.64.8])\\n\\tby mail1.monkey.org (Postfix) with ESMTP id 3FFC185AE09\\n\\tfor &lt;jose@monkey.org&gt;; Thu, 16 Jun 2005 13:33:42 -0400 (EDT)</td>\n",
       "      <td>from c-24-22-2-133.hsd1.or.comcast.net (unknown [24.22.2.133])\\n\\tby mail2.monkey.org (Postfix) with SMTP id 1BA5F1836A7\\n\\tfor &lt;jose@monkey.org&gt;; Thu, 16 Jun 2005 13:33:42 -0400 (EDT)</td>\n",
       "      <td></td>\n",
       "      <td></td>\n",
       "      <td></td>\n",
       "      <td></td>\n",
       "      <td></td>\n",
       "      <td></td>\n",
       "      <td></td>\n",
       "      <td>...</td>\n",
       "      <td></td>\n",
       "      <td></td>\n",
       "      <td>jose@login.monkey.org</td>\n",
       "      <td></td>\n",
       "      <td></td>\n",
       "      <td></td>\n",
       "      <td></td>\n",
       "      <td></td>\n",
       "      <td></td>\n",
       "      <td>1</td>\n",
       "    </tr>\n",
       "    <tr>\n",
       "      <th>5</th>\n",
       "      <td>from mail1.monkey.org (mail1.monkey.org [65.23.81.153])\\n\\tby naughty.monkey.org (Postfix) with ESMTP id 05EC4536E8B\\n\\tfor &lt;jose@login.monkey.org&gt;; Thu, 16 Jun 2005 21:55:42 -0400 (EDT)</td>\n",
       "      <td>from mail2.monkey.org (mail2.monkey.org [204.181.64.8])\\n\\tby mail1.monkey.org (Postfix) with ESMTP id B3F0A85A8FE\\n\\tfor &lt;jose@monkey.org&gt;; Thu, 16 Jun 2005 21:55:40 -0400 (EDT)</td>\n",
       "      <td>from 204.181.64.8 (unknown [212.118.17.208])\\n\\tby mail2.monkey.org (Postfix) with SMTP id 9F1A51836A3\\n\\tfor &lt;jose@monkey.org&gt;; Thu, 16 Jun 2005 21:55:39 -0400 (EDT)</td>\n",
       "      <td>from 232.149.143.176 by ; Thu, 24 Mar 2005 18:57:26 +0400</td>\n",
       "      <td></td>\n",
       "      <td></td>\n",
       "      <td></td>\n",
       "      <td></td>\n",
       "      <td></td>\n",
       "      <td></td>\n",
       "      <td>...</td>\n",
       "      <td></td>\n",
       "      <td></td>\n",
       "      <td>jose@login.monkey.org</td>\n",
       "      <td></td>\n",
       "      <td></td>\n",
       "      <td></td>\n",
       "      <td></td>\n",
       "      <td></td>\n",
       "      <td></td>\n",
       "      <td>1</td>\n",
       "    </tr>\n",
       "    <tr>\n",
       "      <th>6</th>\n",
       "      <td>from mail1.monkey.org (mail1.monkey.org [65.23.81.153])\\n\\tby naughty.monkey.org (Postfix) with ESMTP\\n\\tid 18E7A536E93; Fri, 17 Jun 2005 05:10:22 -0400 (EDT)</td>\n",
       "      <td>from user-12ld16d.cable.mindspring.com (user-12ld16d.cable.mindspring.com [69.86.132.205])\\n\\tby mail1.monkey.org (Postfix) with SMTP id 43F7C85AE1F;\\n\\tFri, 17 Jun 2005 05:10:13 -0400 (EDT)</td>\n",
       "      <td>from [110.143.50.20] by user-12ld16d.cable.mindspring.com with SMTP for &lt;joewee@monkey.org&gt;; Fri, 17 Jun 2005 11:02:06 +0100</td>\n",
       "      <td></td>\n",
       "      <td></td>\n",
       "      <td></td>\n",
       "      <td></td>\n",
       "      <td></td>\n",
       "      <td></td>\n",
       "      <td></td>\n",
       "      <td>...</td>\n",
       "      <td></td>\n",
       "      <td></td>\n",
       "      <td>jose@login.monkey.org</td>\n",
       "      <td></td>\n",
       "      <td></td>\n",
       "      <td></td>\n",
       "      <td></td>\n",
       "      <td></td>\n",
       "      <td></td>\n",
       "      <td>1</td>\n",
       "    </tr>\n",
       "    <tr>\n",
       "      <th>7</th>\n",
       "      <td>from mail1.monkey.org (mail1.monkey.org [65.23.81.153])\\n\\tby naughty.monkey.org (Postfix) with ESMTP id 50F37536EA4\\n\\tfor &lt;jose@login.monkey.org&gt;; Fri, 17 Jun 2005 07:21:33 -0400 (EDT)</td>\n",
       "      <td>from 65.23.81.153 (unknown [219.159.30.157])\\n\\tby mail1.monkey.org (Postfix) with SMTP id 6865C85AE7B\\n\\tfor &lt;jose@monkey.org&gt;; Fri, 17 Jun 2005 07:21:29 -0400 (EDT)</td>\n",
       "      <td>from [9.21.24.127] by 65.23.81.153 id jeROG0C7W42v for &lt;jose@monkey.org&gt;; Fri, 17 Jun 2005 15:16:18 +0300</td>\n",
       "      <td></td>\n",
       "      <td></td>\n",
       "      <td></td>\n",
       "      <td></td>\n",
       "      <td></td>\n",
       "      <td></td>\n",
       "      <td></td>\n",
       "      <td>...</td>\n",
       "      <td></td>\n",
       "      <td></td>\n",
       "      <td>jose@login.monkey.org</td>\n",
       "      <td></td>\n",
       "      <td></td>\n",
       "      <td></td>\n",
       "      <td></td>\n",
       "      <td></td>\n",
       "      <td></td>\n",
       "      <td>1</td>\n",
       "    </tr>\n",
       "    <tr>\n",
       "      <th>8</th>\n",
       "      <td>from mail1.monkey.org (mail1.monkey.org [65.23.81.153])\\n\\tby naughty.monkey.org (Postfix) with ESMTP id 327DD536EC3\\n\\tfor &lt;jose@login.monkey.org&gt;; Fri, 17 Jun 2005 12:53:48 -0400 (EDT)</td>\n",
       "      <td>from 65.23.81.153 (unknown [61.54.102.94])\\n\\tby mail1.monkey.org (Postfix) with SMTP id D2A6C85A556\\n\\tfor &lt;jose@monkey.org&gt;; Fri, 17 Jun 2005 12:53:44 -0400 (EDT)</td>\n",
       "      <td>from [61.228.126.112] by 65.23.81.153 id FF46236r7423; Fri, 17 Jun 2005 11:43:31 -0600</td>\n",
       "      <td></td>\n",
       "      <td></td>\n",
       "      <td></td>\n",
       "      <td></td>\n",
       "      <td></td>\n",
       "      <td></td>\n",
       "      <td></td>\n",
       "      <td>...</td>\n",
       "      <td></td>\n",
       "      <td></td>\n",
       "      <td>jose@login.monkey.org</td>\n",
       "      <td></td>\n",
       "      <td></td>\n",
       "      <td></td>\n",
       "      <td></td>\n",
       "      <td></td>\n",
       "      <td></td>\n",
       "      <td>1</td>\n",
       "    </tr>\n",
       "    <tr>\n",
       "      <th>9</th>\n",
       "      <td>from mail1.monkey.org (mail1.monkey.org [65.23.81.153])\\n\\tby naughty.monkey.org (Postfix) with ESMTP id 3D295536E22\\n\\tfor &lt;jose@login.monkey.org&gt;; Fri, 17 Jun 2005 16:15:17 -0400 (EDT)</td>\n",
       "      <td>from mail2.monkey.org (mail2.monkey.org [204.181.64.8])\\n\\tby mail1.monkey.org (Postfix) with ESMTP id 2BCBE85AA6F\\n\\tfor &lt;jose@monkey.org&gt;; Fri, 17 Jun 2005 16:15:16 -0400 (EDT)</td>\n",
       "      <td>from smtp1.nix.paypal.com (S0106000c6ebcc574.wp.shawcable.net [24.79.216.169])\\n\\tby mail2.monkey.org (Postfix) with ESMTP id A99031836A6\\n\\tfor &lt;jose@monkey.org&gt;; Fri, 17 Jun 2005 16:15:15 -0400 (EDT)</td>\n",
       "      <td></td>\n",
       "      <td></td>\n",
       "      <td></td>\n",
       "      <td></td>\n",
       "      <td></td>\n",
       "      <td></td>\n",
       "      <td></td>\n",
       "      <td>...</td>\n",
       "      <td></td>\n",
       "      <td></td>\n",
       "      <td>jose@login.monkey.org</td>\n",
       "      <td></td>\n",
       "      <td></td>\n",
       "      <td></td>\n",
       "      <td></td>\n",
       "      <td></td>\n",
       "      <td></td>\n",
       "      <td>1</td>\n",
       "    </tr>\n",
       "  </tbody>\n",
       "</table>\n",
       "<p>10 rows × 67 columns</p>\n",
       "</div>"
      ],
      "text/plain": [
       "                                                                                                                                                                                    received1  \\\n",
       "0                                                                                                                                                                                               \n",
       "1  from mail1.monkey.org (mail1.monkey.org [65.23.81.153])\\n\\tby naughty.monkey.org (Postfix) with ESMTP id A48B3536E6B\\n\\tfor <jose@login.monkey.org>; Tue, 14 Jun 2005 19:52:09 -0400 (EDT)   \n",
       "2                              from mail1.monkey.org (mail1.monkey.org [65.23.81.153])\\n\\tby naughty.monkey.org (Postfix) with ESMTP\\n\\tid 876C1536E9E; Wed, 15 Jun 2005 16:45:29 -0400 (EDT)   \n",
       "3  from mail1.monkey.org (mail1.monkey.org [65.23.81.153])\\n\\tby naughty.monkey.org (Postfix) with ESMTP id 171B3536E89\\n\\tfor <jose@login.monkey.org>; Wed, 15 Jun 2005 18:56:01 -0400 (EDT)   \n",
       "4  from mail1.monkey.org (mail1.monkey.org [65.23.81.153])\\n\\tby naughty.monkey.org (Postfix) with ESMTP id 2CE25536E15\\n\\tfor <jose@login.monkey.org>; Thu, 16 Jun 2005 13:33:43 -0400 (EDT)   \n",
       "5  from mail1.monkey.org (mail1.monkey.org [65.23.81.153])\\n\\tby naughty.monkey.org (Postfix) with ESMTP id 05EC4536E8B\\n\\tfor <jose@login.monkey.org>; Thu, 16 Jun 2005 21:55:42 -0400 (EDT)   \n",
       "6                              from mail1.monkey.org (mail1.monkey.org [65.23.81.153])\\n\\tby naughty.monkey.org (Postfix) with ESMTP\\n\\tid 18E7A536E93; Fri, 17 Jun 2005 05:10:22 -0400 (EDT)   \n",
       "7  from mail1.monkey.org (mail1.monkey.org [65.23.81.153])\\n\\tby naughty.monkey.org (Postfix) with ESMTP id 50F37536EA4\\n\\tfor <jose@login.monkey.org>; Fri, 17 Jun 2005 07:21:33 -0400 (EDT)   \n",
       "8  from mail1.monkey.org (mail1.monkey.org [65.23.81.153])\\n\\tby naughty.monkey.org (Postfix) with ESMTP id 327DD536EC3\\n\\tfor <jose@login.monkey.org>; Fri, 17 Jun 2005 12:53:48 -0400 (EDT)   \n",
       "9  from mail1.monkey.org (mail1.monkey.org [65.23.81.153])\\n\\tby naughty.monkey.org (Postfix) with ESMTP id 3D295536E22\\n\\tfor <jose@login.monkey.org>; Fri, 17 Jun 2005 16:15:17 -0400 (EDT)   \n",
       "\n",
       "                                                                                                                                                                                                                     received2  \\\n",
       "0                                                                                                                                                                                                                                \n",
       "1                                                        from calculator (unknown [195.245.214.83])\\n\\tby mail1.monkey.org (Postfix) with ESMTP id 3D12685ACE0\\n\\tfor <jose@monkey.org>; Tue, 14 Jun 2005 19:52:07 -0400 (EDT)   \n",
       "2                     from pcp04337700pcs.stclco01.mi.comcast.net (pcp04337700pcs.stclco01.mi.comcast.net [68.60.190.245])\\n\\tby mail1.monkey.org (Postfix) with SMTP id 93B7C85AAD7;\\n\\tWed, 15 Jun 2005 16:45:28 -0400 (EDT)   \n",
       "3  from c-67-165-254-110.hsd1.co.comcast.net (c-67-165-254-110.hsd1.co.comcast.net [67.165.254.110])\\n\\tby mail1.monkey.org (Postfix) with SMTP id D5BA285ADC3\\n\\tfor <jose@monkey.org>; Wed, 15 Jun 2005 18:55:59 -0400 (EDT)   \n",
       "4                                           from mail2.monkey.org (mail2.monkey.org [204.181.64.8])\\n\\tby mail1.monkey.org (Postfix) with ESMTP id 3FFC185AE09\\n\\tfor <jose@monkey.org>; Thu, 16 Jun 2005 13:33:42 -0400 (EDT)   \n",
       "5                                           from mail2.monkey.org (mail2.monkey.org [204.181.64.8])\\n\\tby mail1.monkey.org (Postfix) with ESMTP id B3F0A85A8FE\\n\\tfor <jose@monkey.org>; Thu, 16 Jun 2005 21:55:40 -0400 (EDT)   \n",
       "6                               from user-12ld16d.cable.mindspring.com (user-12ld16d.cable.mindspring.com [69.86.132.205])\\n\\tby mail1.monkey.org (Postfix) with SMTP id 43F7C85AE1F;\\n\\tFri, 17 Jun 2005 05:10:13 -0400 (EDT)   \n",
       "7                                                       from 65.23.81.153 (unknown [219.159.30.157])\\n\\tby mail1.monkey.org (Postfix) with SMTP id 6865C85AE7B\\n\\tfor <jose@monkey.org>; Fri, 17 Jun 2005 07:21:29 -0400 (EDT)   \n",
       "8                                                         from 65.23.81.153 (unknown [61.54.102.94])\\n\\tby mail1.monkey.org (Postfix) with SMTP id D2A6C85A556\\n\\tfor <jose@monkey.org>; Fri, 17 Jun 2005 12:53:44 -0400 (EDT)   \n",
       "9                                           from mail2.monkey.org (mail2.monkey.org [204.181.64.8])\\n\\tby mail1.monkey.org (Postfix) with ESMTP id 2BCBE85AA6F\\n\\tfor <jose@monkey.org>; Fri, 17 Jun 2005 16:15:16 -0400 (EDT)   \n",
       "\n",
       "                                                                                                                                                                                                   received3  \\\n",
       "0                                                                                                                                                                                                              \n",
       "1                                                                                                                                                    from 216.231.36.64 by ; Fri, 17 Jun 2005 19:52:22 -0500   \n",
       "2                                                              from [67.38.206.72] by pcp04337700pcs.stclco01.mi.comcast.net SMTP id ylPJMCmIr29065 for <joewee@monkey.org>; Wed, 15 Jun 2005 17:36:17 -0400   \n",
       "3                                                                        from [193.23.217.29]\\n\\tby c-67-165-254-110.hsd1.co.comcast.net with SMTP\\n\\tfor <jose@monkey.org>; Thu, 16 Jun 2005 05:49:48 +0600   \n",
       "4                   from c-24-22-2-133.hsd1.or.comcast.net (unknown [24.22.2.133])\\n\\tby mail2.monkey.org (Postfix) with SMTP id 1BA5F1836A7\\n\\tfor <jose@monkey.org>; Thu, 16 Jun 2005 13:33:42 -0400 (EDT)   \n",
       "5                                     from 204.181.64.8 (unknown [212.118.17.208])\\n\\tby mail2.monkey.org (Postfix) with SMTP id 9F1A51836A3\\n\\tfor <jose@monkey.org>; Thu, 16 Jun 2005 21:55:39 -0400 (EDT)   \n",
       "6                                                                               from [110.143.50.20] by user-12ld16d.cable.mindspring.com with SMTP for <joewee@monkey.org>; Fri, 17 Jun 2005 11:02:06 +0100   \n",
       "7                                                                                                  from [9.21.24.127] by 65.23.81.153 id jeROG0C7W42v for <jose@monkey.org>; Fri, 17 Jun 2005 15:16:18 +0300   \n",
       "8                                                                                                                     from [61.228.126.112] by 65.23.81.153 id FF46236r7423; Fri, 17 Jun 2005 11:43:31 -0600   \n",
       "9  from smtp1.nix.paypal.com (S0106000c6ebcc574.wp.shawcable.net [24.79.216.169])\\n\\tby mail2.monkey.org (Postfix) with ESMTP id A99031836A6\\n\\tfor <jose@monkey.org>; Fri, 17 Jun 2005 16:15:15 -0400 (EDT)   \n",
       "\n",
       "                                                   received4 received5  \\\n",
       "0                                                                        \n",
       "1                                                                        \n",
       "2                                                                        \n",
       "3                                                                        \n",
       "4                                                                        \n",
       "5  from 232.149.143.176 by ; Thu, 24 Mar 2005 18:57:26 +0400             \n",
       "6                                                                        \n",
       "7                                                                        \n",
       "8                                                                        \n",
       "9                                                                        \n",
       "\n",
       "  received6 received7 received8 received9 received10  ... cc received-spf  \\\n",
       "0                                                     ...                   \n",
       "1                                                     ...                   \n",
       "2                                                     ...                   \n",
       "3                                                     ...                   \n",
       "4                                                     ...                   \n",
       "5                                                     ...                   \n",
       "6                                                     ...                   \n",
       "7                                                     ...                   \n",
       "8                                                     ...                   \n",
       "9                                                     ...                   \n",
       "\n",
       "           x-original-to content-disposition mailing-list x-spam-check-by  \\\n",
       "0                                                                           \n",
       "1  jose@login.monkey.org                                                    \n",
       "2  jose@login.monkey.org                                                    \n",
       "3  jose@login.monkey.org                                                    \n",
       "4  jose@login.monkey.org                                                    \n",
       "5  jose@login.monkey.org                                                    \n",
       "6  jose@login.monkey.org                                                    \n",
       "7  jose@login.monkey.org                                                    \n",
       "8  jose@login.monkey.org                                                    \n",
       "9  jose@login.monkey.org                                                    \n",
       "\n",
       "   domainkey-signature importance x-mailing-list label  \n",
       "0                                                    1  \n",
       "1                                                    1  \n",
       "2                                                    1  \n",
       "3                                                    1  \n",
       "4                                                    1  \n",
       "5                                                    1  \n",
       "6                                                    1  \n",
       "7                                                    1  \n",
       "8                                                    1  \n",
       "9                                                    1  \n",
       "\n",
       "[10 rows x 67 columns]"
      ]
     },
     "execution_count": 2,
     "metadata": {},
     "output_type": "execute_result"
    }
   ],
   "source": [
    "# Set the display option to show the full content of all columns\n",
    "pd.set_option('display.max_colwidth', None)\n",
    "df.head(10)"
   ]
  },
  {
   "cell_type": "markdown",
   "id": "c51583dd-4882-4e13-b23b-9776974be412",
   "metadata": {
    "jp-MarkdownHeadingCollapsed": true,
    "tags": []
   },
   "source": [
    "\n",
    "## **Basic Information on the Dataset**\n",
    "---------------\t"
   ]
  },
  {
   "cell_type": "code",
   "execution_count": 3,
   "id": "cc3ee984-bc54-4746-bdf5-975a640b8a2c",
   "metadata": {
    "tags": []
   },
   "outputs": [
    {
     "data": {
      "text/plain": [
       "(32167, 67)"
      ]
     },
     "execution_count": 3,
     "metadata": {},
     "output_type": "execute_result"
    }
   ],
   "source": [
    "df.shape"
   ]
  },
  {
   "cell_type": "code",
   "execution_count": 4,
   "id": "2a0da52c-cdcc-45b1-8a7c-ae46e1e1c15f",
   "metadata": {
    "tags": []
   },
   "outputs": [
    {
     "data": {
      "text/plain": [
       "0    25220\n",
       "1     6947\n",
       "Name: label, dtype: int64"
      ]
     },
     "execution_count": 4,
     "metadata": {},
     "output_type": "execute_result"
    }
   ],
   "source": [
    "df['label'].value_counts()"
   ]
  },
  {
   "cell_type": "code",
   "execution_count": 5,
   "id": "c5d418a4-2aa5-4245-9349-8b5cab217636",
   "metadata": {
    "tags": []
   },
   "outputs": [
    {
     "data": {
      "text/plain": [
       "array(['received1', 'received2', 'received3', 'received4', 'received5',\n",
       "       'received6', 'received7', 'received8', 'received9', 'received10',\n",
       "       'received11', 'received12', 'received13', 'received14',\n",
       "       'received15', 'received16', 'hops', 'subject', 'date',\n",
       "       'message-id', 'from', 'return-path', 'to', 'content-type',\n",
       "       'mime-version', 'x-mailer', 'content-transfer-encoding',\n",
       "       'x-mimeole', 'x-priority', 'list-id', 'lines', 'x-virus-scanned',\n",
       "       'status', 'content-length', 'precedence', 'delivered-to',\n",
       "       'list-unsubscribe', 'list-subscribe', 'list-post', 'list-help',\n",
       "       'x-msmail-priority', 'x-spam-status', 'sender', 'errors-to',\n",
       "       'x-beenthere', 'list-archive', 'reply-to', 'x-mailman-version',\n",
       "       'x-miltered', 'x-uuid', 'x-virus-status', 'x-spam-level',\n",
       "       'x-spam-checker-version', 'references', 'in-reply-to',\n",
       "       'user-agent', 'thread-index', 'cc', 'received-spf',\n",
       "       'x-original-to', 'content-disposition', 'mailing-list',\n",
       "       'x-spam-check-by', 'domainkey-signature', 'importance',\n",
       "       'x-mailing-list', 'label'], dtype=object)"
      ]
     },
     "execution_count": 5,
     "metadata": {},
     "output_type": "execute_result"
    }
   ],
   "source": [
    "df.columns.values"
   ]
  },
  {
   "cell_type": "code",
   "execution_count": 6,
   "id": "b1a44d14-87c2-434f-9267-b38b5fcea937",
   "metadata": {
    "tags": []
   },
   "outputs": [
    {
     "name": "stdout",
     "output_type": "stream",
     "text": [
      "<class 'pandas.core.frame.DataFrame'>\n",
      "RangeIndex: 32167 entries, 0 to 32166\n",
      "Data columns (total 67 columns):\n",
      " #   Column                     Non-Null Count  Dtype \n",
      "---  ------                     --------------  ----- \n",
      " 0   received1                  32167 non-null  object\n",
      " 1   received2                  32167 non-null  object\n",
      " 2   received3                  32167 non-null  object\n",
      " 3   received4                  32167 non-null  object\n",
      " 4   received5                  32167 non-null  object\n",
      " 5   received6                  32167 non-null  object\n",
      " 6   received7                  32167 non-null  object\n",
      " 7   received8                  32167 non-null  object\n",
      " 8   received9                  32167 non-null  object\n",
      " 9   received10                 32167 non-null  object\n",
      " 10  received11                 32167 non-null  object\n",
      " 11  received12                 32167 non-null  object\n",
      " 12  received13                 32167 non-null  object\n",
      " 13  received14                 32167 non-null  object\n",
      " 14  received15                 32167 non-null  object\n",
      " 15  received16                 32167 non-null  object\n",
      " 16  hops                       32167 non-null  int64 \n",
      " 17  subject                    32167 non-null  object\n",
      " 18  date                       32167 non-null  object\n",
      " 19  message-id                 32167 non-null  object\n",
      " 20  from                       32167 non-null  object\n",
      " 21  return-path                32167 non-null  object\n",
      " 22  to                         32167 non-null  object\n",
      " 23  content-type               32167 non-null  object\n",
      " 24  mime-version               32167 non-null  object\n",
      " 25  x-mailer                   32167 non-null  object\n",
      " 26  content-transfer-encoding  32167 non-null  object\n",
      " 27  x-mimeole                  32167 non-null  object\n",
      " 28  x-priority                 32167 non-null  object\n",
      " 29  list-id                    32167 non-null  object\n",
      " 30  lines                      32167 non-null  object\n",
      " 31  x-virus-scanned            32167 non-null  object\n",
      " 32  status                     32167 non-null  object\n",
      " 33  content-length             32167 non-null  object\n",
      " 34  precedence                 32167 non-null  object\n",
      " 35  delivered-to               32167 non-null  object\n",
      " 36  list-unsubscribe           32167 non-null  object\n",
      " 37  list-subscribe             32167 non-null  object\n",
      " 38  list-post                  32167 non-null  object\n",
      " 39  list-help                  32167 non-null  object\n",
      " 40  x-msmail-priority          32167 non-null  object\n",
      " 41  x-spam-status              32167 non-null  object\n",
      " 42  sender                     32167 non-null  object\n",
      " 43  errors-to                  32167 non-null  object\n",
      " 44  x-beenthere                32167 non-null  object\n",
      " 45  list-archive               32167 non-null  object\n",
      " 46  reply-to                   32167 non-null  object\n",
      " 47  x-mailman-version          32167 non-null  object\n",
      " 48  x-miltered                 32167 non-null  object\n",
      " 49  x-uuid                     32167 non-null  object\n",
      " 50  x-virus-status             32167 non-null  object\n",
      " 51  x-spam-level               32167 non-null  object\n",
      " 52  x-spam-checker-version     32167 non-null  object\n",
      " 53  references                 32167 non-null  object\n",
      " 54  in-reply-to                32167 non-null  object\n",
      " 55  user-agent                 32167 non-null  object\n",
      " 56  thread-index               32167 non-null  object\n",
      " 57  cc                         32167 non-null  object\n",
      " 58  received-spf               32167 non-null  object\n",
      " 59  x-original-to              32167 non-null  object\n",
      " 60  content-disposition        32167 non-null  object\n",
      " 61  mailing-list               32167 non-null  object\n",
      " 62  x-spam-check-by            32167 non-null  object\n",
      " 63  domainkey-signature        32167 non-null  object\n",
      " 64  importance                 32167 non-null  object\n",
      " 65  x-mailing-list             32167 non-null  object\n",
      " 66  label                      32167 non-null  int64 \n",
      "dtypes: int64(2), object(65)\n",
      "memory usage: 16.4+ MB\n"
     ]
    }
   ],
   "source": [
    "df.info()"
   ]
  },
  {
   "cell_type": "code",
   "execution_count": 7,
   "id": "28e4111a-5366-4066-8650-d33ec23c890c",
   "metadata": {
    "tags": []
   },
   "outputs": [
    {
     "data": {
      "text/plain": [
       "received1              32117\n",
       "received2              31292\n",
       "received3              25709\n",
       "received4              17256\n",
       "received5              11732\n",
       "                       ...  \n",
       "x-spam-check-by            2\n",
       "domainkey-signature     1929\n",
       "importance                 8\n",
       "x-mailing-list          1370\n",
       "label                      2\n",
       "Length: 67, dtype: int64"
      ]
     },
     "execution_count": 7,
     "metadata": {},
     "output_type": "execute_result"
    }
   ],
   "source": [
    "df.nunique()"
   ]
  },
  {
   "cell_type": "code",
   "execution_count": 8,
   "id": "16e77e3c-38a8-49f4-a900-13dee5dce84a",
   "metadata": {
    "tags": []
   },
   "outputs": [
    {
     "data": {
      "text/html": [
       "<div>\n",
       "<style scoped>\n",
       "    .dataframe tbody tr th:only-of-type {\n",
       "        vertical-align: middle;\n",
       "    }\n",
       "\n",
       "    .dataframe tbody tr th {\n",
       "        vertical-align: top;\n",
       "    }\n",
       "\n",
       "    .dataframe thead th {\n",
       "        text-align: right;\n",
       "    }\n",
       "</style>\n",
       "<table border=\"1\" class=\"dataframe\">\n",
       "  <thead>\n",
       "    <tr style=\"text-align: right;\">\n",
       "      <th></th>\n",
       "      <th>hops</th>\n",
       "      <th>label</th>\n",
       "    </tr>\n",
       "  </thead>\n",
       "  <tbody>\n",
       "    <tr>\n",
       "      <th>count</th>\n",
       "      <td>32167.000000</td>\n",
       "      <td>32167.000000</td>\n",
       "    </tr>\n",
       "    <tr>\n",
       "      <th>mean</th>\n",
       "      <td>4.280194</td>\n",
       "      <td>0.215967</td>\n",
       "    </tr>\n",
       "    <tr>\n",
       "      <th>std</th>\n",
       "      <td>2.176603</td>\n",
       "      <td>0.411498</td>\n",
       "    </tr>\n",
       "    <tr>\n",
       "      <th>min</th>\n",
       "      <td>0.000000</td>\n",
       "      <td>0.000000</td>\n",
       "    </tr>\n",
       "    <tr>\n",
       "      <th>25%</th>\n",
       "      <td>3.000000</td>\n",
       "      <td>0.000000</td>\n",
       "    </tr>\n",
       "    <tr>\n",
       "      <th>50%</th>\n",
       "      <td>4.000000</td>\n",
       "      <td>0.000000</td>\n",
       "    </tr>\n",
       "    <tr>\n",
       "      <th>75%</th>\n",
       "      <td>6.000000</td>\n",
       "      <td>0.000000</td>\n",
       "    </tr>\n",
       "    <tr>\n",
       "      <th>max</th>\n",
       "      <td>16.000000</td>\n",
       "      <td>1.000000</td>\n",
       "    </tr>\n",
       "  </tbody>\n",
       "</table>\n",
       "</div>"
      ],
      "text/plain": [
       "               hops         label\n",
       "count  32167.000000  32167.000000\n",
       "mean       4.280194      0.215967\n",
       "std        2.176603      0.411498\n",
       "min        0.000000      0.000000\n",
       "25%        3.000000      0.000000\n",
       "50%        4.000000      0.000000\n",
       "75%        6.000000      0.000000\n",
       "max       16.000000      1.000000"
      ]
     },
     "execution_count": 8,
     "metadata": {},
     "output_type": "execute_result"
    }
   ],
   "source": [
    "df.describe()"
   ]
  },
  {
   "cell_type": "code",
   "execution_count": 9,
   "id": "a275d67c-7eed-471e-ac7c-21c385d59d75",
   "metadata": {
    "tags": []
   },
   "outputs": [
    {
     "name": "stdout",
     "output_type": "stream",
     "text": [
      "0% of colomns contains missing values\n"
     ]
    }
   ],
   "source": [
    "nan_columnns_nb = len(df.columns[df.isna().any()].tolist())\n",
    "columns_nb = len(df.columns)\n",
    "print(\"%.0f%% of colomns contains missing values\" % (nan_columnns_nb/columns_nb*100))"
   ]
  },
  {
   "cell_type": "code",
   "execution_count": 10,
   "id": "c32b9fb5-d071-4a92-bc7d-eef0358dd350",
   "metadata": {
    "tags": []
   },
   "outputs": [
    {
     "name": "stdout",
     "output_type": "stream",
     "text": [
      "none_nan_columns: received1, received2, received3, received4, received5, received6, received7, received8, received9, received10, received11, received12, received13, received14, received15, received16, hops, subject, date, message-id, from, return-path, to, content-type, mime-version, x-mailer, content-transfer-encoding, x-mimeole, x-priority, list-id, lines, x-virus-scanned, status, content-length, precedence, delivered-to, list-unsubscribe, list-subscribe, list-post, list-help, x-msmail-priority, x-spam-status, sender, errors-to, x-beenthere, list-archive, reply-to, x-mailman-version, x-miltered, x-uuid, x-virus-status, x-spam-level, x-spam-checker-version, references, in-reply-to, user-agent, thread-index, cc, received-spf, x-original-to, content-disposition, mailing-list, x-spam-check-by, domainkey-signature, importance, x-mailing-list, label\n"
     ]
    }
   ],
   "source": [
    "none_nan_columns = ', '.join(df.columns[~df.isna().any()].tolist())\n",
    "print('none_nan_columns: %s' % none_nan_columns)"
   ]
  },
  {
   "cell_type": "markdown",
   "id": "4c6c4791-3346-4c22-8a1e-fd0610787511",
   "metadata": {
    "tags": []
   },
   "source": [
    "\n",
    "## **Data Preprocessing**\n",
    "___\n"
   ]
  },
  {
   "cell_type": "markdown",
   "id": "2e344dbf-a57b-452a-b9ab-d3e0eaa9d134",
   "metadata": {
    "tags": []
   },
   "source": [
    "### **<mark>Initial Setup</mark>**"
   ]
  },
  {
   "cell_type": "code",
   "execution_count": 11,
   "id": "3e9b0ed0-7945-47ce-bf7b-123a12da71ad",
   "metadata": {
    "tags": []
   },
   "outputs": [],
   "source": [
    "initial_features_list = ['received1', 'received2', 'received3', 'received4', 'received5',\n",
    "       'received6', 'received7', 'received8', 'received9', 'received10',\n",
    "       'received11', 'received12', 'received13', 'received14',\n",
    "       'received15', 'received16', 'subject', 'date',\n",
    "       'message-id', 'from', 'return-path', 'to', 'content-type',\n",
    "       'mime-version', 'x-mailer', 'content-transfer-encoding',\n",
    "       'x-mimeole', 'x-priority', 'list-id', 'lines', 'x-virus-scanned',\n",
    "       'status', 'content-length', 'precedence', 'delivered-to',\n",
    "       'list-unsubscribe', 'list-subscribe', 'list-post', 'list-help',\n",
    "       'x-msmail-priority', 'x-spam-status', 'sender', 'errors-to',\n",
    "       'x-beenthere', 'list-archive', 'reply-to', 'x-mailman-version',\n",
    "       'x-miltered', 'x-uuid', 'x-virus-status', 'x-spam-level',\n",
    "       'x-spam-checker-version', 'references', 'in-reply-to',\n",
    "       'user-agent', 'thread-index', 'cc', 'received-spf',\n",
    "       'x-original-to', 'content-disposition', 'mailing-list',\n",
    "       'x-spam-check-by', 'domainkey-signature', 'importance',\n",
    "       'x-mailing-list']\n",
    "\n",
    "label_name = 'label'\n",
    "\n",
    "final_features_list = ['hops']"
   ]
  },
  {
   "cell_type": "markdown",
   "id": "82fa61fd-add9-4edf-92fd-1fd294cf5fb0",
   "metadata": {
    "jp-MarkdownHeadingCollapsed": true,
    "tags": []
   },
   "source": [
    "###  **<mark>Header Value Based Features</mark>**\n",
    "Extracting the field values directly and using them as a feature, or checking the field values for some condition"
   ]
  },
  {
   "cell_type": "markdown",
   "id": "320db446-12a0-45d9-b1d6-61e4c5508592",
   "metadata": {},
   "source": [
    "The following were extracted as features:\n",
    "\n",
    "- **Time zone**: The time zone listed in the date field.\n",
    "\n",
    "- **X-Priority**: The numeric value is used as a feature.\n",
    "\n",
    "- **Lines**: The numeric value is discretized into bins, and then used as a feature.\n",
    "\n",
    "- **Content-Length**: The numeric value is discretized into bins, and then used as a feature."
   ]
  },
  {
   "cell_type": "markdown",
   "id": "2b4c5c37-c4a8-4c38-b2a0-9e3551c2e40d",
   "metadata": {
    "tags": []
   },
   "source": [
    "**Time Zone**"
   ]
  },
  {
   "cell_type": "code",
   "execution_count": 12,
   "id": "48d03946-f277-4f4b-b34a-b9ccaddf993b",
   "metadata": {
    "tags": []
   },
   "outputs": [],
   "source": [
    "from dateutil.parser import parse\n",
    "from datetime import datetime, timedelta\n",
    "import email.utils\n",
    "\n",
    "def extract_time_zone(row): \n",
    "    time_zone = email.utils.parsedate_tz(row['date'])\n",
    "    if time_zone is None:\n",
    "        return 'NA'\n",
    "    else:\n",
    "        return int(time_zone[9] / (60*60)) % 24\n",
    "\n",
    "df['time_zone'] = df.apply(extract_time_zone, axis=1)\n",
    "df.loc[df['time_zone'].astype(str).str.contains('NA'), 'time_zone'] = df['time_zone'].value_counts().index[0]\n",
    "\n"
   ]
  },
  {
   "cell_type": "code",
   "execution_count": 13,
   "id": "f0aec929-e6d8-41d5-b838-6c2cf4c87434",
   "metadata": {},
   "outputs": [],
   "source": [
    "final_features_list.append('time_zone')"
   ]
  },
  {
   "cell_type": "code",
   "execution_count": 14,
   "id": "2794643d-2236-4034-bd93-97c0d00a2415",
   "metadata": {
    "tags": []
   },
   "outputs": [
    {
     "data": {
      "text/plain": [
       "20    8317\n",
       "17    4883\n",
       "2     4444\n",
       "0     4117\n",
       "19    2933\n",
       "1     2572\n",
       "10    1009\n",
       "18     723\n",
       "3      511\n",
       "21     454\n",
       "8      453\n",
       "16     382\n",
       "5      376\n",
       "9      194\n",
       "4      178\n",
       "22     167\n",
       "23     138\n",
       "6      112\n",
       "7       78\n",
       "12      70\n",
       "14      24\n",
       "15      13\n",
       "13      10\n",
       "11       9\n",
       "Name: time_zone, dtype: int64"
      ]
     },
     "execution_count": 14,
     "metadata": {},
     "output_type": "execute_result"
    }
   ],
   "source": [
    "df['time_zone'].value_counts()"
   ]
  },
  {
   "cell_type": "markdown",
   "id": "fe4283ab-cbdd-414d-af28-48db7d42f75e",
   "metadata": {},
   "source": [
    "**X-Priority**"
   ]
  },
  {
   "cell_type": "code",
   "execution_count": 15,
   "id": "879454ad-541c-4c63-8819-4d74c94e8070",
   "metadata": {
    "tags": []
   },
   "outputs": [],
   "source": [
    "df['x-priority'] = df['x-priority'].astype(str).str.extract('(\\\\d+)')\n",
    "df['x-priority'] = pd.to_numeric(df['x-priority'], errors='coerce')\n",
    "df['x-priority'] = df['x-priority'].fillna(0)"
   ]
  },
  {
   "cell_type": "code",
   "execution_count": 16,
   "id": "5ef70ef2-2e4e-4315-a95c-4b38c62f59f8",
   "metadata": {},
   "outputs": [],
   "source": [
    "final_features_list.append('x-priority')"
   ]
  },
  {
   "cell_type": "code",
   "execution_count": 17,
   "id": "8e410ed6-a509-48d2-b6ae-ca6b8d0d38df",
   "metadata": {
    "tags": []
   },
   "outputs": [
    {
     "data": {
      "text/plain": [
       "0.0    27556\n",
       "3.0     3281\n",
       "1.0     1316\n",
       "5.0        8\n",
       "2.0        5\n",
       "4.0        1\n",
       "Name: x-priority, dtype: int64"
      ]
     },
     "execution_count": 17,
     "metadata": {},
     "output_type": "execute_result"
    }
   ],
   "source": [
    "df['x-priority'].value_counts()"
   ]
  },
  {
   "cell_type": "markdown",
   "id": "4d4368eb-d998-408f-ae1c-a534abc4d632",
   "metadata": {},
   "source": [
    "**Content-Length:**"
   ]
  },
  {
   "cell_type": "code",
   "execution_count": 18,
   "id": "59f5535c-ddb3-44f4-b451-a90f846b1bd0",
   "metadata": {
    "tags": []
   },
   "outputs": [],
   "source": [
    "df['content-length'] = df['content-length'].astype(str).str.extract('(\\\\d+)')\n",
    "df['content-length'] = pd.to_numeric(df['content-length'], errors='coerce')\n",
    "df['content-length'] = df['content-length'].fillna(0)"
   ]
  },
  {
   "cell_type": "code",
   "execution_count": 19,
   "id": "ae59bbbc-4069-4cbd-86c7-590b238554a9",
   "metadata": {},
   "outputs": [],
   "source": [
    "final_features_list.append('content-length')"
   ]
  },
  {
   "cell_type": "markdown",
   "id": "78e17bb6-5be4-4a96-a4fa-518deabb678a",
   "metadata": {
    "tags": []
   },
   "source": [
    "**Lines**:"
   ]
  },
  {
   "cell_type": "code",
   "execution_count": 20,
   "id": "6836d66c-395e-44ff-aa49-09a8141091a0",
   "metadata": {
    "tags": []
   },
   "outputs": [],
   "source": [
    "df['lines'] = df['lines'].astype(str).str.extract('(\\\\d+)')\n",
    "df['lines'] = pd.to_numeric(df['lines'], errors='coerce')"
   ]
  },
  {
   "cell_type": "code",
   "execution_count": 21,
   "id": "5bdf2291-323a-4a95-b8e5-91bb78330bad",
   "metadata": {},
   "outputs": [],
   "source": [
    "final_features_list.append('lines')"
   ]
  },
  {
   "cell_type": "markdown",
   "id": "faaa6ab7-63c1-4ba2-86f0-5bb49b16325f",
   "metadata": {
    "jp-MarkdownHeadingCollapsed": true,
    "tags": []
   },
   "source": [
    "###  **<mark>Missing Field Based Features</mark>**\n",
    "Whether or not a particular header field is present in an email or not.\n",
    "\n",
    "Examples:   \n",
    "- **Missing-Message-ID** : If the Message-ID field is present in the email header, then a value of 0 is given for the feature, otherwise the value of 1 is given."
   ]
  },
  {
   "cell_type": "code",
   "execution_count": 22,
   "id": "0b11f7a1-27a2-4842-9392-119e2d0d849b",
   "metadata": {
    "tags": []
   },
   "outputs": [],
   "source": [
    "missing_feature_list = []\n",
    "\n",
    "for name in initial_features_list:\n",
    "    missing_feature_list.append('missing_' + name)\n",
    "\n",
    "for feature, missing_feature in zip(initial_features_list, missing_feature_list):\n",
    "    df.loc[df[feature].isnull(), missing_feature] = 1\n",
    "    df.loc[~df[feature].isnull(), missing_feature] = 0\n",
    "    \n",
    "final_features_list.extend(missing_feature_list)"
   ]
  },
  {
   "cell_type": "code",
   "execution_count": 23,
   "id": "9d102f01-dcc1-4fac-b2ce-afd14238c9eb",
   "metadata": {
    "tags": []
   },
   "outputs": [
    {
     "data": {
      "text/plain": [
       "(32167, 133)"
      ]
     },
     "execution_count": 23,
     "metadata": {},
     "output_type": "execute_result"
    }
   ],
   "source": [
    "df.shape"
   ]
  },
  {
   "cell_type": "code",
   "execution_count": 24,
   "id": "656d1834-2695-488c-8f8a-29c137a221a2",
   "metadata": {
    "tags": []
   },
   "outputs": [
    {
     "data": {
      "text/plain": [
       "Index(['received1', 'received2', 'received3', 'received4', 'received5',\n",
       "       'received6', 'received7', 'received8', 'received9', 'received10',\n",
       "       ...\n",
       "       'missing_thread-index', 'missing_cc', 'missing_received-spf',\n",
       "       'missing_x-original-to', 'missing_content-disposition',\n",
       "       'missing_mailing-list', 'missing_x-spam-check-by',\n",
       "       'missing_domainkey-signature', 'missing_importance',\n",
       "       'missing_x-mailing-list'],\n",
       "      dtype='object', length=133)"
      ]
     },
     "execution_count": 24,
     "metadata": {},
     "output_type": "execute_result"
    }
   ],
   "source": [
    "df.columns"
   ]
  },
  {
   "cell_type": "code",
   "execution_count": 25,
   "id": "e0fae726-7c13-48ee-a1b2-9f55953a0b15",
   "metadata": {
    "tags": []
   },
   "outputs": [
    {
     "data": {
      "text/plain": [
       "0.0    32167\n",
       "Name: missing_x-original-to, dtype: int64"
      ]
     },
     "execution_count": 25,
     "metadata": {},
     "output_type": "execute_result"
    }
   ],
   "source": [
    "df['missing_x-original-to'].value_counts()"
   ]
  },
  {
   "cell_type": "code",
   "execution_count": 26,
   "id": "045a0375-aee9-47e0-9d6c-a7e7caf0b62d",
   "metadata": {
    "tags": []
   },
   "outputs": [
    {
     "data": {
      "text/plain": [
       "0.0    32167\n",
       "Name: missing_mailing-list, dtype: int64"
      ]
     },
     "execution_count": 26,
     "metadata": {},
     "output_type": "execute_result"
    }
   ],
   "source": [
    "df['missing_mailing-list'].value_counts()"
   ]
  },
  {
   "cell_type": "code",
   "execution_count": 27,
   "id": "bd7be473-cf1c-4959-963e-9b21cabe2ad7",
   "metadata": {
    "tags": []
   },
   "outputs": [
    {
     "data": {
      "text/plain": [
       "0.0    32167\n",
       "Name: missing_cc, dtype: int64"
      ]
     },
     "execution_count": 27,
     "metadata": {},
     "output_type": "execute_result"
    }
   ],
   "source": [
    "df['missing_cc'].value_counts()"
   ]
  },
  {
   "cell_type": "markdown",
   "id": "76fc492d-6911-4f6e-a952-b0752427ee52",
   "metadata": {
    "tags": []
   },
   "source": [
    "### **<mark>Counting Based Features</mark>**\n",
    "Using the count of something as a feature."
   ]
  },
  {
   "cell_type": "markdown",
   "id": "9c9304d9-7805-4d40-abd0-e786cb36e1c6",
   "metadata": {},
   "source": [
    "- **Hops**: The number of received fields in an email. (This was extracted during the creation of the data set.)\n",
    "\n",
    "- **Length**: The total number of characters in the 'From' field.\n",
    "\n",
    "- **Number of recipients**: The number of email addresses specified in the 'To' field.\n",
    "\n",
    "- **Number of recipients**: The number of email addresses specified in the 'Cc' field.\n",
    "\n",
    "- **Number of Senders**: The number of email addresses specified in the 'From' field.\n",
    "\n",
    "- **Number of replies**: The number of message-ID's contained within the 'References' field. (Each message-ID is enclosed in a pair of '<>')\n",
    "\n",
    "\n",
    "\n"
   ]
  },
  {
   "cell_type": "markdown",
   "id": "636af26b-a58e-4e32-b661-e0fca2c763be",
   "metadata": {},
   "source": [
    "**Hops**"
   ]
  },
  {
   "cell_type": "code",
   "execution_count": 28,
   "id": "842c2db0-0b34-471e-88f1-f56ce7ae7bda",
   "metadata": {},
   "outputs": [
    {
     "data": {
      "text/plain": [
       "count    32167.000000\n",
       "mean         4.280194\n",
       "std          2.176603\n",
       "min          0.000000\n",
       "25%          3.000000\n",
       "50%          4.000000\n",
       "75%          6.000000\n",
       "max         16.000000\n",
       "Name: hops, dtype: float64"
      ]
     },
     "execution_count": 28,
     "metadata": {},
     "output_type": "execute_result"
    }
   ],
   "source": [
    "df['hops'].describe()"
   ]
  },
  {
   "cell_type": "code",
   "execution_count": 29,
   "id": "9da8122b-184e-4e22-95b8-fcb0ead99368",
   "metadata": {
    "tags": []
   },
   "outputs": [
    {
     "data": {
      "text/plain": [
       "0    7424\n",
       "1     774\n",
       "Name: label, dtype: int64"
      ]
     },
     "execution_count": 29,
     "metadata": {},
     "output_type": "execute_result"
    }
   ],
   "source": [
    "df[df['hops'] > 5]['label'].value_counts()"
   ]
  },
  {
   "cell_type": "markdown",
   "id": "646f658a-7a63-434c-8b52-05d5273c45e6",
   "metadata": {},
   "source": [
    "**Length**"
   ]
  },
  {
   "cell_type": "code",
   "execution_count": 30,
   "id": "e53a6060-8cb3-4469-9bb3-c40a0013ebc7",
   "metadata": {
    "tags": []
   },
   "outputs": [],
   "source": [
    "df['length_from'] = df['from'].str.len()\n",
    "final_features_list.append('length_from')"
   ]
  },
  {
   "cell_type": "code",
   "execution_count": 31,
   "id": "8cabc6d4-8f80-449d-8422-b974f43957a1",
   "metadata": {
    "tags": []
   },
   "outputs": [
    {
     "data": {
      "text/plain": [
       "count    32167.000000\n",
       "mean        38.946529\n",
       "std         26.310001\n",
       "min          6.000000\n",
       "25%         31.000000\n",
       "50%         37.000000\n",
       "75%         44.000000\n",
       "max       3870.000000\n",
       "Name: length_from, dtype: float64"
      ]
     },
     "execution_count": 31,
     "metadata": {},
     "output_type": "execute_result"
    }
   ],
   "source": [
    "df['length_from'].describe()"
   ]
  },
  {
   "cell_type": "code",
   "execution_count": 32,
   "id": "49cc3384-115a-4358-9983-24189c5359d3",
   "metadata": {},
   "outputs": [],
   "source": [
    "final_features_list.append('length_from')"
   ]
  },
  {
   "cell_type": "markdown",
   "id": "ddb8e2d5-226d-4834-a42e-2266604afa49",
   "metadata": {
    "tags": []
   },
   "source": [
    "**Number of recipients:**"
   ]
  },
  {
   "cell_type": "code",
   "execution_count": 33,
   "id": "f913b521-f139-403b-9e7b-860247a40c9a",
   "metadata": {
    "tags": []
   },
   "outputs": [],
   "source": [
    "import re\n",
    "import numpy as np\n",
    "\n",
    "\n",
    "df['num_recipients_to'] = df.apply(lambda x: len(re.findall(\n",
    "    r'([a-zA-Z0-9+._-]+@[a-zA-Z0-9._-]+\\.[a-zA-Z0-9_-]+)', x['to'])), axis=1)\n",
    "\n",
    "df['num_recipients_cc'] = df.apply(lambda x: len(re.findall(\n",
    "    r'([a-zA-Z0-9+._-]+@[a-zA-Z0-9._-]+\\.[a-zA-Z0-9_-]+)', x['cc'])), axis=1)\n",
    "\n",
    "df['num_recipients_from'] = df.apply(lambda x: len(re.findall(\n",
    "    r'([a-zA-Z0-9+._-]+@[a-zA-Z0-9._-]+\\.[a-zA-Z0-9_-]+)', x['from'])), axis=1)"
   ]
  },
  {
   "cell_type": "code",
   "execution_count": 34,
   "id": "9cb3f5a0-dd4f-432a-9499-b2b537a618ca",
   "metadata": {},
   "outputs": [],
   "source": [
    "final_features_list.append('num_recipients_to')\n",
    "final_features_list.append('num_recipients_cc')\n",
    "final_features_list.append('num_recipients_from')"
   ]
  },
  {
   "cell_type": "code",
   "execution_count": 35,
   "id": "aa470ead-bdf4-456e-a596-e820d045a685",
   "metadata": {
    "tags": []
   },
   "outputs": [
    {
     "data": {
      "text/plain": [
       "count    32167.000000\n",
       "mean         1.227127\n",
       "std         25.844017\n",
       "min          0.000000\n",
       "25%          1.000000\n",
       "50%          1.000000\n",
       "75%          1.000000\n",
       "max       4544.000000\n",
       "Name: num_recipients_to, dtype: float64"
      ]
     },
     "execution_count": 35,
     "metadata": {},
     "output_type": "execute_result"
    }
   ],
   "source": [
    "df['num_recipients_to'].describe()"
   ]
  },
  {
   "cell_type": "code",
   "execution_count": 36,
   "id": "01d1a12f-bfad-48e3-bd05-94ea4506bc14",
   "metadata": {
    "tags": []
   },
   "outputs": [
    {
     "data": {
      "text/plain": [
       "count    32167.000000\n",
       "mean         0.320764\n",
       "std          0.702859\n",
       "min          0.000000\n",
       "25%          0.000000\n",
       "50%          0.000000\n",
       "75%          0.000000\n",
       "max         14.000000\n",
       "Name: num_recipients_cc, dtype: float64"
      ]
     },
     "execution_count": 36,
     "metadata": {},
     "output_type": "execute_result"
    }
   ],
   "source": [
    "df['num_recipients_cc'].describe()"
   ]
  },
  {
   "cell_type": "code",
   "execution_count": 37,
   "id": "17a7ed3e-67ae-465b-b97d-75479a12d3fb",
   "metadata": {
    "tags": []
   },
   "outputs": [
    {
     "data": {
      "text/plain": [
       "count    32167.000000\n",
       "mean         1.029782\n",
       "std          0.839651\n",
       "min          0.000000\n",
       "25%          1.000000\n",
       "50%          1.000000\n",
       "75%          1.000000\n",
       "max        145.000000\n",
       "Name: num_recipients_from, dtype: float64"
      ]
     },
     "execution_count": 37,
     "metadata": {},
     "output_type": "execute_result"
    }
   ],
   "source": [
    "df['num_recipients_from'].describe()"
   ]
  },
  {
   "cell_type": "markdown",
   "id": "d01bae25-9dc5-435e-8c4c-2d325ab766f0",
   "metadata": {},
   "source": [
    "**Number of replies:**"
   ]
  },
  {
   "cell_type": "code",
   "execution_count": 38,
   "id": "28646c22-b3bd-43d5-9a87-791c33e05888",
   "metadata": {
    "tags": []
   },
   "outputs": [],
   "source": [
    "import re\n",
    "\n",
    "def extract_num_replies(row):\n",
    "    references_val = row['references']\n",
    "    all = re.findall(r'<([a-zA-Z0-9+._-]+@[a-zA-Z0-9._-]+\\.[a-zA-Z0-9_-]+)>', references_val)\n",
    "    return len(all)\n",
    "\n",
    "df['number_replies'] = df.apply(extract_num_replies, axis=1)\n"
   ]
  },
  {
   "cell_type": "code",
   "execution_count": 39,
   "id": "dc09a644-3f6b-4bee-9e04-d864b2ed29d1",
   "metadata": {},
   "outputs": [],
   "source": [
    "final_features_list.append('number_replies')"
   ]
  },
  {
   "cell_type": "code",
   "execution_count": 40,
   "id": "16ce2f96-7ef8-473a-a8f5-892301df23c9",
   "metadata": {
    "tags": []
   },
   "outputs": [
    {
     "data": {
      "text/plain": [
       "count    32167.000000\n",
       "mean         0.814437\n",
       "std          1.592916\n",
       "min          0.000000\n",
       "25%          0.000000\n",
       "50%          0.000000\n",
       "75%          1.000000\n",
       "max         15.000000\n",
       "Name: number_replies, dtype: float64"
      ]
     },
     "execution_count": 40,
     "metadata": {},
     "output_type": "execute_result"
    }
   ],
   "source": [
    "df['number_replies'].describe()"
   ]
  },
  {
   "cell_type": "markdown",
   "id": "573c2e05-dd77-48f7-8097-6bc8aaf50921",
   "metadata": {
    "tags": []
   },
   "source": [
    "### **<mark>Comparison Based Features</mark>**\n",
    "Comparing two or more header values to one another."
   ]
  },
  {
   "cell_type": "markdown",
   "id": "bd639345-7155-4721-bf30-fffddd6a0b2a",
   "metadata": {
    "tags": []
   },
   "source": [
    "- **Span time**: Time difference between the first and last received fields. (Discretizied)\n",
    "\n",
    "- **Date and time conflict** (Consequtive received fields): Checks if consecutive received fields have a time difference of zero or greater. Output values = 0,1\n",
    "\n",
    "- **Date Validity** (Received): Checks the difference in time between the first Received fields date, and the date field, checks if zero or positive. Output values = 0,1\n",
    "\n",
    "* **Consecutive Received Field 'by' and 'from' matching:**  \n",
    "checks if consequentive received fields have a matching domain for the 'by' of the eariler received field and the 'from' part of the later one. Value is 1 if there is an issue, otherwise 0 if all match.\n"
   ]
  },
  {
   "cell_type": "code",
   "execution_count": 41,
   "id": "cdb8d9e8-9765-4293-a513-d5b4b15f5f8f",
   "metadata": {
    "tags": []
   },
   "outputs": [],
   "source": [
    "import pandas as pd\n",
    "import re\n",
    "\n",
    "\n",
    "# create a function to extract the last received header field from a string\n",
    "def extract_last_received(row):\n",
    "    received_list = [x for x in list(row) if x != '']\n",
    "    if len(received_list) == 0:\n",
    "        pass\n",
    "    else:\n",
    "        return received_list[-1]\n",
    "\n",
    "\n",
    "    \n",
    "received_columns = [x for x in list(df.columns) if re.match(\"^received\\d\", x)]\n",
    "received_df = df[received_columns]\n",
    "df['last_received'] = received_df.apply(lambda row: extract_last_received(row) , axis=1)\n",
    "df = df.replace(np.nan, '', regex=True)\n",
    "\n"
   ]
  },
  {
   "cell_type": "markdown",
   "id": "4af64faf-1896-4e64-8cce-b0b9d7ed6470",
   "metadata": {},
   "source": [
    "**Span time**"
   ]
  },
  {
   "cell_type": "code",
   "execution_count": 42,
   "id": "62047d1a-6424-4859-a922-606b87fbd455",
   "metadata": {
    "tags": []
   },
   "outputs": [],
   "source": [
    "def span_time_finder(row):\n",
    "    first = row['received1'].replace('\\n\\t', ';').split(';')[-1]\n",
    "    last = row['last_received'].replace('\\n\\t', ';').split(';')[-1]\n",
    "\n",
    "    d1 = email.utils.parsedate_tz(first)\n",
    "    d2 = email.utils.parsedate_tz(last)\n",
    "\n",
    "    if d1 is None or d2 is None:\n",
    "        return -1\n",
    "\n",
    "    try:\n",
    "        val1 = email.utils.mktime_tz(d1)\n",
    "        val2 = email.utils.mktime_tz(d2)\n",
    "\n",
    "    except:\n",
    "        return -1\n",
    "    \n",
    "\n",
    "    return (email.utils.mktime_tz(d2)) - (email.utils.mktime_tz(d1))"
   ]
  },
  {
   "cell_type": "code",
   "execution_count": 43,
   "id": "92cd388f-c0e5-470d-bb40-09d68067a4dc",
   "metadata": {
    "tags": []
   },
   "outputs": [],
   "source": [
    "df['span_time'] = df.apply(span_time_finder, axis=1)"
   ]
  },
  {
   "cell_type": "code",
   "execution_count": 44,
   "id": "f5eaf898-69b0-4c7b-95b4-e6c7691d7626",
   "metadata": {},
   "outputs": [],
   "source": [
    "final_features_list.append('span_time')"
   ]
  },
  {
   "cell_type": "code",
   "execution_count": 45,
   "id": "fcf6d8ac-3f4c-4971-a0e1-5be460e48dfa",
   "metadata": {
    "tags": []
   },
   "outputs": [
    {
     "data": {
      "text/plain": [
       "count    3.216700e+04\n",
       "mean    -9.438593e+04\n",
       "std      3.124219e+06\n",
       "min     -2.072196e+08\n",
       "25%     -2.250000e+02\n",
       "50%     -3.900000e+01\n",
       "75%     -5.000000e+00\n",
       "max      6.214457e+06\n",
       "Name: span_time, dtype: float64"
      ]
     },
     "execution_count": 45,
     "metadata": {},
     "output_type": "execute_result"
    }
   ],
   "source": [
    "df['span_time'].describe()"
   ]
  },
  {
   "cell_type": "markdown",
   "id": "c53beb29-b7d8-42c7-8d9d-7316fef29524",
   "metadata": {},
   "source": [
    "**Date and time conflict**:"
   ]
  },
  {
   "cell_type": "code",
   "execution_count": 46,
   "id": "61e7c8a6-07f6-4851-b172-45d5d5a2d00b",
   "metadata": {
    "tags": []
   },
   "outputs": [],
   "source": [
    "def conseq_received_date(row):\n",
    "    num_received = row[\"hops\"]\n",
    "    if num_received == 1:\n",
    "        return 0\n",
    "\n",
    "    col_name_base = \"received\"\n",
    "    for i in range(1, num_received):\n",
    "        curr_col = col_name_base + str(i)\n",
    "        next_col = col_name_base + str(i + 1)\n",
    "\n",
    "        curr_val = row[curr_col]\n",
    "        next_val = row[next_col]\n",
    "\n",
    "        curr_date = curr_val.replace(\"\\n\\t\", \";\").split(r\";\")[-1]\n",
    "        next_date = next_val.replace(\"\\n\\t\", \";\").split(r\";\")[-1]\n",
    "\n",
    "        d1 = email.utils.parsedate_tz(curr_date)\n",
    "        d2 = email.utils.parsedate_tz(next_date)\n",
    "\n",
    "        if d1 is None or d2 is None:\n",
    "            return 1\n",
    "\n",
    "        try:\n",
    "            val1 = email.utils.mktime_tz(d1)\n",
    "            val2 = email.utils.mktime_tz(d2)\n",
    "        except:\n",
    "            return 1\n",
    "\n",
    "        if (val2 - val1) < 0:\n",
    "            return 1\n",
    "    return 0\n"
   ]
  },
  {
   "cell_type": "code",
   "execution_count": 47,
   "id": "1f9a8348-b32b-44d0-9e21-2557f8fb2cad",
   "metadata": {
    "tags": []
   },
   "outputs": [],
   "source": [
    "df['conseq_received_date'] = df.apply(conseq_received_date, axis=1)"
   ]
  },
  {
   "cell_type": "code",
   "execution_count": 48,
   "id": "2ca3547a-02da-41e9-a68d-b718f9cc4f9f",
   "metadata": {
    "tags": []
   },
   "outputs": [],
   "source": [
    "final_features_list.append('conseq_received_date')"
   ]
  },
  {
   "cell_type": "markdown",
   "id": "954df2e7-527e-4598-bb9c-eaf6b5635b61",
   "metadata": {},
   "source": [
    "**Date Validity**:"
   ]
  },
  {
   "cell_type": "code",
   "execution_count": 49,
   "id": "a7cbdfa1-9dfa-47f8-b1c8-81acaf7101d3",
   "metadata": {
    "tags": []
   },
   "outputs": [
    {
     "data": {
      "text/plain": [
       "1    30686\n",
       "0     1481\n",
       "Name: conseq_received_date, dtype: int64"
      ]
     },
     "execution_count": 49,
     "metadata": {},
     "output_type": "execute_result"
    }
   ],
   "source": [
    "df['conseq_received_date'].value_counts()"
   ]
  },
  {
   "cell_type": "code",
   "execution_count": 50,
   "id": "f8533d38-bb8f-4947-81e8-924b50a6051c",
   "metadata": {
    "tags": []
   },
   "outputs": [],
   "source": [
    "import time\n",
    "\n",
    "def date_received_date_comp(row):\n",
    "    date_date = row['date']\n",
    "    date_received = row['last_received'].replace('\\n\\t', ';').split(';')[-1]\n",
    "    \n",
    "    d1 = email.utils.parsedate_tz(date_date)\n",
    "    d2 = email.utils.parsedate_tz(date_received)\n",
    "\n",
    "    if d1 is None or d2 is None:\n",
    "        return -1\n",
    "\n",
    "    try:\n",
    "        val1 = email.utils.mktime_tz(d1)\n",
    "        val2 = email.utils.mktime_tz(d2)\n",
    "    except:\n",
    "        return -1\n",
    "\n",
    "    return (email.utils.mktime_tz(d2)) - (email.utils.mktime_tz(d1))"
   ]
  },
  {
   "cell_type": "code",
   "execution_count": 51,
   "id": "3df172a5-7ef6-4e10-8368-46177fc9fdd6",
   "metadata": {
    "tags": []
   },
   "outputs": [],
   "source": [
    "df['date_comp_date_received'] = df.apply(date_received_date_comp, axis=1)\n",
    "df['date_comp_date_received'] = df['date_comp_date_received'].apply(lambda x: 0 if x < 0 else 1)\n",
    "\n"
   ]
  },
  {
   "cell_type": "code",
   "execution_count": 52,
   "id": "4c439769-3961-47ea-b89f-2c19727cd3d5",
   "metadata": {},
   "outputs": [],
   "source": [
    "final_features_list.append('date_comp_date_received')"
   ]
  },
  {
   "cell_type": "code",
   "execution_count": 53,
   "id": "8cd5f862-004b-4688-851d-8d75b33b82c3",
   "metadata": {
    "tags": []
   },
   "outputs": [
    {
     "data": {
      "text/plain": [
       "1    26240\n",
       "0     5927\n",
       "Name: date_comp_date_received, dtype: int64"
      ]
     },
     "execution_count": 53,
     "metadata": {},
     "output_type": "execute_result"
    }
   ],
   "source": [
    "df['date_comp_date_received'].value_counts()"
   ]
  },
  {
   "cell_type": "markdown",
   "id": "9121c6b4-e794-4469-8bb9-318f4699b394",
   "metadata": {},
   "source": [
    "**Emails matching**:"
   ]
  },
  {
   "cell_type": "code",
   "execution_count": 54,
   "id": "494bb9df-5753-4876-bfcc-070e382f50cf",
   "metadata": {
    "tags": []
   },
   "outputs": [],
   "source": [
    "# emails in brackets '<>' are matched first, and if none, then other emails are matched\n",
    "def extract_emails(row, col_name):\n",
    "    in_brackets = re.findall(r'<([a-zA-Z0-9+._-]+@[a-zA-Z0-9._-]+\\.[a-zA-Z0-9_-]+)>', row[col_name])\n",
    "    if len(in_brackets) == 0:\n",
    "        not_in_brackets = re.findall(r'([a-zA-Z0-9+._-]+@[a-zA-Z0-9._-]+\\.[a-zA-Z0-9_-]+)', row[col_name])\n",
    "        if len(not_in_brackets) == 0:\n",
    "            return []\n",
    "        else:\n",
    "            return not_in_brackets\n",
    "    else:\n",
    "        return in_brackets"
   ]
  },
  {
   "cell_type": "code",
   "execution_count": 55,
   "id": "05af6696-7739-4da3-bc1e-f0e448a8b43f",
   "metadata": {
    "tags": []
   },
   "outputs": [],
   "source": [
    "emails_from = df.apply(extract_emails, col_name='from', axis=1)\n",
    "emails_message_id = df.apply(extract_emails, col_name='message-id', axis=1)\n",
    "emails_return_path = df.apply(extract_emails, col_name='return-path', axis=1)\n",
    "emails_reply_to = df.apply(extract_emails, col_name='reply-to', axis=1)\n",
    "emails_errors_to = df.apply(extract_emails, col_name='errors-to', axis=1)\n",
    "emails_in_reply_to = df.apply(extract_emails, col_name='in-reply-to', axis=1)\n",
    "emails_references = df.apply(extract_emails, col_name='references', axis=1)\n",
    "emails_to = df.apply(extract_emails, col_name='to', axis=1)\n",
    "emails_cc = df.apply(extract_emails, col_name='cc', axis=1)\n",
    "emails_sender = df.apply(extract_emails, col_name='sender', axis=1)\n"
   ]
  },
  {
   "cell_type": "code",
   "execution_count": 56,
   "id": "ea1971ae-38ff-412d-8944-e89b60dfa114",
   "metadata": {
    "tags": []
   },
   "outputs": [],
   "source": [
    "emails_df = pd.concat([emails_from, emails_message_id, emails_return_path, \n",
    "                        emails_errors_to, emails_reply_to, emails_in_reply_to, \n",
    "                        emails_references, emails_to, emails_cc, emails_sender], axis=1)\n",
    "emails_df = emails_df.set_axis(['from', 'message-id', 'return-path', 'errors-to', 'reply-to',\n",
    "                     'in-reply-to', 'references', 'to', 'cc', 'sender'], \n",
    "                    axis=1)\n",
    "\n"
   ]
  },
  {
   "cell_type": "code",
   "execution_count": 57,
   "id": "99e27113-c3f0-4bf6-970f-92220c2ee879",
   "metadata": {
    "tags": []
   },
   "outputs": [],
   "source": [
    "def email_same_check(row, first_col, second_col):\n",
    "    vals1 = row[first_col]\n",
    "    vals2 = row[second_col]\n",
    "\n",
    "    for val1 in vals1:\n",
    "        for val2 in vals2:\n",
    "            if val1 == val2:\n",
    "                return 1\n",
    "\n",
    "    return 0"
   ]
  },
  {
   "cell_type": "code",
   "execution_count": 58,
   "id": "685a95da-518c-4df7-8fd1-13ba32073023",
   "metadata": {
    "tags": []
   },
   "outputs": [],
   "source": [
    "emails_to_check = [('from', 'reply-to')]\n",
    "\n",
    "for val in emails_to_check:\n",
    "    first_field = val[0]\n",
    "    second_field = val[1]\n",
    "    new_col_name = 'email_match_' + first_field + '_' + second_field\n",
    "\n",
    "    df[new_col_name] = emails_df.apply(email_same_check, first_col=first_field, \n",
    "                                       second_col=second_field, axis=1)\n",
    "    final_features_list.append(new_col_name)    \n"
   ]
  },
  {
   "cell_type": "code",
   "execution_count": 59,
   "id": "e00150ef-4618-4b6a-a17d-d56ab5eb763e",
   "metadata": {
    "tags": []
   },
   "outputs": [
    {
     "data": {
      "text/plain": [
       "0    27969\n",
       "1     4198\n",
       "Name: email_match_from_reply-to, dtype: int64"
      ]
     },
     "execution_count": 59,
     "metadata": {},
     "output_type": "execute_result"
    }
   ],
   "source": [
    "df['email_match_from_reply-to'].value_counts()"
   ]
  },
  {
   "cell_type": "markdown",
   "id": "91e7963c-762f-4fb7-8faa-e748bd9185f8",
   "metadata": {},
   "source": [
    "**Consecutive Received Field 'by' and 'from' matching:**"
   ]
  },
  {
   "cell_type": "code",
   "execution_count": 60,
   "id": "1762a9e8-79f5-42cc-818c-ed3786c13281",
   "metadata": {
    "tags": []
   },
   "outputs": [],
   "source": [
    "# Source: https://github.com/Te-k/pyreceived/blob/master/pyreceived/parser.py\n",
    "\n",
    "import re\n",
    "class ReceivedParser(object):\n",
    "    regexes = [\n",
    "        (\"from\\s+(mail\\s+pickup\\s+service|(?P<from_name>[\\[\\]\\w\\.\\-]*))\\s*(\\(\\s*\\[?(?P<from_ip>[a-f\\d\\.\\:]+)(\\%\\d+|)\\]?\\s*\\)|)\\s*by\\s*(?P<by_hostname>[\\w\\.\\-]+)\\s*(\\(\\s*\\[?(?P<by_ip>[\\d\\.\\:a-f]+)(\\%\\d+|)\\]?\\)|)\\s*(over\\s+TLS\\s+secured\\s+channel|)\\s*with\\s*(mapi|Microsoft\\s+SMTP\\s+Server|Microsoft\\s+SMTPSVC(\\((?P<server_version>[\\d\\.]+)\\)|))\\s*(\\((TLS|version=(?P<tls>[\\w\\.]+)|)\\,?\\s*(cipher=(?P<cipher>[\\w\\_]+)|)\\)|)\\s*(id\\s+(?P<id>[\\d\\.]+)|)\", \"MS SMTP Server\"), #exchange\n",
    "        (\"(from\\s+(?P<from_name>[\\[\\S\\]]+)\\s+\\(((?P<from_hostname>[\\S]*)|)\\s*\\[(IPv6\\:(?P<from_ipv6>[a-f\\d\\:]+)\\:|)((?P<from_ip>[\\d\\.\\:]+)|)\\]\\s*(\\(may\\s+be\\s+forged\\)|)\\)\\s*(\\(using\\s+(?P<tls>[\\w\\.]+)\\s+with\\s+cipher\\s+(?P<cipher>[\\w\\-]+)\\s+\\([\\w\\/\\s]+\\)\\)\\s+(\\(No\\s+client\\s+certificate\\s+requested\\)|)|)|)\\s*(\\(Authenticated\\s+sender\\:\\s+(?P<authenticated_sender>[\\w\\.\\-\\@]+)\\)|)\\s*by\\s+(?P<by_hostname>[\\S]+)\\s*(\\((?P<by_hostname2>[\\S]*)\\s*\\[((?P<by_ipv6>[a-f\\:\\d]+)|)(?P<by_ip>[\\d\\.]+)\\]\\)|)\\s*(\\([^\\)]*\\)|)\\s*(\\(Postfix\\)|)\\s*(with\\s+(?P<protocol>\\w*)|)\\s*id\\s+(?P<id>[\\w\\-]+)\\s*(for\\s+\\<(?P<envelope_for>[\\w\\.\\@]+)\\>|)\", \"postfix\"), #postfix\n",
    "        (\"(from\\s+(?P<from_name>[\\[\\S\\]]+)\\s+\\(((?P<from_hostname>[\\S]*)|)\\s*\\[(IPv6\\:(?P<from_ipv6>[a-f\\d\\:]+)|)\\]\\)\\s*(\\(using\\s+(?P<tls>[\\w\\.]+)\\s+with\\s+cipher\\s+(?P<cipher>[\\w\\-]+)\\s+\\([\\w\\/\\s]+\\)\\)\\s+(\\(No\\s+client\\s+certificate\\s+requested\\)|)|)|)\\s*(\\(Authenticated\\s+sender\\:\\s+(?P<authenticated_sender>[\\w\\.\\-\\@]+)\\)|)\\s*by\\s+(?P<by_hostname>[\\S]+)\\s*(\\((?P<by_hostname2>[\\S]*)\\s*\\[((?P<by_ipv6>[a-f\\:\\d]+)|)(?P<by_ip>[\\d\\.]+)\\]\\)|)\\s*(\\([^\\)]*\\)|)\\s*(\\(Postfix\\)|)\\s*(with\\s+(?P<protocol>\\w+)|)\\s*id\\s+(?P<id>[\\w\\-]+)\\s*(for\\s+\\<(?P<envelope_for>[\\w\\.\\@]+)\\>|)\", \"postfix\"),#POSTFIX\n",
    "        (\"\\s*from\\s+\\[?(?P<from_ip>[\\d\\.\\:]+)\\]?\\s*(\\((port=\\d+|)\\s*helo=(?P<from_name>[\\[\\]\\w\\.\\:\\-]+)\\)|)\\s+by\\s+(?P<by_hostname>[\\w\\-\\.]+)\\s+with\\s+(?P<protocol>\\w+)\\s*(\\((?P<cipher>[\\w\\.\\:\\_\\-]+)\\)|)\\s*(\\(Exim\\s+(?P<exim_version>[\\d\\.\\_]+)\\)|)\\s*\\(envelope-from\\s+<?(?P<envelope_from>[\\w\\@\\-\\.]*)>?\\s*\\)\\s*id\\s+(?P<id>[\\w\\-]+)\\s*\\s*(for\\s+<?(?P<envelope_for>[\\w\\.\\@]+)>?|)\", \"exim\"), #exim\n",
    "        (\"\\s*from\\s+(?P<from_hostname>[\\w\\.]+)\\s+\\(\\[?(?P<from_ip>[\\d\\.\\:a-f]+)\\]?(\\:\\d+|)\\s*(helo\\=\\[?(?P<from_name>[\\w\\.\\:\\-]+)|)\\]?\\)\\s+by\\s+(?P<by_hostname>[\\w\\-\\.]+)\\s+with\\s+(?P<protocol>\\w+)\\s+(\\((?P<cipher>[\\w\\.\\:\\_]+)\\)|)\\s*\\(Exim\\s+(?P<exim_version>[\\d\\.\\_]+)\\)\\s*\\(envelope-from\\s+\\<(?P<envelope_from>[\\w\\@\\-\\.]+)\\>\\s*\\)\\s*id\\s+(?P<id>[\\w\\-]+)\\s*(for\\s+(?P<envelope_for>[\\w\\.\\@]+)|)\", \"exim\"),# exim\n",
    "        (\"from\\s+(?P<from_name>[\\w\\.\\-]+)\\s+by\\s+(?P<by_hostname>[\\w\\.\\-]+)\\s+with\\s+(?P<protocol>\\w+)\\s+\\(Exim\\s+(?P<version>[\\d\\.]+)\\)\\s+\\(envelope-from\\s+<*(?P<envelope_from>[\\w\\.\\-\\@]+)>*\\)\\s+id\\s+(?P<id>[\\w\\.\\-]+)\\s+for\\s+<?(?P<envelope_for>[\\w\\.\\-\\@]+)>?\", \"exim\"), #exim\n",
    "        (\"from\\s+(?P<from_name>[\\[\\]\\w\\-\\.]+)\\s+\\(((?P<from_hostname>[\\w\\.\\-]+)|)\\s*\\[(?P<from_ip>[\\da-f\\.\\:]+)\\]\\)\\s+by\\s+(?P<by_hostname>[\\w\\.\\-]+)\\s+\\(Oracle\\s+Communications\\s+Messaging\\s+Server\\s+(?P<oracle_version>[\\w\\.\\-]+)(\\([\\d\\.]+\\)|)\\s+(32bit|64bit|)\\s*(\\([^\\)]+\\)|)\\)\\s*with\\s+(?P<protocol>\\w+)\\s+id\\s+\\<?(?P<id>[\\w\\@\\.\\-]+)\\>?\", \"Oracle Communication Messaging Server\"), #Oracle\n",
    "        (\"from\\s+(?P<from_hostname>[\\w\\-\\.]+)\\s+\\(\\[(?P<from_ip>[\\d\\.\\:a-f]+)\\]\\s+helo=(?P<from_name>[\\w\\.\\-]+)\\)\\s+by\\s+(?P<by_hostname>[\\w\\.\\-]+)\\s+with\\s+(?P<protocol>\\w+)\\s+\\(ASSP\\s+(?P<assp_version>[\\d\\.]+)\\s*\\)\", \"ASSP\"), #ASSP\n",
    "        (\"from\\s+(?P<from_hostname>[\\[\\]\\d\\w\\.\\-]+)\\s+\\(\\[\\[?(?P<from_ip>[\\d\\.]+)(\\:\\d+|)\\]\\s*(helo=(?P<from_name>[\\w\\.\\-]+)|)\\s*\\)\\s+by\\s+(?P<by_hostname>[\\w\\.\\-]+)\\s+\\(envelope-from\\s+\\<?(?P<envelope_from>[^>]+)\\>?\\)\\s+\\(ecelerity\\s+(?P<version>[\\d\\.]+)\\s+r\\([\\w\\-\\:\\.]+\\)\\)\\s+with\\s+(?P<protocol>\\w+)\\s*(\\(cipher=(?P<cipher>[\\w\\-\\_]+)\\)|)\\s*id\\s+(?P<id>[\\.\\-\\w\\/]+)\", \"ecelerity\"), #ecelerity\n",
    "        (\"from\\s+(?P<from_name>[\\[\\]\\w\\.\\-]+)\\s+\\(((?P<from_hostname>[\\w\\.\\-]+)|)\\s*(\\[(?P<from_ip>[\\d\\.\\:a-f]+)\\]|)\\)\\s*by\\s+(?P<by_hostname>[\\w\\.\\-]+)\\s+(\\([\\w\\.\\-\\=]+\\)|)\\s+with\\s+(?P<protocol>\\w+)\\s+\\(Nemesis\\)\\s+id\\s+(?P<id>[\\w\\.\\-]+)\\s*(for\\s+\\<?(?P<envelope_for>[\\w\\.\\@\\-]+)\\>?|)\", \"nemesis\"), #nemesis\n",
    "        (\"\\(qmail\\s+\\d+\\s+invoked\\s+(from\\s+network|)(by\\s+uid\\s+\\d+|)\\)\", \"qmail\"), #WTF qmail\n",
    "        (\"from\\s+\\[?(?P<from_ip>[\\d\\.a-f\\:]+)\\]?\\s+\\(account\\s+<?(?P<envelope_from>[\\w\\.\\@\\-]+)>?\\s+HELO\\s+(?P<from_name>[\\w\\.\\-]+)\\)\\s+by\\s+(?P<by_hostname>[\\w\\.\\-]*)\\s+\\(CommuniGate\\s+Pro\\s+SMTP\\s+(?P<version>[\\d\\.]+)\\)\\s+with\\s+(?P<protocol>\\w+)\\s+id\\s+(?P<id>[\\w\\-\\.]+)\\s+for\\s+<?(?P<envelope_for>[\\w\\.\\-\\@]+)>?\", \"CommuniGate\"), #CommuniGate\n",
    "        (\"from\\s+(?P<from_ip>[\\d\\.\\:a-f]+)\\s+\\(SquirrelMail\\s+authenticated\\s+user\\s+(?P<envelope_from>[\\w\\@\\.\\-]+)\\)\\s+by\\s+(?P<by_hostname>[\\w\\.\\-]+)\\s+with\\s+(?P<protocol>\\w+)\", \"SquirrelMail\"),\n",
    "        (\"by\\s+(?P<by_hostname>[\\w\\.\\-]+)\\s+\\((?P<protocol>\\w+)\\s+sendmail\\s*(emulation|)\\)\", \"sendmail\"), #sendmail\n",
    "        (\"from\\s+(?P<from_name>[\\[\\]\\w\\.\\-]+)\\s+\\(\\[(?P<from_hostname>[\\w\\.\\-]+)\\]\\s+\\[(?P<from_ip>[\\d\\.a-f\\:]+)\\]\\)\\s+by\\s+(?P<by_hostname>[\\w\\.\\-]+)\\s+\\(Sun\\s+Java\\(tm\\)\\s+System\\s+Messaging\\s+Server\\s+(?P<version>[\\w\\.\\-]+)\\s+\\d+bit\\s+\\(built\\s+\\w+\\s+\\d+\\s+\\d+\\)\\)\\s+with\\s+(?P<protocol>\\w+)\\s+id\\s+<?(?P<id>[\\w\\.\\-\\@]+)>?\", \"Sun Java System Messaging Server\"), # Sun Java System Messaging Server\n",
    "        (\"from\\s+(?P<from_name>[\\w\\.\\-\\[\\]]+)\\s+\\((?P<from_ip>[\\d\\.a-f\\:]+)\\)\\s+by\\s+(?P<by_hostname>[\\w\\.\\-]+)\\s+\\(Axigen\\)\\s+with\\s+(?P<protocol>\\w+)\\s+id\\s+(?P<id>[\\w\\.\\-]+)\", \"Axigen\"), #axigen\n",
    "        (\"from\\s+(?P<from_name>[\\w\\.\\-]+)\\s+\\((?P<from_hostname>[\\w\\.\\-]+)\\s+\\[(?P<from_ip>[\\d\\.a-f\\:]+)\\]\\)\\s+by\\s+(?P<by_hostname>[\\w\\.\\-]+)\\s+\\(Horde\\s+MIME\\s+library\\)\\s+with\\s+(?P<protocol>\\w+)\", \"Horde MIME library\"), #Horde\n",
    "        (\"from\\s+(?P<from_name>[\\w\\.\\-\\[\\]]+)\\s+by\\s+(?P<by_hostname>[\\w\\.\\-]+)\\s+\\(PGP\\s+Universal\\s+Service\\)\", \"PGP Universal Service\", \"local\"), # PGP Universal Service\n",
    "        (\"from\\s+(?P<from_name>[\\w\\.\\-]+)\\s+by\\s+(?P<by_hostname>[\\w\\.\\-]+)\\s+with\\s+(?P<protocol>\\w+)\\s+\\(Sophos\\s+PureMessage\\s+Version\\s+(?P<version>[\\d\\.\\-]+)\\)\\s+id\\s+(?P<id>[\\w\\.\\-]+)\\s+for\\s+(?P<envelope_for>[\\w\\.\\-\\@]+)\", \"Sophos PureMessage\"), #Sophos PureMessage\n",
    "        (\"by\\s+(?P<by_ip>[\\d\\.\\:a-f]+)\\s+with\\s+(?P<protocol>\\w+)\", \"unknown\"), # other\n",
    "        (\"from\\s+(?P<from_name>[\\w\\.\\-]+)\\s+\\#?\\s*(\\(|\\[|\\(\\[)\\s*(?P<from_ip>[\\d\\.\\:a-f]+)\\s*(\\]|\\)|\\]\\))\\s+by\\s+(?P<by_hostname>[\\w\\.\\-]+)(\\s+\\([\\w\\.\\s\\/]+\\)|)\\s*(with\\s+(?P<protocol>\\w+)|)\\s*(id\\s+(?P<id>[\\w]+)|)(\\(\\-\\)|)\\s*(for\\s+\\<(?P<envelope_for>[\\w\\@\\.]+)\\>?|)\", \"unknown\"), #unknown\n",
    "        (\"from\\s+(?P<from_hostname>[\\w\\.\\-]+)\\s*\\(HELO\\s+(?P<from_name>[\\w\\.\\-]+)\\)\\s*\\(\\[?(?P<from_ip>[\\d\\.\\:a-f]+)\\]?\\)\\s+by\\s+(?P<by_hostname>[\\w\\.\\-]+)(\\s+\\([\\d\\.]+\\)|)\\s*(with\\s+(?P<protocol>\\w+)|)\\s*(id\\s+(?P<id>[\\w]+)|)(\\(\\-\\)|)\", \"unknown\"), #other other\n",
    "        (\"from\\s+([\\(\\[](?P<from_ip>[\\d\\.\\:a-f]+)[\\)\\]]|)\\s+by\\s+(?P<by_hostname>[\\w\\.\\-]+)\\s+id\\s+(?P<id>\\w+)\\s*(with\\s+(?P<protocol>\\w+)|)\\s*\\s*(for\\s+\\<(?P<envelope_for>[\\w\\@\\.\\-]+)\\>|)\", \"unknown\"),#other\n",
    "        (\"from\\s+(?P<from_hostname>[\\w\\.]+)\\s+(\\(HELO\\s+(?P<from_name>[\\w\\.\\-]+)\\)|)\\s*(\\((?P<from_ip>[\\da-f\\.\\:]+)\\)|)\\s*by\\s+(?P<by_hostname>[\\w\\.\\-]+)\\s+with\\s+(?P<cipher>[\\w\\-]+)\\s+encrypted\\s+SMTP\", \"unknown\"), #unknown\n",
    "        (\"from\\s+(?P<from_hostname>[\\w\\.\\-]+)\\s+(\\(HELO\\s+(?P<from_name>[\\w\\.\\-]+)\\)|)\\s+\\((?P<envelope_from>[\\w\\.]+\\@[\\w\\.]+)\\@(?P<from_ip>[\\da-d\\.\\:]+)\\)\\s+by\\s+(?P<by_hostname>[\\w\\.\\-]+)\\s+with\\s+(?P<protocol>\\w+)\", \"unknown\"), #unknown\n",
    "        (\"from\\s+(?P<from_hostname>[\\w\\.\\-]+)\\s+\\(HELO\\s+(?P<from_name>[\\w\\.\\-\\?]+)\\)\\s+\\(\\w+\\@[\\w\\.]+\\@(?P<from_ip>[\\d\\.a-f\\-]+)_\\w+\\)\\s+by\\s+(?P<by_hostname>[\\w\\.\\-\\:]+)\\s+with\\s+(?P<protocol>\\w+)\", \"unknown\"), #unknown\n",
    "        (\"from\\s+(?P<from_name>[\\w\\.\\-\\[\\]]+)\\s+\\(\\[(?P<from_ip>[\\da-f\\.\\:]+)\\]\\)\\s+by\\s+(?P<by_hostname>[\\w\\.\\-]+)\\s+\\(\\[(?P<by_ip>[\\d\\.a-f\\:]+)\\]\\)\\s+with\\s+(?P<protocol>\\w+)\", \"unknown\"), #unknown\n",
    "        ]\n",
    "    @staticmethod\n",
    "    def parse(header):\n",
    "        parts = header.split(\";\")\n",
    "        if len(parts) != 2:\n",
    "            return None\n",
    "\n",
    "        data = {}\n",
    "\n",
    "        # parse the hard part\n",
    "        found = False\n",
    "        for regex in ReceivedParser.regexes:\n",
    "            match = re.match(regex[0], parts[0], re.IGNORECASE)\n",
    "            if match:\n",
    "                data['server'] = regex[1]\n",
    "                found = True\n",
    "                break\n",
    "\n",
    "        if not found:\n",
    "            return None\n",
    "        return {**data, **match.groupdict()}"
   ]
  },
  {
   "cell_type": "code",
   "execution_count": 61,
   "id": "0c61d385-4e41-490d-9573-6cb7450101d1",
   "metadata": {
    "tags": []
   },
   "outputs": [],
   "source": [
    "received_parser = ReceivedParser()"
   ]
  },
  {
   "cell_type": "code",
   "execution_count": 62,
   "id": "31e6af19-f809-4cb0-be4e-63e9e81646de",
   "metadata": {
    "tags": []
   },
   "outputs": [],
   "source": [
    "def check_if_valid(dict_to_check, str_val):\n",
    "    if dict_to_check is None:\n",
    "        return False\n",
    "    elif str_val not in dict_to_check:\n",
    "        return False\n",
    "    elif dict_to_check[str_val] is None:\n",
    "        return False\n",
    "    else:\n",
    "        return True"
   ]
  },
  {
   "cell_type": "code",
   "execution_count": 63,
   "id": "515e8ce7-03da-46c4-ace7-6a075377b2a1",
   "metadata": {
    "tags": []
   },
   "outputs": [],
   "source": [
    "# One-Hot encoding, new columns: conseq_num_received_is_one, conseq_received_good, conseq_received_bad, conseq_received_unknown (All values are 0 or 1)\n",
    "\n",
    "def check_conseq_received_domain(row):\n",
    "    num_received = row[\"hops\"]\n",
    "    if num_received == 1:\n",
    "        return pd.Series([1, 0, 0, 0])\n",
    "\n",
    "    col_name_base = \"received\"\n",
    "    for i in range(1, num_received):\n",
    "        curr_col = col_name_base + str(i)\n",
    "        next_col = col_name_base + str(i + 1)\n",
    "\n",
    "        curr_val = row[curr_col]\n",
    "        next_val = row[next_col]\n",
    "\n",
    "        from_vals_dict = received_parser.parse(curr_val)\n",
    "        by_val_dict = received_parser.parse(next_val)\n",
    "\n",
    "        by_valid = check_if_valid(by_val_dict, \"by_hostname\")\n",
    "        from_hostname_valid = check_if_valid(from_vals_dict, \"from_hostname\")\n",
    "        from_name_valid = check_if_valid(from_vals_dict, \"from_name\")\n",
    "\n",
    "        if by_valid:\n",
    "            # Both are valid case\n",
    "            if from_hostname_valid and from_name_valid:\n",
    "                if (\n",
    "                    from_vals_dict[\"from_name\"] == by_val_dict[\"by_hostname\"]\n",
    "                    or from_vals_dict[\"from_hostname\"] == by_val_dict[\"by_hostname\"]\n",
    "                ):\n",
    "                    continue\n",
    "                else:\n",
    "                    # print(\"K Val: \" + str(i) +\"  FROMHOSTNAME: \" + from_vals_dict['from_hostname'] + \"  FROMNAME: \" + from_vals_dict['from_name'] + \"   BY: \" + by_val_dict['by_hostname'])\n",
    "                    return pd.Series([0, 0, 1, 0])\n",
    "\n",
    "            # Neither are valid case\n",
    "            elif not from_hostname_valid and not from_name_valid:\n",
    "                # Check my way before saying its invalid\n",
    "                val = my_checks(curr_val, next_val)\n",
    "                if isinstance(val, str):\n",
    "                    continue\n",
    "                else:\n",
    "                    return val\n",
    "\n",
    "            # From hostname is valid case\n",
    "            elif from_hostname_valid:\n",
    "                if from_vals_dict[\"from_hostname\"] == by_val_dict[\"by_hostname\"]:\n",
    "                    continue\n",
    "                else:\n",
    "                    # print(\"K Val: \" + str(i) +\"  FROMHOSTNAME: \" + from_vals_dict['from_hostname'] + \"   BY: \" + by_val_dict['by_hostname'])\n",
    "                    return pd.Series([0, 0, 1, 0])\n",
    "\n",
    "            # From name is valid case\n",
    "            elif from_name_valid:\n",
    "                if from_vals_dict[\"from_name\"] == by_val_dict[\"by_hostname\"]:\n",
    "                    continue\n",
    "                else:\n",
    "                    # print(\"K Val: \" + str(i) + \"  FROMNAME: \" + from_vals_dict['from_name'] + \"   BY: \" + by_val_dict['by_hostname'])\n",
    "                    return pd.Series([0, 0, 1, 0])\n",
    "        else:\n",
    "            # Check my way before saying its invalid\n",
    "            val = my_checks(curr_val, next_val)\n",
    "            if isinstance(val, str):\n",
    "                continue\n",
    "            else:\n",
    "                return val\n",
    "\n",
    "    # All checks worked out, return a good result\n",
    "    return pd.Series([0, 1, 0, 0])\n",
    "\n",
    "\n",
    "def my_checks(curr_val, next_val):\n",
    "    first_domain_from = re.search(r\"((?<=\\bfrom\\s)[^\\s]+)\", curr_val)\n",
    "    second_domain_from = re.search(r\"((?<=\\().*?(?=\\[))\", curr_val)\n",
    "    domain_by = re.search(r\"((?<=\\bby\\s)[^\\s]+)\", next_val)\n",
    "\n",
    "    if domain_by is not None:\n",
    "        # Both are valid case\n",
    "        if first_domain_from is not None and second_domain_from is not None:\n",
    "            if first_domain_from.group(0) == domain_by.group(\n",
    "                0\n",
    "            ) or second_domain_from.group(0) == domain_by.group(0):\n",
    "                return \"continue\"\n",
    "            else:\n",
    "                return pd.Series([0, 0, 1, 0])\n",
    "\n",
    "        # Neither are valid case\n",
    "        if first_domain_from is None and second_domain_from is None:\n",
    "            return pd.Series([0, 0, 0, 1])\n",
    "\n",
    "        # One is valid case\n",
    "        if first_domain_from is not None:\n",
    "            if first_domain_from.group(0) == domain_by.group(0):\n",
    "                return \"continue\"\n",
    "            else:\n",
    "                return pd.Series([0, 0, 1, 0])\n",
    "\n",
    "        # One is valid case\n",
    "        if second_domain_from is not None:\n",
    "            if second_domain_from.group(0) == domain_by.group(0):\n",
    "                return \"continue\"\n",
    "            else:\n",
    "                return pd.Series([0, 0, 1, 0])\n",
    "\n",
    "    else:\n",
    "        return pd.Series([0, 0, 0, 1])\n"
   ]
  },
  {
   "cell_type": "code",
   "execution_count": 64,
   "id": "0e79cdfa-3952-411c-98b6-2decfaad4f14",
   "metadata": {
    "tags": []
   },
   "outputs": [],
   "source": [
    "df[['conseq_num_received_is_one', 'conseq_received_good', \n",
    "   'conseq_received_bad', 'conseq_received_unknown']] = df.apply(check_conseq_received_domain, axis=1)"
   ]
  },
  {
   "cell_type": "code",
   "execution_count": 65,
   "id": "ccd8b31c-d58a-49ef-8575-0d4a7478d5ec",
   "metadata": {
    "tags": []
   },
   "outputs": [],
   "source": [
    "final_features_list.extend(['conseq_num_received_is_one', 'conseq_received_good', \n",
    "   'conseq_received_bad', 'conseq_received_unknown'])"
   ]
  },
  {
   "cell_type": "markdown",
   "id": "6c46abb0-52db-4f13-8a8b-439096073f85",
   "metadata": {
    "tags": []
   },
   "source": [
    "## **Export Final Dataset**\n",
    "___\n"
   ]
  },
  {
   "cell_type": "code",
   "execution_count": 66,
   "id": "249c154a-7f5b-4d4e-a600-8a58500a775b",
   "metadata": {
    "tags": []
   },
   "outputs": [
    {
     "data": {
      "text/html": [
       "<div>\n",
       "<style scoped>\n",
       "    .dataframe tbody tr th:only-of-type {\n",
       "        vertical-align: middle;\n",
       "    }\n",
       "\n",
       "    .dataframe tbody tr th {\n",
       "        vertical-align: top;\n",
       "    }\n",
       "\n",
       "    .dataframe thead th {\n",
       "        text-align: right;\n",
       "    }\n",
       "</style>\n",
       "<table border=\"1\" class=\"dataframe\">\n",
       "  <thead>\n",
       "    <tr style=\"text-align: right;\">\n",
       "      <th></th>\n",
       "      <th>hops</th>\n",
       "      <th>time_zone</th>\n",
       "      <th>x-priority</th>\n",
       "      <th>content-length</th>\n",
       "      <th>lines</th>\n",
       "      <th>missing_received1</th>\n",
       "      <th>missing_received2</th>\n",
       "      <th>missing_received3</th>\n",
       "      <th>missing_received4</th>\n",
       "      <th>missing_received5</th>\n",
       "      <th>...</th>\n",
       "      <th>number_replies</th>\n",
       "      <th>span_time</th>\n",
       "      <th>conseq_received_date</th>\n",
       "      <th>date_comp_date_received</th>\n",
       "      <th>email_match_from_reply-to</th>\n",
       "      <th>conseq_num_received_is_one</th>\n",
       "      <th>conseq_received_good</th>\n",
       "      <th>conseq_received_bad</th>\n",
       "      <th>conseq_received_unknown</th>\n",
       "      <th>label</th>\n",
       "    </tr>\n",
       "  </thead>\n",
       "  <tbody>\n",
       "    <tr>\n",
       "      <th>0</th>\n",
       "      <td>0</td>\n",
       "      <td>19</td>\n",
       "      <td>0.0</td>\n",
       "      <td>0.0</td>\n",
       "      <td></td>\n",
       "      <td>0.0</td>\n",
       "      <td>0.0</td>\n",
       "      <td>0.0</td>\n",
       "      <td>0.0</td>\n",
       "      <td>0.0</td>\n",
       "      <td>...</td>\n",
       "      <td>0</td>\n",
       "      <td>-1</td>\n",
       "      <td>0</td>\n",
       "      <td>0</td>\n",
       "      <td>0</td>\n",
       "      <td>0</td>\n",
       "      <td>1</td>\n",
       "      <td>0</td>\n",
       "      <td>0</td>\n",
       "      <td>1</td>\n",
       "    </tr>\n",
       "    <tr>\n",
       "      <th>1</th>\n",
       "      <td>3</td>\n",
       "      <td>1</td>\n",
       "      <td>3.0</td>\n",
       "      <td>0.0</td>\n",
       "      <td></td>\n",
       "      <td>0.0</td>\n",
       "      <td>0.0</td>\n",
       "      <td>0.0</td>\n",
       "      <td>0.0</td>\n",
       "      <td>0.0</td>\n",
       "      <td>...</td>\n",
       "      <td>0</td>\n",
       "      <td>262813</td>\n",
       "      <td>1</td>\n",
       "      <td>0</td>\n",
       "      <td>1</td>\n",
       "      <td>0</td>\n",
       "      <td>0</td>\n",
       "      <td>1</td>\n",
       "      <td>0</td>\n",
       "      <td>1</td>\n",
       "    </tr>\n",
       "    <tr>\n",
       "      <th>2</th>\n",
       "      <td>3</td>\n",
       "      <td>0</td>\n",
       "      <td>3.0</td>\n",
       "      <td>0.0</td>\n",
       "      <td></td>\n",
       "      <td>0.0</td>\n",
       "      <td>0.0</td>\n",
       "      <td>0.0</td>\n",
       "      <td>0.0</td>\n",
       "      <td>0.0</td>\n",
       "      <td>...</td>\n",
       "      <td>0</td>\n",
       "      <td>3048</td>\n",
       "      <td>1</td>\n",
       "      <td>1</td>\n",
       "      <td>1</td>\n",
       "      <td>0</td>\n",
       "      <td>1</td>\n",
       "      <td>0</td>\n",
       "      <td>0</td>\n",
       "      <td>1</td>\n",
       "    </tr>\n",
       "    <tr>\n",
       "      <th>3</th>\n",
       "      <td>3</td>\n",
       "      <td>0</td>\n",
       "      <td>3.0</td>\n",
       "      <td>0.0</td>\n",
       "      <td></td>\n",
       "      <td>0.0</td>\n",
       "      <td>0.0</td>\n",
       "      <td>0.0</td>\n",
       "      <td>0.0</td>\n",
       "      <td>0.0</td>\n",
       "      <td>...</td>\n",
       "      <td>0</td>\n",
       "      <td>3227</td>\n",
       "      <td>1</td>\n",
       "      <td>0</td>\n",
       "      <td>1</td>\n",
       "      <td>0</td>\n",
       "      <td>1</td>\n",
       "      <td>0</td>\n",
       "      <td>0</td>\n",
       "      <td>1</td>\n",
       "    </tr>\n",
       "    <tr>\n",
       "      <th>4</th>\n",
       "      <td>3</td>\n",
       "      <td>19</td>\n",
       "      <td>0.0</td>\n",
       "      <td>0.0</td>\n",
       "      <td></td>\n",
       "      <td>0.0</td>\n",
       "      <td>0.0</td>\n",
       "      <td>0.0</td>\n",
       "      <td>0.0</td>\n",
       "      <td>0.0</td>\n",
       "      <td>...</td>\n",
       "      <td>0</td>\n",
       "      <td>-1</td>\n",
       "      <td>1</td>\n",
       "      <td>0</td>\n",
       "      <td>0</td>\n",
       "      <td>0</td>\n",
       "      <td>1</td>\n",
       "      <td>0</td>\n",
       "      <td>0</td>\n",
       "      <td>1</td>\n",
       "    </tr>\n",
       "    <tr>\n",
       "      <th>...</th>\n",
       "      <td>...</td>\n",
       "      <td>...</td>\n",
       "      <td>...</td>\n",
       "      <td>...</td>\n",
       "      <td>...</td>\n",
       "      <td>...</td>\n",
       "      <td>...</td>\n",
       "      <td>...</td>\n",
       "      <td>...</td>\n",
       "      <td>...</td>\n",
       "      <td>...</td>\n",
       "      <td>...</td>\n",
       "      <td>...</td>\n",
       "      <td>...</td>\n",
       "      <td>...</td>\n",
       "      <td>...</td>\n",
       "      <td>...</td>\n",
       "      <td>...</td>\n",
       "      <td>...</td>\n",
       "      <td>...</td>\n",
       "      <td>...</td>\n",
       "    </tr>\n",
       "    <tr>\n",
       "      <th>32162</th>\n",
       "      <td>2</td>\n",
       "      <td>20</td>\n",
       "      <td>0.0</td>\n",
       "      <td>3408.0</td>\n",
       "      <td>83.0</td>\n",
       "      <td>0.0</td>\n",
       "      <td>0.0</td>\n",
       "      <td>0.0</td>\n",
       "      <td>0.0</td>\n",
       "      <td>0.0</td>\n",
       "      <td>...</td>\n",
       "      <td>0</td>\n",
       "      <td>0</td>\n",
       "      <td>0</td>\n",
       "      <td>1</td>\n",
       "      <td>0</td>\n",
       "      <td>0</td>\n",
       "      <td>1</td>\n",
       "      <td>0</td>\n",
       "      <td>0</td>\n",
       "      <td>0</td>\n",
       "    </tr>\n",
       "    <tr>\n",
       "      <th>32163</th>\n",
       "      <td>3</td>\n",
       "      <td>20</td>\n",
       "      <td>0.0</td>\n",
       "      <td>1180.0</td>\n",
       "      <td>24.0</td>\n",
       "      <td>0.0</td>\n",
       "      <td>0.0</td>\n",
       "      <td>0.0</td>\n",
       "      <td>0.0</td>\n",
       "      <td>0.0</td>\n",
       "      <td>...</td>\n",
       "      <td>0</td>\n",
       "      <td>-810</td>\n",
       "      <td>1</td>\n",
       "      <td>1</td>\n",
       "      <td>0</td>\n",
       "      <td>0</td>\n",
       "      <td>0</td>\n",
       "      <td>0</td>\n",
       "      <td>1</td>\n",
       "      <td>0</td>\n",
       "    </tr>\n",
       "    <tr>\n",
       "      <th>32164</th>\n",
       "      <td>2</td>\n",
       "      <td>20</td>\n",
       "      <td>0.0</td>\n",
       "      <td>6766.0</td>\n",
       "      <td>108.0</td>\n",
       "      <td>0.0</td>\n",
       "      <td>0.0</td>\n",
       "      <td>0.0</td>\n",
       "      <td>0.0</td>\n",
       "      <td>0.0</td>\n",
       "      <td>...</td>\n",
       "      <td>0</td>\n",
       "      <td>135</td>\n",
       "      <td>0</td>\n",
       "      <td>1</td>\n",
       "      <td>0</td>\n",
       "      <td>0</td>\n",
       "      <td>1</td>\n",
       "      <td>0</td>\n",
       "      <td>0</td>\n",
       "      <td>0</td>\n",
       "    </tr>\n",
       "    <tr>\n",
       "      <th>32165</th>\n",
       "      <td>6</td>\n",
       "      <td>2</td>\n",
       "      <td>0.0</td>\n",
       "      <td>1929.0</td>\n",
       "      <td>41.0</td>\n",
       "      <td>0.0</td>\n",
       "      <td>0.0</td>\n",
       "      <td>0.0</td>\n",
       "      <td>0.0</td>\n",
       "      <td>0.0</td>\n",
       "      <td>...</td>\n",
       "      <td>3</td>\n",
       "      <td>-117</td>\n",
       "      <td>1</td>\n",
       "      <td>0</td>\n",
       "      <td>0</td>\n",
       "      <td>0</td>\n",
       "      <td>0</td>\n",
       "      <td>0</td>\n",
       "      <td>1</td>\n",
       "      <td>0</td>\n",
       "    </tr>\n",
       "    <tr>\n",
       "      <th>32166</th>\n",
       "      <td>4</td>\n",
       "      <td>2</td>\n",
       "      <td>0.0</td>\n",
       "      <td>735.0</td>\n",
       "      <td>22.0</td>\n",
       "      <td>0.0</td>\n",
       "      <td>0.0</td>\n",
       "      <td>0.0</td>\n",
       "      <td>0.0</td>\n",
       "      <td>0.0</td>\n",
       "      <td>...</td>\n",
       "      <td>1</td>\n",
       "      <td>-19298</td>\n",
       "      <td>1</td>\n",
       "      <td>1</td>\n",
       "      <td>0</td>\n",
       "      <td>0</td>\n",
       "      <td>1</td>\n",
       "      <td>0</td>\n",
       "      <td>0</td>\n",
       "      <td>0</td>\n",
       "    </tr>\n",
       "  </tbody>\n",
       "</table>\n",
       "<p>32167 rows × 85 columns</p>\n",
       "</div>"
      ],
      "text/plain": [
       "       hops  time_zone  x-priority  content-length  lines  missing_received1  \\\n",
       "0         0         19         0.0             0.0                       0.0   \n",
       "1         3          1         3.0             0.0                       0.0   \n",
       "2         3          0         3.0             0.0                       0.0   \n",
       "3         3          0         3.0             0.0                       0.0   \n",
       "4         3         19         0.0             0.0                       0.0   \n",
       "...     ...        ...         ...             ...    ...                ...   \n",
       "32162     2         20         0.0          3408.0   83.0                0.0   \n",
       "32163     3         20         0.0          1180.0   24.0                0.0   \n",
       "32164     2         20         0.0          6766.0  108.0                0.0   \n",
       "32165     6          2         0.0          1929.0   41.0                0.0   \n",
       "32166     4          2         0.0           735.0   22.0                0.0   \n",
       "\n",
       "       missing_received2  missing_received3  missing_received4  \\\n",
       "0                    0.0                0.0                0.0   \n",
       "1                    0.0                0.0                0.0   \n",
       "2                    0.0                0.0                0.0   \n",
       "3                    0.0                0.0                0.0   \n",
       "4                    0.0                0.0                0.0   \n",
       "...                  ...                ...                ...   \n",
       "32162                0.0                0.0                0.0   \n",
       "32163                0.0                0.0                0.0   \n",
       "32164                0.0                0.0                0.0   \n",
       "32165                0.0                0.0                0.0   \n",
       "32166                0.0                0.0                0.0   \n",
       "\n",
       "       missing_received5  ...  number_replies  span_time  \\\n",
       "0                    0.0  ...               0         -1   \n",
       "1                    0.0  ...               0     262813   \n",
       "2                    0.0  ...               0       3048   \n",
       "3                    0.0  ...               0       3227   \n",
       "4                    0.0  ...               0         -1   \n",
       "...                  ...  ...             ...        ...   \n",
       "32162                0.0  ...               0          0   \n",
       "32163                0.0  ...               0       -810   \n",
       "32164                0.0  ...               0        135   \n",
       "32165                0.0  ...               3       -117   \n",
       "32166                0.0  ...               1     -19298   \n",
       "\n",
       "       conseq_received_date  date_comp_date_received  \\\n",
       "0                         0                        0   \n",
       "1                         1                        0   \n",
       "2                         1                        1   \n",
       "3                         1                        0   \n",
       "4                         1                        0   \n",
       "...                     ...                      ...   \n",
       "32162                     0                        1   \n",
       "32163                     1                        1   \n",
       "32164                     0                        1   \n",
       "32165                     1                        0   \n",
       "32166                     1                        1   \n",
       "\n",
       "       email_match_from_reply-to  conseq_num_received_is_one  \\\n",
       "0                              0                           0   \n",
       "1                              1                           0   \n",
       "2                              1                           0   \n",
       "3                              1                           0   \n",
       "4                              0                           0   \n",
       "...                          ...                         ...   \n",
       "32162                          0                           0   \n",
       "32163                          0                           0   \n",
       "32164                          0                           0   \n",
       "32165                          0                           0   \n",
       "32166                          0                           0   \n",
       "\n",
       "       conseq_received_good  conseq_received_bad  conseq_received_unknown  \\\n",
       "0                         1                    0                        0   \n",
       "1                         0                    1                        0   \n",
       "2                         1                    0                        0   \n",
       "3                         1                    0                        0   \n",
       "4                         1                    0                        0   \n",
       "...                     ...                  ...                      ...   \n",
       "32162                     1                    0                        0   \n",
       "32163                     0                    0                        1   \n",
       "32164                     1                    0                        0   \n",
       "32165                     0                    0                        1   \n",
       "32166                     1                    0                        0   \n",
       "\n",
       "       label  \n",
       "0          1  \n",
       "1          1  \n",
       "2          1  \n",
       "3          1  \n",
       "4          1  \n",
       "...      ...  \n",
       "32162      0  \n",
       "32163      0  \n",
       "32164      0  \n",
       "32165      0  \n",
       "32166      0  \n",
       "\n",
       "[32167 rows x 85 columns]"
      ]
     },
     "execution_count": 66,
     "metadata": {},
     "output_type": "execute_result"
    }
   ],
   "source": [
    "final_features_list.append('label')\n",
    "\n",
    "df_final = df[final_features_list]\n",
    "df_final"
   ]
  },
  {
   "cell_type": "code",
   "execution_count": 67,
   "id": "c41751e8-6e98-46c6-aae9-18bdee61448e",
   "metadata": {},
   "outputs": [],
   "source": [
    "df_final.to_csv('../datasets/preprocessed_nazario_trec07_headers.csv', index=False)"
   ]
  }
 ],
 "metadata": {
  "kernelspec": {
   "display_name": "pi",
   "language": "python",
   "name": "pi"
  },
  "language_info": {
   "codemirror_mode": {
    "name": "ipython",
    "version": 3
   },
   "file_extension": ".py",
   "mimetype": "text/x-python",
   "name": "python",
   "nbconvert_exporter": "python",
   "pygments_lexer": "ipython3",
   "version": "3.10.9"
  }
 },
 "nbformat": 4,
 "nbformat_minor": 5
}
